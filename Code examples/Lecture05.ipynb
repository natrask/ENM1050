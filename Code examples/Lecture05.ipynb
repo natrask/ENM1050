{
  "nbformat": 4,
  "nbformat_minor": 0,
  "metadata": {
    "colab": {
      "provenance": [],
      "include_colab_link": true
    },
    "kernelspec": {
      "name": "python3",
      "display_name": "Python 3"
    },
    "language_info": {
      "name": "python"
    }
  },
  "cells": [
    {
      "cell_type": "markdown",
      "metadata": {
        "id": "view-in-github",
        "colab_type": "text"
      },
      "source": [
        "<a href=\"https://colab.research.google.com/github/natrask/ENM1050/blob/main/Code%20examples/Lecture05.ipynb\" target=\"_parent\"><img src=\"https://colab.research.google.com/assets/colab-badge.svg\" alt=\"Open In Colab\"/></a>"
      ]
    },
    {
      "cell_type": "markdown",
      "source": [
        "# **A few changes of note**\n",
        "1. Only one in-class doc, which we'll work on both Monday and Wednesday\n",
        "1. This should lower pressure to finish in one class, which means you can **take time to understand what you are doing INSTEAD of rushing through it.**\n",
        "1. This also leaves us some more time on Wednesdays to talk about numerical methods and gain a better understanding of how they work, as well as how to approach coding more complex programs"
      ],
      "metadata": {
        "id": "HetQAoJEbhXI"
      }
    },
    {
      "cell_type": "markdown",
      "source": [
        "#**While Loops**#"
      ],
      "metadata": {
        "id": "9Mn5gAm1sA35"
      }
    },
    {
      "cell_type": "markdown",
      "source": [
        "#CONTRIBUTORS#\n",
        "\n",
        "This in-class exercise is to be done in pairs. Add the names of the two students in this text block.\n"
      ],
      "metadata": {
        "id": "5oIyjTdu74cb"
      }
    },
    {
      "cell_type": "markdown",
      "source": [
        "## While Loops"
      ],
      "metadata": {
        "id": "WJipQ7A6NQHi"
      }
    },
    {
      "cell_type": "markdown",
      "source": [
        "Last week, we learned how to execute the same code multiple times using a `for` loop. But what happens if you don't know how many times you want the code to run?\n",
        "\n",
        "For example, in the dichotomous key, the bonus problem asked you to identify situations when the user inputs an invalid answer. Let's say now that you also want to keep asking them the same question until they input a valid answer. How many times you need to ask them depends on how long it takes for them to provide an answer that you can use."
      ],
      "metadata": {
        "id": "gh0KAfhrNRlB"
      }
    },
    {
      "cell_type": "markdown",
      "source": [
        "**Your turn:** Run the following example and describe in a text block below what happens."
      ],
      "metadata": {
        "id": "nmx1dTAWNyj2"
      }
    },
    {
      "cell_type": "code",
      "source": [
        "yorn = \"y\"\n",
        "while (yorn != \"n\"):\n",
        "  yorn = input(\"Again? (y/n)  \")"
      ],
      "metadata": {
        "id": "wEk2Rzl3N3oH"
      },
      "execution_count": null,
      "outputs": []
    },
    {
      "cell_type": "markdown",
      "source": [
        "This code is an example of a **while loop.** A while loop takes the following form:\n",
        "\n",
        "```\n",
        "while CONDITION:\n",
        "  BODY\n",
        "```\n",
        "\n",
        "In this loop,\n",
        "* The `BODY` executes as long as the `CONDITION` is true\n",
        "* If the `CONDITION` is not true at the start, the `BODY` never executes\n",
        "* The `CONDITION` is checked every time the `BODY` executes\n",
        "\n",
        "Looking at the `while` loop above, the variable `yorn` begins with a value `\"y\"`, so the condition `yorn!=\"n\"` is true and the body executes. The body requests input from the user and overwrites the value of `yorn` with that input. Every time the user is asked for input, the condition `yorn!=\"n\"` is checked again. The loop terminates when the condition becomes false, i.e., when `yorn=\"n\"`."
      ],
      "metadata": {
        "id": "AdGXsa5vONpt"
      }
    },
    {
      "cell_type": "markdown",
      "source": [
        "#Put it together\n",
        "We can combine while loops with for loops and if statements."
      ],
      "metadata": {
        "id": "XFBVT2MxQMjD"
      }
    },
    {
      "cell_type": "markdown",
      "source": [
        "**Your turn:** Below is the beginning of a \"Guess my number\" game.\n",
        "1. Fill in the logic for the game so that the program tells the user if their guess is too high or too low or correct.\n",
        "1. Wrap your logic in a while loop so that the program continues to ask the user for new guesses until they get the number right."
      ],
      "metadata": {
        "id": "9My6aBXvPLUe"
      }
    },
    {
      "cell_type": "code",
      "source": [
        "the_num = 57  # the number to guess\n",
        "\n",
        "print(\"Guess a number between 1 and 100.\")\n",
        "guess = int(input(\"What is your guess? \"))\n",
        "\n",
        "# You fill in this part"
      ],
      "metadata": {
        "id": "Nj-VfK64Pp0s"
      },
      "execution_count": null,
      "outputs": []
    },
    {
      "cell_type": "markdown",
      "source": [
        "**(Optional challenge) Your turn:** Update your code above to generate a random number for the game. Once the game is over, ask the user if they want to play again. Let them keep playing the game until they tell you they want to stop.\n",
        "\n",
        "The random package allows you to generate random numbers in your code.\n",
        "The following code imports the random package and then generates a random integer between 1 and 100 (inclusive).\n",
        "\n",
        "```\n",
        "import random\n",
        "x = random.randint(1,100)\n",
        "```\n",
        "\n",
        "\n"
      ],
      "metadata": {
        "id": "KiLj187YQja4"
      }
    },
    {
      "cell_type": "markdown",
      "source": [
        "## Overwriting Variables to Create Iterators"
      ],
      "metadata": {
        "id": "irHLTyn5Fizp"
      }
    },
    {
      "cell_type": "markdown",
      "source": [
        "So far, we have learned to create variables and assign values like so:\n",
        "\n",
        "```\n",
        "a = 1\n",
        "b = a + 1\n",
        "```"
      ],
      "metadata": {
        "id": "6-dahodvLVBU"
      }
    },
    {
      "cell_type": "markdown",
      "source": [
        "Let's take a look at a variation on this code:"
      ],
      "metadata": {
        "id": "xYnXizhQLhFT"
      }
    },
    {
      "cell_type": "code",
      "source": [
        "a = 1\n",
        "a = a + 1\n",
        "print(a)"
      ],
      "metadata": {
        "id": "l872X3IFLo21"
      },
      "execution_count": null,
      "outputs": []
    },
    {
      "cell_type": "markdown",
      "source": [
        "Unlike in mathematics, where this would be an invalid equation, this is **valid** Python code.\n",
        "\n",
        "Python executes the lines sequentially, so the order is:\n",
        "1. Line 1: Create a new variable `a=1`.\n",
        "1. Line 2, part 1: Pull the value of `a` and evalute the expression `a+1`\n",
        "1. Line 2, part 2: Store the result into the variable `a`\n",
        "\n",
        "The result is that `a = 2`."
      ],
      "metadata": {
        "id": "0wU0yl48Lq17"
      }
    },
    {
      "cell_type": "markdown",
      "source": [
        "**Your turn:** Run the following code. In a text block below, describe the output and explain why it looks the way it does."
      ],
      "metadata": {
        "id": "qSQhngqFMPtz"
      }
    },
    {
      "cell_type": "code",
      "source": [
        "counter = 0\n",
        "while counter < 5:\n",
        "  print(counter)\n",
        "  counter = counter + 1"
      ],
      "metadata": {
        "id": "OjWUNEPeMV_z"
      },
      "execution_count": null,
      "outputs": []
    },
    {
      "cell_type": "markdown",
      "source": [
        "**Your turn:** Write a while loop to answer the following question:\n",
        "\n",
        "> What is the largest power of X that is smaller than Y?\n",
        "\n",
        "Output the result in the form: X^# = ######. Run the code with X=2 and Y=1,000,000.\n"
      ],
      "metadata": {
        "id": "aFSuj-pYVN47"
      }
    },
    {
      "cell_type": "markdown",
      "source": [
        "## Careful with your Iterators!"
      ],
      "metadata": {
        "id": "RZhcw9TVYWUN"
      }
    },
    {
      "cell_type": "markdown",
      "source": [
        "With while loops, correct ordering of your code and **checking for typos** becomes more important than ever! Compare the versions of the code below."
      ],
      "metadata": {
        "id": "zMYeEJ-MYmOU"
      }
    },
    {
      "cell_type": "code",
      "source": [
        "# BASE VERSION\n",
        "i = 5\n",
        "while i > 0:\n",
        "  j = 5\n",
        "  while j > 0:\n",
        "    print(i,j)\n",
        "    j = j - 1\n",
        "  i = i - 1"
      ],
      "metadata": {
        "id": "s2XjBkuyY7vM"
      },
      "execution_count": null,
      "outputs": []
    },
    {
      "cell_type": "code",
      "source": [
        "# VERSION 1\n",
        "i = 5\n",
        "while i > 0:\n",
        "  j = 5\n",
        "  while j > 0:\n",
        "    print(i,j)\n",
        "    j = j - 1\n",
        "    i = i - 1"
      ],
      "metadata": {
        "id": "zlEkaIfNYYe9"
      },
      "execution_count": null,
      "outputs": []
    },
    {
      "cell_type": "code",
      "source": [
        "# VERSION 2\n",
        "i = 5\n",
        "j = 5\n",
        "while i > 0:\n",
        "  while j > 0:\n",
        "    print(i,j)\n",
        "    j = j - 1\n",
        "  i = i - 1"
      ],
      "metadata": {
        "id": "ri8RrQ-wZEFN"
      },
      "execution_count": null,
      "outputs": []
    },
    {
      "cell_type": "code",
      "source": [
        "# VERSION 3\n",
        "i = 5\n",
        "while i > 0:\n",
        "  j = 5\n",
        "  while i > 0:\n",
        "    print(i,j)\n",
        "    j = j - 1\n",
        "  i = i - 1"
      ],
      "metadata": {
        "id": "qmZqiivhZLL1"
      },
      "execution_count": null,
      "outputs": []
    },
    {
      "cell_type": "markdown",
      "source": [
        "**Your turn:** Run each of the code blocks. Describe in a text block below what each version outputs and how the differences in the code created the change in output between that version and the base version. (Note: Version 3 is what we call an *infinite loop*, that is, it never stops running. Click on the square stop button next to the code to halt the execution of the code.)"
      ],
      "metadata": {
        "id": "hbpuGRF1ZNMS"
      }
    },
    {
      "cell_type": "markdown",
      "source": [
        "# Comparing While Loops and For Loops\n",
        "\n",
        "In many instances, you can choose to use either a while loop or a for loop and get the same functionality. Take a look at the following 2 examples:"
      ],
      "metadata": {
        "id": "GSAk1gXAeNBk"
      }
    },
    {
      "cell_type": "code",
      "source": [
        "days = [\"Monday\", \"Tuesday\", \"Wednesday\", \"Thursday\", \"Friday\"]\n",
        "sales = [10, 23, 12, 45, 21]\n",
        "\n",
        "for i in range(len(days)):\n",
        "  print(\"On \" + days[i] + \", I sold \" + str(sales[i]) + \" peanuts.\")"
      ],
      "metadata": {
        "id": "ziuQwe03GnkC"
      },
      "execution_count": null,
      "outputs": []
    },
    {
      "cell_type": "code",
      "source": [
        "days = [\"Monday\", \"Tuesday\", \"Wednesday\", \"Thursday\", \"Friday\"]\n",
        "sales = [10, 23, 12, 45, 21]\n",
        "\n",
        "i = 0\n",
        "while i < len(days):\n",
        "  print(\"On \" + days[i] + \", I sold \" + str(sales[i]) + \" peanuts.\")\n",
        "  i = i + 1"
      ],
      "metadata": {
        "id": "mMCygRVoHV3N"
      },
      "execution_count": null,
      "outputs": []
    },
    {
      "cell_type": "markdown",
      "source": [
        "**Your turn:** Describe the major code differences between using a for loop vs a while loop, using the above code as references."
      ],
      "metadata": {
        "id": "hKMOSgexHhi7"
      }
    },
    {
      "cell_type": "markdown",
      "source": [
        "**Your turn:** Convert the following for loop into a while loop."
      ],
      "metadata": {
        "id": "0PF_dMY0Hs_F"
      }
    },
    {
      "cell_type": "code",
      "source": [
        "for a in range(2, 21, 2):\n",
        "  print(str(a) + \"/2 = \" + str(a/2))"
      ],
      "metadata": {
        "id": "XgudiAZ6HxFy"
      },
      "execution_count": null,
      "outputs": []
    },
    {
      "cell_type": "markdown",
      "source": [
        "**Your turn:** Convert the following while loop into a for loop."
      ],
      "metadata": {
        "id": "1YHS5JzOH_YR"
      }
    },
    {
      "cell_type": "code",
      "source": [
        "counter = 100\n",
        "while counter > 0:\n",
        "  print(counter)\n",
        "  counter = counter - 10\n",
        "print(\"Done!\")"
      ],
      "metadata": {
        "id": "Zu-BSQuNICU3"
      },
      "execution_count": null,
      "outputs": []
    },
    {
      "cell_type": "markdown",
      "source": [
        "## Let's make the Dichotomous Key More Compact"
      ],
      "metadata": {
        "id": "SOL5pGlKS00h"
      }
    },
    {
      "cell_type": "markdown",
      "source": [
        "Loops allow us to simplify, generalize, and clean up our code. Now that we have access to while loops, we can re-write the dichotomous key with a lot less complexity.\n",
        "\n",
        "Take a look at the pseudocode below"
      ],
      "metadata": {
        "id": "xOMJ9oDVS6Mb"
      }
    },
    {
      "cell_type": "code",
      "source": [
        "# List of questions. Each entry takes the form:\n",
        "#      * Text of the question\n",
        "#      * Index to go to if the answer is \"yes\" / \"true\"\n",
        "#      * Index to go to if the answer is \"no\" / \"false\"\n",
        "# Indices of -1 indicate that the questioning should end\n",
        "questions = [[\"Does the rock have both layers and crystal grains?\", 1, 2],\n",
        "             [\"Do the layers look like ribbons or bands?\", 3, 4]\n",
        "             [\"I don't know!\", -1, -1],\n",
        "             [\"It's a Gneiss!\", -1, -1],\n",
        "             [\"It's a Schist!\", -1, -1]]\n",
        "\n",
        "question_id = 0\n",
        "\n",
        "# while the question_id >= 0\n",
        "#    ask the question (deal with the special case of the final question)\n",
        "#    store the response\n",
        "#    use the response to update the question id"
      ],
      "metadata": {
        "id": "LElz59CkTFjT"
      },
      "execution_count": null,
      "outputs": []
    },
    {
      "cell_type": "markdown",
      "source": [
        "Now, the actual logic of the code has become very compact, and you can expand the key indefinitely when you find new rocks just by updating the list at the top!\n",
        "\n",
        "**Your turn:** Fill in the code above with the new logic for the dichotomous key. Add in some more questions (no need to add the whole key) and check that the functionality is the same as what you got for HW 2. (Notice also that if you structure your code correctly, you get repeated questioning for invalid answers for free!)"
      ],
      "metadata": {
        "id": "ZtHI1iuTT6KT"
      }
    },
    {
      "cell_type": "markdown",
      "source": [
        "# Pseudocode the Homework\n",
        "(This part will not be graded on completion or correctness. Instead, use this time to make sure you understand the problem and have a plan of attack.)\n",
        "\n",
        "**Your turn:** Download and read through the HW 4 handout. We are going to be using while loops this week to solve equations.\n",
        "\n",
        "1. Read through the handout and make sure you understand how Newton's Method works.\n",
        "\n",
        "1. Try writing down an equation and a starting guess, and work through a few iterations of the algorithm by hand.\n",
        "\n",
        "1. Think about how you would structure the code for a single step of the algorithm.\n",
        "\n",
        "1. Now, how do you repeat these steps for the iterative solver? What do you set for your termination condition?\n",
        "\n",
        "1. Read through your pseudocode with your example. Do you get the same answer?\n",
        "\n"
      ],
      "metadata": {
        "id": "w6FAH0sngZN2"
      }
    },
    {
      "cell_type": "markdown",
      "source": [
        "#**Turning in assignments on Canvas**#\n",
        "\n",
        "In order to submit your assignment as a pair, you need to create a group on Canvas. This will enable you to both receive the same grade for one submission.\n",
        "1. On Canvas, navigate to `People > Groups > In-Class 07`.\n",
        "1. Find an empty group and add the names of both members of the pair.\n",
        "\n",
        "\n",
        "Submit your work as both an ipynb and a pdf to Canvas.\n",
        "1. Click on `File > Download .ipynb` to download the ipynb file. Do NOT clear your outputs before doing this step.\n",
        "1. Click on `File > Print` to print the notebook to a pdf. This is a backup for the graders in case we are not able to access or run your ipynb during grading.\n",
        "1. On Canvas, navigate to the relevant assignment and attach both the ipynb and pdf files to your submission.\n",
        "1. The student who did not submit should make sure that the group was created successfully by checking that they can also access the files on their Canvas page."
      ],
      "metadata": {
        "id": "k6vhGezQdNgh"
      }
    }
  ]
}