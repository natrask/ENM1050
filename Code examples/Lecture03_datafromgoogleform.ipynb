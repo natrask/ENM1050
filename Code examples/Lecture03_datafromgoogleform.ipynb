{
  "cells": [
    {
      "cell_type": "markdown",
      "metadata": {
        "colab_type": "text",
        "id": "view-in-github"
      },
      "source": [
        "<a href=\"https://colab.research.google.com/github/natrask/ENM1050/blob/main/Code%20examples/Lecture03_datafromgoogleform.ipynb\" target=\"_parent\"><img src=\"https://colab.research.google.com/assets/colab-badge.svg\" alt=\"Open In Colab\"/></a>"
      ]
    },
    {
      "cell_type": "code",
      "execution_count": 24,
      "metadata": {
        "id": "EBDqO_4PA0Ki"
      },
      "outputs": [],
      "source": [
        "# Import packages for connecting to Spreadsheets\n",
        "from google.colab import auth\n",
        "auth.authenticate_user()\n",
        "\n",
        "import gspread\n",
        "from google.auth import default\n",
        "creds, _ = default()\n",
        "\n",
        "# Authorize Colab to access Spreadsheets\n",
        "gc = gspread.authorize(creds)"
      ]
    },
    {
      "cell_type": "code",
      "execution_count": 25,
      "metadata": {
        "colab": {
          "base_uri": "https://localhost:8080/"
        },
        "id": "Qbhuis5DCnHl",
        "outputId": "4de1545c-6bcd-4fab-c4a8-b9a67573ca77"
      },
      "outputs": [
        {
          "name": "stdout",
          "output_type": "stream",
          "text": [
            "[['Timestamp', 'How would you rate your programming background coming into this course?', 'Where are you in your studies?', 'Are you in an engineering major?', \"Do you have any feedback you'd like to see incorporated in this class? It's a big class, but we do our best to track the trends of what the students are looking for.\"], ['9/9/2024 9:36:58', '5', 'Other', 'Yes', 'This is nat, hi!']]\n"
          ]
        }
      ],
      "source": [
        "surveyData = gc.open_by_url('https://docs.google.com/spreadsheets/d/1nsWF4ZapF2enpP6-COU4BpYwGMEwly_20mGdCdXKL6o/edit?resourcekey=&gid=726529752#gid=726529752').sheet1\n",
        "data = surveyData.get_all_values()\n",
        "print(data)"
      ]
    },
    {
      "cell_type": "code",
      "execution_count": 26,
      "metadata": {
        "colab": {
          "base_uri": "https://localhost:8080/"
        },
        "id": "KC1wolYoEp_2",
        "outputId": "2f405937-9765-473e-d4d1-60f596461833"
      },
      "outputs": [
        {
          "data": {
            "text/plain": [
              "['Timestamp',\n",
              " 'How would you rate your programming background coming into this course?',\n",
              " 'Where are you in your studies?',\n",
              " 'Are you in an engineering major?',\n",
              " \"Do you have any feedback you'd like to see incorporated in this class? It's a big class, but we do our best to track the trends of what the students are looking for.\"]"
            ]
          },
          "execution_count": 26,
          "metadata": {},
          "output_type": "execute_result"
        }
      ],
      "source": [
        "#This dumps out the list of questions in the survey\n",
        "data[0]"
      ]
    },
    {
      "cell_type": "code",
      "execution_count": 27,
      "metadata": {
        "colab": {
          "base_uri": "https://localhost:8080/"
        },
        "id": "X1TGES89HXa-",
        "outputId": "95460adb-ffa3-4c88-b507-d95065227f67"
      },
      "outputs": [
        {
          "data": {
            "text/plain": [
              "['9/9/2024 9:36:58', '5', 'Other', 'Yes', 'This is nat, hi!']"
            ]
          },
          "execution_count": 27,
          "metadata": {},
          "output_type": "execute_result"
        }
      ],
      "source": [
        "#This show the list of responses\n",
        "data[1]"
      ]
    }
  ],
  "metadata": {
    "colab": {
      "authorship_tag": "ABX9TyNzvs9X6koaKv7d501mj6KM",
      "include_colab_link": true,
      "provenance": []
    },
    "kernelspec": {
      "display_name": "Python 3",
      "name": "python3"
    },
    "language_info": {
      "name": "python"
    }
  },
  "nbformat": 4,
  "nbformat_minor": 0
}
