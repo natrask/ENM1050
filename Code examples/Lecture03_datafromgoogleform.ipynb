{
  "cells": [
    {
      "cell_type": "markdown",
      "metadata": {
        "id": "view-in-github",
        "colab_type": "text"
      },
      "source": [
        "<a href=\"https://colab.research.google.com/github/natrask/ENM1050/blob/main/Code%20examples/Lecture03_datafromgoogleform.ipynb\" target=\"_parent\"><img src=\"https://colab.research.google.com/assets/colab-badge.svg\" alt=\"Open In Colab\"/></a>"
      ]
    },
    {
      "cell_type": "code",
      "execution_count": 1,
      "metadata": {
        "id": "EBDqO_4PA0Ki"
      },
      "outputs": [],
      "source": [
        "# Import packages for connecting to Spreadsheets\n",
        "from google.colab import auth\n",
        "auth.authenticate_user()\n",
        "\n",
        "import gspread\n",
        "from google.auth import default\n",
        "creds, _ = default()\n",
        "\n",
        "# Authorize Colab to access Spreadsheets\n",
        "gc = gspread.authorize(creds)"
      ]
    },
    {
      "cell_type": "code",
      "execution_count": 2,
      "metadata": {
        "colab": {
          "base_uri": "https://localhost:8080/"
        },
        "id": "Qbhuis5DCnHl",
        "outputId": "a3ee51df-3ade-4813-c59b-6d09cd74af39"
      },
      "outputs": [
        {
          "output_type": "stream",
          "name": "stdout",
          "text": [
            "[['Timestamp', 'How would you rate your programming background coming into this course?', 'Where are you in your studies?', 'Are you in an engineering major?', \"Do you have any feedback you'd like to see incorporated in this class? It's a big class, but we do our best to track the trends of what the students are looking for.\"], ['9/9/2024 9:36:58', '5', 'Other', 'Yes', 'This is nat, hi!'], ['9/9/2024 10:22:30', '5', 'Other', 'Yes', '']]\n"
          ]
        }
      ],
      "source": [
        "surveyData = gc.open_by_url('https://docs.google.com/spreadsheets/d/1nsWF4ZapF2enpP6-COU4BpYwGMEwly_20mGdCdXKL6o/edit?resourcekey=&gid=726529752#gid=726529752').sheet1\n",
        "data = surveyData.get_all_values()\n",
        "print(data)"
      ]
    },
    {
      "cell_type": "code",
      "execution_count": 3,
      "metadata": {
        "colab": {
          "base_uri": "https://localhost:8080/"
        },
        "id": "KC1wolYoEp_2",
        "outputId": "45487995-580b-4cde-e267-6a55c12d7710"
      },
      "outputs": [
        {
          "output_type": "execute_result",
          "data": {
            "text/plain": [
              "['Timestamp',\n",
              " 'How would you rate your programming background coming into this course?',\n",
              " 'Where are you in your studies?',\n",
              " 'Are you in an engineering major?',\n",
              " \"Do you have any feedback you'd like to see incorporated in this class? It's a big class, but we do our best to track the trends of what the students are looking for.\"]"
            ]
          },
          "metadata": {},
          "execution_count": 3
        }
      ],
      "source": [
        "#This dumps out the list of questions in the survey\n",
        "data[0]"
      ]
    },
    {
      "cell_type": "code",
      "execution_count": 5,
      "metadata": {
        "colab": {
          "base_uri": "https://localhost:8080/"
        },
        "id": "X1TGES89HXa-",
        "outputId": "d763e4c0-c7bf-4813-8b24-122c13e0347a"
      },
      "outputs": [
        {
          "output_type": "execute_result",
          "data": {
            "text/plain": [
              "[['9/9/2024 9:36:58', '5', 'Other', 'Yes', 'This is nat, hi!'],\n",
              " ['9/9/2024 10:22:30', '5', 'Other', 'Yes', '']]"
            ]
          },
          "metadata": {},
          "execution_count": 5
        }
      ],
      "source": [
        "#This show the list of responses\n",
        "data[1:]"
      ]
    },
    {
      "cell_type": "code",
      "source": [],
      "metadata": {
        "id": "AaRrbEcKLmMQ"
      },
      "execution_count": null,
      "outputs": []
    }
  ],
  "metadata": {
    "colab": {
      "provenance": [],
      "authorship_tag": "ABX9TyMoJlHIWD30EnptUoNWWiNy",
      "include_colab_link": true
    },
    "kernelspec": {
      "display_name": "Python 3",
      "name": "python3"
    },
    "language_info": {
      "name": "python"
    }
  },
  "nbformat": 4,
  "nbformat_minor": 0
}