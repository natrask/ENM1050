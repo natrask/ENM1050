{
  "nbformat": 4,
  "nbformat_minor": 0,
  "metadata": {
    "colab": {
      "provenance": [],
      "authorship_tag": "ABX9TyNZcpAUWe0mRK+3duB+r8m6",
      "include_colab_link": true
    },
    "kernelspec": {
      "name": "python3",
      "display_name": "Python 3"
    },
    "language_info": {
      "name": "python"
    }
  },
  "cells": [
    {
      "cell_type": "markdown",
      "metadata": {
        "id": "view-in-github",
        "colab_type": "text"
      },
      "source": [
        "<a href=\"https://colab.research.google.com/github/natrask/ENM1050/blob/main/Code%20examples/Lecture08.ipynb\" target=\"_parent\"><img src=\"https://colab.research.google.com/assets/colab-badge.svg\" alt=\"Open In Colab\"/></a>"
      ]
    },
    {
      "cell_type": "markdown",
      "source": [
        "Today we will step through some of the basics of discretizing differential equations to build up simulators of dynamical systems. You can view this as a dry run for the homework due Monday. Unlike the usual lectures, I will step through this and code it in real time from the front of the room, and suggest folks pop open the notebook and type in the same results - you will be able to more or less tweak this to complete Monday's homework. If you feel confident, feel free to grab your partner and work through this in the back of the room on your own, or to jump directly to the homework and work on that."
      ],
      "metadata": {
        "id": "87IZpKeSpMUc"
      }
    },
    {
      "cell_type": "markdown",
      "source": [
        "# Governing equations #"
      ],
      "metadata": {
        "id": "NA_VVZrOpssN"
      }
    },
    {
      "cell_type": "markdown",
      "source": [
        "We will consider two systems today:\n",
        "*   The terminal velocity of a skydiver\n",
        "*   The nonlinear dynamics of a pendulum\n",
        "\n",
        "At the whiteboard, I'll derive the following set of governing equations for both\n",
        "\n",
        "1. $m \\ddot{y} = -m g + \\frac12 \\rho \\dot{y}^2 A C_d$, where\n",
        "  * $m$ is the mass of the skydiver\n",
        "  * $y,\\dot{y}$, and $\\ddot{y}$ are the position, velocity, and acceleration of the skydiver, respectively.\n",
        "  * $\\rho$ is the density of the air\n",
        "  * $A$ is the [projected area](https://en.wikipedia.org/wiki/Projected_area) area of the diver\n",
        "  * $C_d$ is a coefficient of friction\n",
        "2. $L \\ddot{\\theta} = - g \\sin \\theta$, where\n",
        "  * $L$ is the length of the pendulum\n",
        "  * $\\theta$ and $\\ddot{\\theta}$ are the angle and angular acceleration of the pendulum, measured with respect to a vector pointing straight down.\n",
        "  * $g$ is the acceleration due to gravity."
      ],
      "metadata": {
        "id": "6CzfsbSypvtG"
      }
    },
    {
      "cell_type": "markdown",
      "source": [
        "# Gameplan\n",
        "\n",
        "We will write code which can solve an equation of the form\n",
        "$$\\dot{y} = F(y,t)$$\n",
        "$$y(t=0) = y_0$$\n",
        "where $y \\in \\mathbb{R}^d$ is a vector valued function. (Interpret this as a sign that you should represent $y$ as a $d \\times 1$ numpy array).\n",
        "\n",
        "First we will implement the explicit Euler method to solve on a time window $t \\in [0,t_{final}]$ hardcoded to solve the simple equation\n",
        "$$\\dot{y} = -y$$\n",
        "For this equation we can check that the solution is\n",
        "$$y(t) = y_0 \\exp(-t)$$\n",
        "\n",
        "For every problem we will develop *unit tests* confirming that we can recover a known solution, and then use *encapsulation* with functions to show that we can trust our code to generalize to more complicated functions where we don't know the solution."
      ],
      "metadata": {
        "id": "fKWMEzdVsz4f"
      }
    },
    {
      "cell_type": "markdown",
      "source": [
        "# The explicit Euler method\n",
        "We first partition our time domain $[0,t_{final}]$ into $N$ discrete points\n",
        "$t_i = i \\Delta t$, for $i = 0,1,...N-1$ and $\\Delta t = t_{final}/(N-1)$. $N$ will be a parameter that we get to choose to set the resolution of our simulation - bigger $N$ will mean a better simulation but it will take longer to run.\n",
        "\n",
        "In the explicit Euler method, we perform a forward finite difference on the derivative to obtain the following formula centered at the point $t^n$\n",
        "\n",
        "$$\\frac{y^{n+1} - y^n}{\\Delta t} = f(y^n,t^n)$$\n",
        "\n",
        "Mapping into pseudo code\n",
        "\n",
        "<blockquote>\n",
        "    Explicit Euler pseudo code\n",
        "\n",
        "    tvec = build_vector_of_times(N_steps)\n",
        "    sol[0] = y_0\n",
        "    for i in 0,...,N_steps:\n",
        "    f_i = get_f(sol[i],t[i])     # fetch the current value of RHS\n",
        "    sol[i+1] = sol[i] + dt * f_i # apply update\n",
        "</blockquote>"
      ],
      "metadata": {
        "id": "OFKWPpFZuq2l"
      }
    },
    {
      "cell_type": "markdown",
      "source": [
        "Next we'll \"hard-code\" this to the simple case $\\dot{y} =- y$"
      ],
      "metadata": {
        "id": "M2a8XoLvxp3J"
      }
    },
    {
      "cell_type": "code",
      "execution_count": null,
      "metadata": {
        "id": "zvLikuVJpI5q"
      },
      "outputs": [],
      "source": [
        "# write code here"
      ]
    },
    {
      "cell_type": "markdown",
      "source": [
        "Let's wrap a function around this, so that we can experiment with how it behaves for different choices of $N$."
      ],
      "metadata": {
        "id": "J9aSli5vx8K1"
      }
    },
    {
      "cell_type": "code",
      "source": [
        "# write code here"
      ],
      "metadata": {
        "id": "xKIq7higyMC6"
      },
      "execution_count": null,
      "outputs": []
    },
    {
      "cell_type": "markdown",
      "source": [
        "Now we can experiment easily - we'll generate plots for $N=4,8,16,32,...$ and overlay them over the true solution."
      ],
      "metadata": {
        "id": "AJh4fVn3yNsN"
      }
    },
    {
      "cell_type": "code",
      "source": [
        "# write code here"
      ],
      "metadata": {
        "id": "yO9Gc_6wys3w"
      },
      "execution_count": null,
      "outputs": []
    },
    {
      "cell_type": "markdown",
      "source": [
        "Next I will illustrate how to make a *convergence plot*. This shows how quickly the method recovers the exact solution. For this type of numerical method, error typically scales like:\n",
        "$$||y-y_{true}|| \\sim C \\Delta t^\\alpha$$\n",
        "for some choice of $\\alpha$ and constant C. Can you infer what the $\\alpha$ is for explicit Euler?"
      ],
      "metadata": {
        "id": "85FEEDgeyuLO"
      }
    },
    {
      "cell_type": "code",
      "source": [
        "# write code here"
      ],
      "metadata": {
        "id": "AzY2ZF2KzVj2"
      },
      "execution_count": null,
      "outputs": []
    },
    {
      "cell_type": "markdown",
      "source": [
        "Now that we trust our code, we are going to modify it to handle an arbitrary $d$ (i.e. we will handle vector valued solutions) and an arbitrary RHS. We can do this by punching out the line of code that evaluates the RHS and replacing it with a function. We will know we can trust this code when we can reproduce our hard coded initial result."
      ],
      "metadata": {
        "id": "xlMN2iedzcSQ"
      }
    },
    {
      "cell_type": "code",
      "source": [
        "# write code here"
      ],
      "metadata": {
        "id": "UQWIErehz3Mv"
      },
      "execution_count": null,
      "outputs": []
    },
    {
      "cell_type": "markdown",
      "source": [
        "Finally, we can apply this to our two ODEs. We'll observe however that as written, the equations are written in *second-order form* (i.e. the highest-order derivative in the equation is a 2nd derivative). We will do a trick to turn these into a system of two first-order ODEs.\n",
        "\n",
        "**The trick:**\\\\\n",
        "* Take equation:\n",
        "  * $m \\ddot{y} = -m g + \\frac12 \\rho \\dot{y}^2 A C_d$\n",
        "* Lump all the parameters so there isn't so much junk to carry around\n",
        "  * $ \\ddot{y} =  \\alpha + \\beta \\dot{y}^2$\n",
        "  * $\\alpha = -g$ and $\\beta = \\frac{\\rho A C_d}{2 m}$\n",
        "* Define two new variables $y_1$ and $y_2$, where $y_1 = y$ and $\\dot{y}_1 = y_2$ - this is equivalent to writing equations governing position and velocity.\n",
        "* Rewrite to get two equations\n",
        "  * $\\dot{y}_1 = y_2$\n",
        "  * $\\dot{y}_2 =  \\alpha + \\beta y_2^2$\n",
        "* Now adopt your solver to take $d=2$ and $F = <y_2, \\alpha + \\beta y_2^2>$"
      ],
      "metadata": {
        "id": "IHRyCSUI0P9E"
      }
    },
    {
      "cell_type": "code",
      "source": [
        "# write code here"
      ],
      "metadata": {
        "id": "vquBFUpc22dE"
      },
      "execution_count": null,
      "outputs": []
    },
    {
      "cell_type": "markdown",
      "source": [
        "To confirm that this is correct, we can look at whether we recover a simple steady state solution of the problem. Setting $\\ddot{y}=0$, we arrive at\n",
        "$$0 =  \\alpha + \\beta \\dot{y_ss}^2$$\n",
        "or\n",
        "$$ \\dot{y}_{ss} = \\sqrt{\\frac{-\\alpha}{\\beta}}$$\n",
        "\n",
        "Remember that $\\alpha$ is defined with a negative sign and $\\beta$ is positive, so this is not an imaginary number.\n",
        "\n",
        "Plot this along with your solution to confirm that you get the correct asymptote."
      ],
      "metadata": {
        "id": "RDOW9MPC24Qq"
      }
    },
    {
      "cell_type": "code",
      "source": [
        "# write code here"
      ],
      "metadata": {
        "id": "EJ3MmZYr3dP5"
      },
      "execution_count": null,
      "outputs": []
    },
    {
      "cell_type": "markdown",
      "source": [
        "For a final exercise, you can repeat this for the pendulum case. For that setting, the nonlinear problem doesn't have an exact solution. You can linearize the equation though by approximating $\\sin \\theta \\sim \\theta$ to obtain:\n",
        "$$\\ddot{\\theta} = - \\omega \\theta$$\n",
        "where $\\omega = \\frac{g}{L}$.\n",
        "\n",
        "You can confirm that this linearized equation has a solution:\n",
        "$$\\theta(t) = \\cos \\sqrt{\\omega} t$$\n",
        "\n",
        "This solution is only valid for small $\\theta$. If you choose an initial condition that is very small, you'll be able to check that your nonlinear model recovers this limiting behavior."
      ],
      "metadata": {
        "id": "yjiESsdF3sOA"
      }
    },
    {
      "cell_type": "markdown",
      "source": [
        "# ODEInt in SciPy"
      ],
      "metadata": {
        "id": "7aPlIVlujkeS"
      }
    },
    {
      "cell_type": "markdown",
      "source": [
        "One final tidbit - there are much better methods for solving ODEs that we will discuss as the class progresses. They typically exploit information about the smoothness of the RHS to obtain answers that require much fewer timesteps - this translates to a higher $\\alpha$ in the error convergence. This makes it dangerous to use prepackaged integrators from SciPy; you may be violating some of the assumptions in the method without realizing it (this will happen if you attempt to use odeint for the HW due Monday).\n",
        "\n",
        "If your RHS is continuous (i.e. you can take as many derivatives you want of it) it is safe to use these packages. To check the syntax, use Gemini to prompt example code that you can adapt to reproduce some of your above results."
      ],
      "metadata": {
        "id": "nP7EUO0djm9F"
      }
    },
    {
      "cell_type": "code",
      "source": [],
      "metadata": {
        "id": "96IqpJPPlE82"
      },
      "execution_count": null,
      "outputs": []
    },
    {
      "cell_type": "markdown",
      "source": [
        "# Check your knowledge\n",
        "Repeat the example on your own (either in class or at home) to confirm that you understand the process and weren't just copying what I put on the screen. Make sure you use *unit tests* to validate your individual components are working correctly."
      ],
      "metadata": {
        "id": "fOTz9_Au5DI-"
      }
    },
    {
      "cell_type": "code",
      "source": [
        "# write code here"
      ],
      "metadata": {
        "id": "4pF5irnJ5CRD"
      },
      "execution_count": null,
      "outputs": []
    }
  ]
}