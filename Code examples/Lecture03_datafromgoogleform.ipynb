{
  "cells": [
    {
      "cell_type": "markdown",
      "metadata": {
        "id": "view-in-github",
        "colab_type": "text"
      },
      "source": [
        "<a href=\"https://colab.research.google.com/github/natrask/ENM1050/blob/main/Code%20examples/Lecture03_datafromgoogleform.ipynb\" target=\"_parent\"><img src=\"https://colab.research.google.com/assets/colab-badge.svg\" alt=\"Open In Colab\"/></a>"
      ]
    },
    {
      "cell_type": "code",
      "execution_count": 1,
      "metadata": {
        "id": "EBDqO_4PA0Ki"
      },
      "outputs": [],
      "source": [
        "# Import packages for connecting to Spreadsheets\n",
        "from google.colab import auth\n",
        "auth.authenticate_user()\n",
        "\n",
        "import gspread\n",
        "from google.auth import default\n",
        "creds, _ = default()\n",
        "\n",
        "# Authorize Colab to access Spreadsheets\n",
        "gc = gspread.authorize(creds)"
      ]
    },
    {
      "cell_type": "code",
      "execution_count": 2,
      "metadata": {
        "colab": {
          "base_uri": "https://localhost:8080/"
        },
        "id": "Qbhuis5DCnHl",
        "outputId": "8d9a2f6f-376a-4fe8-fdfb-1c2d2cf446c8"
      },
      "outputs": [
        {
          "output_type": "stream",
          "name": "stdout",
          "text": [
            "[['Timestamp', 'How would you rate your programming background coming into this course?', 'Where are you in your studies?', 'Are you in an engineering major?', \"Do you have any feedback you'd like to see incorporated in this class? It's a big class, but we do our best to track the trends of what the students are looking for.\"], ['9/9/2024 9:36:58', '5', 'Other', 'Yes', 'This is nat, hi!'], ['9/9/2024 10:22:30', '5', 'Other', 'Yes', ''], ['9/9/2024 10:54:42', '4', 'Junior', 'Yes', '']]\n"
          ]
        }
      ],
      "source": [
        "surveyData = gc.open_by_url('https://docs.google.com/spreadsheets/d/1nsWF4ZapF2enpP6-COU4BpYwGMEwly_20mGdCdXKL6o/edit?resourcekey=&gid=726529752#gid=726529752').sheet1\n",
        "data = surveyData.get_all_values()\n",
        "print(data)"
      ]
    },
    {
      "cell_type": "code",
      "execution_count": 3,
      "metadata": {
        "colab": {
          "base_uri": "https://localhost:8080/"
        },
        "id": "KC1wolYoEp_2",
        "outputId": "26edfd2d-001d-4f15-e503-fd91a22127ae"
      },
      "outputs": [
        {
          "output_type": "execute_result",
          "data": {
            "text/plain": [
              "['Timestamp',\n",
              " 'How would you rate your programming background coming into this course?',\n",
              " 'Where are you in your studies?',\n",
              " 'Are you in an engineering major?',\n",
              " \"Do you have any feedback you'd like to see incorporated in this class? It's a big class, but we do our best to track the trends of what the students are looking for.\"]"
            ]
          },
          "metadata": {},
          "execution_count": 3
        }
      ],
      "source": [
        "#This dumps out the list of questions in the survey\n",
        "data[0]"
      ]
    },
    {
      "cell_type": "code",
      "execution_count": 15,
      "metadata": {
        "colab": {
          "base_uri": "https://localhost:8080/"
        },
        "id": "X1TGES89HXa-",
        "outputId": "a85a4166-099a-4531-a1d0-fed3c50fc432"
      },
      "outputs": [
        {
          "output_type": "execute_result",
          "data": {
            "text/plain": [
              "[['9/9/2024 9:36:58', '5', 'Other', 'Yes', 'This is nat, hi!'],\n",
              " ['9/9/2024 10:22:30', '5', 'Other', 'Yes', ''],\n",
              " ['9/9/2024 10:54:42', '4', 'Junior', 'Yes', '']]"
            ]
          },
          "metadata": {},
          "execution_count": 15
        }
      ],
      "source": [
        "# This shows the list of responses\n",
        "data[1:]"
      ]
    },
    {
      "cell_type": "code",
      "source": [
        "# The data is in the wrong direction! We want to be able to scoop up a column,\n",
        "# but because it's a list of lists we can't grab it directly\n",
        "# This helper function will traverse the outter list, grab the column_index item\n",
        "# of the inner list and tack it onto a new list called column_data\n",
        "#\n",
        "# Some of these ideas we haven't covered yet (what's a function? a for loop? an\n",
        "# if statement?). Don't worry! For now we can use this off the shelf. This is\n",
        "# an example of an idea called *encapsulation*. If we know the inputs and\n",
        "# outputs of a function, we don't need to worry about what's happening inside\n",
        "\n",
        "def extract_column(data, column_index):\n",
        "  column_data = []\n",
        "  for row in data:\n",
        "    if len(row) > column_index:\n",
        "      column_data.append(row[column_index])\n",
        "  return column_data\n",
        "\n",
        "# Extract the first column (remember, we start counting at 0)\n",
        "column_1 = extract_column(data[1:], 1)  # Extract the third column (index 2)\n",
        "print(column_1)\n"
      ],
      "metadata": {
        "id": "-b2ay8oJT2fo",
        "outputId": "72316e2d-11cf-4a0c-a4f7-5b7f66db9451",
        "colab": {
          "base_uri": "https://localhost:8080/"
        }
      },
      "execution_count": 16,
      "outputs": [
        {
          "output_type": "stream",
          "name": "stdout",
          "text": [
            "['5', '5', '4']\n"
          ]
        }
      ]
    },
    {
      "cell_type": "code",
      "source": [
        "# Generate histogram of data coming from column_1\n",
        "import matplotlib.pyplot as plt\n",
        "plt.hist(column_1,bins=5,range=(0,5))\n",
        "plt.xlabel(\"Response to question\")\n",
        "plt.ylabel(\"Number of responses\")\n",
        "plt.show()"
      ],
      "metadata": {
        "id": "NRmvXjr_U2bK",
        "outputId": "44d6b109-f397-406f-a585-75397fb97117",
        "colab": {
          "base_uri": "https://localhost:8080/",
          "height": 449
        }
      },
      "execution_count": 19,
      "outputs": [
        {
          "output_type": "display_data",
          "data": {
            "text/plain": [
              "<Figure size 640x480 with 1 Axes>"
            ],
            "image/png": "[encoded data removed]"
          },
          "metadata": {}
        }
      ]
    }
  ],
  "metadata": {
    "colab": {
      "provenance": [],
      "authorship_tag": "ABX9TyOC2Yp74XZztV5h6nGnzI8n",
      "include_colab_link": true
    },
    "kernelspec": {
      "display_name": "Python 3",
      "name": "python3"
    },
    "language_info": {
      "name": "python"
    }
  },
  "nbformat": 4,
  "nbformat_minor": 0
}