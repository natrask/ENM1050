{
 "cells": [
  {
   "cell_type": "markdown",
   "metadata": {
    "colab_type": "text",
    "id": "view-in-github"
   },
   "source": [
    "<a href=\"https://colab.research.google.com/github/natrask/ENM1050/blob/main/Code%20examples/Lecture01.ipynb\" target=\"_parent\"><img src=\"https://colab.research.google.com/assets/colab-badge.svg\" alt=\"Open In Colab\"/></a>"
   ]
  },
  {
   "cell_type": "markdown",
   "metadata": {
    "id": "MP96fhyLI_Qa"
   },
   "source": [
    "We'll begin the course by running through how to use a python notebook. For now we will work in google colab, since it will let you edit and run code online without configuring your computer. Later on, we'll set up an environment on your own computer, and maybe by the end of the class run something on a GPU!\n",
    "\n",
    "Jupyter notebooks have a very handy way of switching between human readable text and equations, and python code using *markdown language*. We can switch between typesetting equations\n",
    "\n",
    "$y = 2+3$\n",
    "\n",
    "and translating them into code:"
   ]
  },
  {
   "cell_type": "code",
   "execution_count": 2,
   "metadata": {
    "colab": {
     "base_uri": "https://localhost:8080/"
    },
    "id": "_woU4wppOeY5",
    "outputId": "f5d6889e-5b80-41bb-9179-2855bf000711"
   },
   "outputs": [
    {
     "name": "stdout",
     "output_type": "stream",
     "text": [
      "5\n"
     ]
    }
   ],
   "source": [
    "y = 2+3\n",
    "print(y)"
   ]
  },
  {
   "cell_type": "markdown",
   "metadata": {},
   "source": [
    "We will conduct the exercises from class here. At the end of the lecture, I'll upload the examples I've worked in class to the github so that you can use them to springboard off of for your homework."
   ]
  },
  {
   "cell_type": "markdown",
   "metadata": {},
   "source": []
  }
 ],
 "metadata": {
  "colab": {
   "authorship_tag": "ABX9TyM2Znf24fhpvlnZtsxXCN5H",
   "include_colab_link": true,
   "provenance": []
  },
  "kernelspec": {
   "display_name": "Python 3 (ipykernel)",
   "language": "python",
   "name": "python3"
  },
  "language_info": {
   "codemirror_mode": {
    "name": "ipython",
    "version": 3
   },
   "file_extension": ".py",
   "mimetype": "text/x-python",
   "name": "python",
   "nbconvert_exporter": "python",
   "pygments_lexer": "ipython3",
   "version": "3.10.12"
  }
 },
 "nbformat": 4,
 "nbformat_minor": 1
}
