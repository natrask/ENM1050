{
  "cells": [
    {
      "cell_type": "markdown",
      "metadata": {
        "id": "view-in-github",
        "colab_type": "text"
      },
      "source": [
        "<a href=\"https://colab.research.google.com/github/natrask/ENM1050/blob/main/Code%20Examples/Pico_Introduction.ipynb\" target=\"_parent\"><img src=\"https://colab.research.google.com/assets/colab-badge.svg\" alt=\"Open In Colab\"/></a>"
      ]
    },
    {
      "cell_type": "markdown",
      "metadata": {
        "id": "YY2oBFhjZF_L"
      },
      "source": [
        "<a href=\"https://colab.research.google.com/github/natrask/ENM1050/blob/main/Code%20examples/Lecture03.ipynb\" target=\"_parent\"><img src=\"https://colab.research.google.com/assets/colab-badge.svg\" alt=\"Open In Colab\"/></a>"
      ]
    },
    {
      "cell_type": "markdown",
      "metadata": {
        "id": "sZyLrU1GKVbr"
      },
      "source": [
        "## Introduction to microcontrollers ##"
      ]
    },
    {
      "cell_type": "markdown",
      "metadata": {
        "id": "5oIyjTdu74cb"
      },
      "source": [
        "# CONTRIBUTORS #\n",
        "\n",
        "This in-class exercise is to be done in groups. Not everyone will have a vscode environment set up - try to pair up with as few people as possible. Today's exercise will step you through the basics of how to program a microcontroller. We'll ramp up after thanksgiving break so this should be an easy start.\n",
        "\n",
        "\n",
        "<font color=\"blue\">In order to submit your assignment as a pair, you need to create a group on Canvas. This will enable you to both receive the same grade for one submission.</font>\n",
        "1. On Canvas, navigate to `People > Groups > Pico Tutorial`.\n",
        "1. Find an empty group and add the names of both members of the pair.\n",
        "1. Follow the [powerpoint from last class](https://github.com/natrask/ENM1050/blob/main/Slides/14_microcontrollers.pptx) to see diagrams for how to set up each circuit.\n",
        "1. Copy and paste images into the notebook before submitting on canvas."
      ]
    },
    {
      "cell_type": "markdown",
      "source": [
        "# Set up your Pico\n",
        "Raspberry Pis run C by default, but we can modify it to run micropython - a stripped down version of python that can control some simple circuits.\n",
        "\n",
        "Download the driver from:\n",
        "\n",
        "1.   Plug in your pico using the micro usb to usb cable.\n",
        "2.   Download the driver from: https://micropython.org/download/rp2-pico/rp2-pico-latest.uf2\n",
        "3. Hold down the bootsel button while plugging the pico into your USB\n",
        "4. The pico will appear as a new drive on your computer (Probably D:)\n",
        "5. Copy the driver onto the drive\n"
      ],
      "metadata": {
        "id": "R4DY3ll7Z7Yc"
      }
    },
    {
      "cell_type": "markdown",
      "source": [
        "# Set up vscode\n",
        "\n",
        "We will need an extension to load programs from vscode onto the device. I've included the link below.\n",
        "\n",
        "Name: MicroPico\n",
        "Id: paulober.pico-w-go\n",
        "Description: Auto-completion, remote workspace and a REPL console integration for the Raspberry Pi Pico boards running MicroPython firmware.\n",
        "Version: 4.1.0\n",
        "Publisher: paulober\n",
        "VS Marketplace Link: https://marketplace.visualstudio.com/items?itemName=paulober.pico-w-go"
      ],
      "metadata": {
        "id": "QCK4Ftlzafnx"
      }
    },
    {
      "cell_type": "markdown",
      "metadata": {
        "id": "sbqKv3xnKals"
      },
      "source": [
        "# Project 1: Blink the LED\n",
        "\n",
        "For each of these projects, the slides from last Wednesday will illustrate how to wire the board.\n",
        "\n",
        "Make a new project folder on your computer in vscode.\n",
        "\n",
        "```\n",
        "ctrl+p: MicroPico: Set up MicroPico project\n",
        "```\n",
        "\n",
        "to add some necessary files to your project. Make a new python file and save as blink.py. Add the following code:\n",
        "```\n",
        "from machine import Pin\n",
        "import time\n",
        "\n",
        "led = Pin('LED', Pin.OUT)\n",
        "print('Blinking LED example')\n",
        "\n",
        "while True:\n",
        "    led.value(not led.value())\n",
        "    time.sleep(0.5)\n",
        "```\n",
        "\n",
        "Click the \"Run\" button at the bottom of the screen next to the words \"Pico connected\". You should see a flashing LED.\n"
      ]
    },
    {
      "cell_type": "markdown",
      "metadata": {
        "id": "H9gXwK5oKpSf"
      },
      "source": [
        "# Run GPIO pin to light one of LED1-4\n",
        "\n",
        "Modify the code slightly to use GP0 to activate one of the LEDs.\n",
        "\n",
        "```\n",
        "from machine import Pin\n",
        "import time\n",
        "\n",
        "led = Pin(0, Pin.OUT)         # Only difference - choose GP0 to active\n",
        "print('Blinking LED example')\n",
        "\n",
        "while True:\n",
        "    led.value(not led.value())\n",
        "    time.sleep(0.5)\n",
        "```"
      ]
    },
    {
      "cell_type": "markdown",
      "source": [
        "# Implement a diode circuit\n",
        "\n",
        "Use identical code, but instead of using built in diodes, set up a circuit on the breadboard. See slide 26 from last lecture for details."
      ],
      "metadata": {
        "id": "VbOiPa0lcNB_"
      }
    },
    {
      "cell_type": "markdown",
      "source": [
        "# Take user input from button K1-4\n",
        "\n",
        "Next we will show how to read in from the pins. We will reconfigure GP0 as an input pin, and detect when a button is pushed. Again, see powerpoint for circuit setup.\n",
        "\n",
        "```\n",
        "from machine import Pin\n",
        "import time\n",
        "\n",
        "# Define the pin connected to the button\n",
        "button_pin = Pin(0, Pin.IN, Pin.PULL_UP)\n",
        "\n",
        "\n",
        "buttonState = button_pin.value()\n",
        "\n",
        "while True:\n",
        "    if button_pin.value() == 0 and buttonState == 1:\n",
        "        print('Button pressed')\n",
        "        buttonState = 0\n",
        "    if button_pin.value() == 1 and buttonState == 0:\n",
        "        print('Button released')\n",
        "        buttonState = 1\n",
        "```"
      ],
      "metadata": {
        "id": "55o0pjFmch6t"
      }
    },
    {
      "cell_type": "markdown",
      "source": [
        "# Your turn:#\n",
        "\n",
        "Write a simple program to turn one of the LEDs off/on when the button is pressed. Copy your code below as copying+pasting a picture you've taken on your cell phone showing the light on."
      ],
      "metadata": {
        "id": "4HQMzfxsdMze"
      }
    },
    {
      "cell_type": "markdown",
      "metadata": {
        "id": "k6vhGezQdNgh"
      },
      "source": [
        "# **Turning in assignments on Canvas**\n",
        "\n",
        "\n",
        "Submit your work as both an ipynb and a pdf to Canvas.\n",
        "1. Click on `File > Download .ipynb` to download the ipynb file. Do NOT clear your outputs before doing this step.\n",
        "1. Click on `File > Print` to print the notebook to a pdf. This is a backup for the graders in case we are not able to access or run your ipynb during grading.\n",
        "1. On Canvas, navigate to the relevant assignment and attach both the ipynb and pdf files to your submission.\n",
        "1. The student who did not submit should make sure that the group was created successfully by checking that they can also access the files on their Canvas page."
      ]
    },
    {
      "cell_type": "markdown",
      "metadata": {
        "id": "zr8FQTTPZF_S"
      },
      "source": []
    }
  ],
  "metadata": {
    "colab": {
      "provenance": [],
      "include_colab_link": true
    },
    "kernelspec": {
      "display_name": "Python 3",
      "name": "python3"
    },
    "language_info": {
      "name": "python"
    }
  },
  "nbformat": 4,
  "nbformat_minor": 0
}