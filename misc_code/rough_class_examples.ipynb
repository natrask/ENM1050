{
 "cells": [
  {
   "cell_type": "code",
   "execution_count": null,
   "metadata": {},
   "outputs": [],
   "source": [
    "# Example of Scope in Python functions\n",
    "\n",
    "# Global Scope\n",
    "x = 10\n",
    "\n",
    "def outer_function():\n",
    "    # Enclosing Scope\n",
    "    y = 20\n",
    "\n",
    "    def inner_function():\n",
    "        # Local Scope\n",
    "        z = 30\n",
    "        print(\"Inside inner_function:\")\n",
    "        print(\"x (global):\", x)\n",
    "        print(\"y (enclosing):\", y)\n",
    "        print(\"z (local):\", z)\n",
    "\n",
    "    inner_function()\n",
    "    print(\"Inside outer_function:\")\n",
    "    print(\"x (global):\", x)\n",
    "    print(\"y (enclosing):\", y)\n",
    "    # z is not accessible here, it is local to inner_function\n",
    "    # print(\"z (local):\", z)  # This would raise a NameError\n",
    "\n",
    "outer_function()\n",
    "print(\"In global scope:\")\n",
    "print(\"x (global):\", x)\n",
    "# y and z are not accessible here, they are local to outer_function and inner_function respectively\n",
    "# print(\"y (enclosing):\", y)  # This would raise a NameError\n",
    "# print(\"z (local):\", z)  # This would raise a NameError"
   ]
  },
  {
   "cell_type": "code",
   "execution_count": null,
   "metadata": {},
   "outputs": [],
   "source": [
    "class Dog:\n",
    "    def __init__(self, name, age, breed):\n",
    "        self.name = name\n",
    "        self.age = age\n",
    "        self.breed = breed\n",
    "\n",
    "    def bark(self):\n",
    "        return f\"{self.name} says woof!\"\n",
    "\n",
    "    def get_info(self):\n",
    "        return f\"Name: {self.name}, Age: {self.age}, Breed: {self.breed}\"\n",
    "\n",
    "# Example usage:\n",
    "my_dog = Dog(\"Buddy\", 3, \"Golden Retriever\")\n",
    "print(my_dog.bark())\n",
    "print(my_dog.get_info())"
   ]
  },
  {
   "cell_type": "code",
   "execution_count": null,
   "metadata": {},
   "outputs": [],
   "source": [
    "class WorkingDog(Dog):\n",
    "    def __init__(self, name, age, breed, job):\n",
    "        super().__init__(name, age, breed)\n",
    "        self.job = job\n",
    "\n",
    "    def do_job(self):\n",
    "        return f\"{self.name} is doing their job: {self.job}\"\n",
    "\n",
    "# Example usage:\n",
    "working_dog = WorkingDog(\"Max\", 4, \"German Shepherd\", \"Police Dog\")\n",
    "print(working_dog.bark())\n",
    "print(working_dog.get_info())\n",
    "print(working_dog.do_job())"
   ]
  },
  {
   "cell_type": "code",
   "execution_count": null,
   "metadata": {},
   "outputs": [],
   "source": [
    "class Graph:\n",
    "    def __init__(self):\n",
    "        self.adjacency_list = {}\n",
    "\n",
    "    def add_vertex(self, vertex):\n",
    "        if vertex not in self.adjacency_list:\n",
    "            self.adjacency_list[vertex] = []\n",
    "\n",
    "    def add_edge(self, vertex1, vertex2):\n",
    "        if vertex1 in self.adjacency_list and vertex2 in self.adjacency_list:\n",
    "            self.adjacency_list[vertex1].append(vertex2)\n",
    "            self.adjacency_list[vertex2].append(vertex1)\n",
    "\n",
    "    def remove_vertex(self, vertex):\n",
    "        if vertex in self.adjacency_list:\n",
    "            for adjacent in self.adjacency_list[vertex]:\n",
    "                self.adjacency_list[adjacent].remove(vertex)\n",
    "            del self.adjacency_list[vertex]\n",
    "\n",
    "    def remove_edge(self, vertex1, vertex2):\n",
    "        if vertex1 in self.adjacency_list and vertex2 in self.adjacency_list:\n",
    "            self.adjacency_list[vertex1].remove(vertex2)\n",
    "            self.adjacency_list[vertex2].remove(vertex1)\n",
    "\n",
    "    def get_vertices(self):\n",
    "        return list(self.adjacency_list.keys())\n",
    "\n",
    "    def get_edges(self):\n",
    "        edges = []\n",
    "        for vertex in self.adjacency_list:\n",
    "            for adjacent in self.adjacency_list[vertex]:\n",
    "                if {vertex, adjacent} not in edges:\n",
    "                    edges.append({vertex, adjacent})\n",
    "        return edges\n",
    "\n",
    "    def __str__(self):\n",
    "        return str(self.adjacency_list)"
   ]
  },
  {
   "cell_type": "code",
   "execution_count": null,
   "metadata": {},
   "outputs": [],
   "source": [
    "# Create a new graph instance\n",
    "graph = Graph()\n",
    "\n",
    "# Add vertices\n",
    "graph.add_vertex('A')\n",
    "graph.add_vertex('B')\n",
    "graph.add_vertex('C')\n",
    "graph.add_vertex('D')\n",
    "\n",
    "# Add edges\n",
    "graph.add_edge('A', 'B')\n",
    "graph.add_edge('A', 'C')\n",
    "graph.add_edge('B', 'D')\n",
    "graph.add_edge('C', 'D')\n",
    "\n",
    "# Print the graph's adjacency list\n",
    "print(\"Adjacency List of the Graph:\")\n",
    "print(graph)\n",
    "\n",
    "# Get and print all vertices\n",
    "vertices = graph.get_vertices()\n",
    "print(\"\\nVertices of the Graph:\")\n",
    "print(vertices)\n",
    "\n",
    "# Get and print all edges\n",
    "edges = graph.get_edges()\n",
    "print(\"\\nEdges of the Graph:\")\n",
    "print(edges)"
   ]
  },
  {
   "cell_type": "code",
   "execution_count": null,
   "metadata": {},
   "outputs": [],
   "source": [
    "import numpy as np\n",
    "\n",
    "class CircuitGraph(Graph):\n",
    "    def __init__(self):\n",
    "        super().__init__()\n",
    "        self.resistances = {}\n",
    "        self.voltages = {}\n",
    "        self.currents = None\n",
    "\n",
    "    def add_resistance(self, edge, resistance):\n",
    "        self.resistances[edge] = resistance\n",
    "\n",
    "    def add_voltage(self, vertex, voltage):\n",
    "        self.voltages[vertex] = voltage\n",
    "\n",
    "    def calculate_currents(self):\n",
    "        vertices = self.get_vertices()\n",
    "        num_vertices = len(vertices)\n",
    "        A = np.zeros((num_vertices, num_vertices))\n",
    "        B = np.zeros(num_vertices)\n",
    "\n",
    "        vertex_index = {vertex: i for i, vertex in enumerate(vertices)}\n",
    "\n",
    "        for vertex in vertices:\n",
    "            if vertex in self.voltages:\n",
    "                B[vertex_index[vertex]] = self.voltages[vertex]\n",
    "\n",
    "        for edge, resistance in self.resistances.items():\n",
    "            v1, v2 = edge\n",
    "            i1, i2 = vertex_index[v1], vertex_index[v2]\n",
    "            A[i1, i1] += 1 / resistance\n",
    "            A[i2, i2] += 1 / resistance\n",
    "            A[i1, i2] -= 1 / resistance\n",
    "            A[i2, i1] -= 1 / resistance\n",
    "\n",
    "        self.currents = np.linalg.solve(A, B)\n",
    "        return self.currents\n",
    "\n",
    "# Example usage:\n",
    "circuit = CircuitGraph()\n",
    "\n",
    "# Add vertices\n",
    "circuit.add_vertex('A')\n",
    "circuit.add_vertex('B')\n",
    "circuit.add_vertex('C')\n",
    "\n",
    "# Add resistances (edges)\n",
    "circuit.add_resistance(('A', 'B'), 100)\n",
    "circuit.add_resistance(('B', 'C'), 200)\n",
    "circuit.add_resistance(('A', 'C'), 300)\n",
    "\n",
    "# Add voltages\n",
    "circuit.add_voltage('A', 10)\n",
    "circuit.add_voltage('B', 5)\n",
    "\n",
    "# Calculate and print currents\n",
    "currents = circuit.calculate_currents()\n",
    "print(\"Currents in the circuit:\", currents)"
   ]
  },
  {
   "cell_type": "markdown",
   "metadata": {},
   "source": [
    "$$I_{R1} = I_{72} = \\frac{1}{R_1} \\left(V_7 - V_2\\right)$$\n",
    "$$I_{R2} = I_{63} = \\frac{1}{R_1} \\left(V_6 - V_3\\right)$$\n",
    "$$I_{R3} = I_{54} = \\frac{1}{R_1} \\left(V_5 - V_4\\right)$$\n"
   ]
  },
  {
   "cell_type": "markdown",
   "metadata": {},
   "source": [
    "import numpy as np\n",
    "\n",
    "# Define the coefficient matrix\n",
    "A = np.array([\n",
    "    [3, 2, 7],\n",
    "    [9, 2, 8],\n",
    "    [2, 17, 9]\n",
    "])\n",
    "\n",
    "# Define the right-hand side vector\n",
    "b = np.array([1, 10, 6])\n",
    "\n",
    "# Solve the linear system\n",
    "x = np.linalg.solve(A, b)\n",
    "\n",
    "# Print the solution\n",
    "print(\"Solution:\", x)"
   ]
  },
  {
   "cell_type": "markdown",
   "metadata": {},
   "source": []
  },
  {
   "cell_type": "code",
   "execution_count": null,
   "metadata": {},
   "outputs": [],
   "source": [
    "import numpy as np\n",
    "\n",
    "# Define the coefficient matrix\n",
    "A = np.array([\n",
    "    [3, 2, 7],\n",
    "    [9, 2, 8],\n",
    "    [2, 17, 9]\n",
    "])\n",
    "\n",
    "# Define the right-hand side vector\n",
    "b = np.array([1, 10, 6])\n",
    "\n",
    "# Solve the linear system\n",
    "x = np.linalg.solve(A, b)\n",
    "\n",
    "# Print the solution\n",
    "print(\"Solution:\", x)"
   ]
  },
  {
   "cell_type": "code",
   "execution_count": 10,
   "metadata": {},
   "outputs": [],
   "source": [
    "class MyClass:\n",
    "    \"\"\"A simple example class\"\"\"\n",
    "    i = 12345\n",
    "\n",
    "    def f():\n",
    "        return \"hello world\"\n"
   ]
  },
  {
   "cell_type": "code",
   "execution_count": 11,
   "metadata": {},
   "outputs": [
    {
     "name": "stdout",
     "output_type": "stream",
     "text": [
      "12345\n"
     ]
    },
    {
     "data": {
      "text/plain": [
       "'hello world'"
      ]
     },
     "execution_count": 11,
     "metadata": {},
     "output_type": "execute_result"
    }
   ],
   "source": [
    "print(MyClass.i)\n",
    "MyClass.f()"
   ]
  },
  {
   "cell_type": "code",
   "execution_count": null,
   "metadata": {},
   "outputs": [],
   "source": []
  }
 ],
 "metadata": {
  "kernelspec": {
   "display_name": "base",
   "language": "python",
   "name": "python3"
  },
  "language_info": {
   "codemirror_mode": {
    "name": "ipython",
    "version": 3
   },
   "file_extension": ".py",
   "mimetype": "text/x-python",
   "name": "python",
   "nbconvert_exporter": "python",
   "pygments_lexer": "ipython3",
   "version": "3.12.4"
  }
 },
 "nbformat": 4,
 "nbformat_minor": 2
}
