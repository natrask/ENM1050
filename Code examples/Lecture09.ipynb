{
  "nbformat": 4,
  "nbformat_minor": 0,
  "metadata": {
    "colab": {
      "provenance": [],
      "include_colab_link": true
    },
    "kernelspec": {
      "name": "python3",
      "display_name": "Python 3"
    },
    "language_info": {
      "name": "python"
    }
  },
  "cells": [
    {
      "cell_type": "markdown",
      "metadata": {
        "id": "view-in-github",
        "colab_type": "text"
      },
      "source": [
        "<a href=\"https://colab.research.google.com/github/natrask/ENM1050/blob/main/Code%20examples/Lecture09.ipynb\" target=\"_parent\"><img src=\"https://colab.research.google.com/assets/colab-badge.svg\" alt=\"Open In Colab\"/></a>"
      ]
    },
    {
      "cell_type": "markdown",
      "source": [
        "#**Classes and linear algebra**#"
      ],
      "metadata": {
        "id": "9Mn5gAm1sA35"
      }
    },
    {
      "cell_type": "markdown",
      "source": [
        "#CONTRIBUTORS#\n",
        "\n",
        "This in-class exercise is to be done in pairs. Add the names of the two students in this text block.\n"
      ],
      "metadata": {
        "id": "5oIyjTdu74cb"
      }
    },
    {
      "cell_type": "markdown",
      "source": [
        "# Scope in functions"
      ],
      "metadata": {
        "id": "avdcVzRAAdAT"
      }
    },
    {
      "cell_type": "markdown",
      "source": [
        "So far, we haven't really discussed scope. As we take the final step toward using classes in Python, our programs will begin to be complicated enough that bugs due to scope errors will begin to appear. The rules of scope are relatively simple. When you go one step out of scope (e.g. from inside a function to outside a function) any variables that you declared inside are no longer visible. This is nice, otherwise you would be dealing with a huge headache of *variable name clashing*, where you wouldn't be able to use two variables with the same name in different parts of your code."
      ],
      "metadata": {
        "id": "-GX4XWzyI0cp"
      }
    },
    {
      "cell_type": "markdown",
      "source": [
        "In the code below, I've commented out the functions that wouldn't work. Try uncommenting them so you see what error messages get thrown up when you make a scoping bug."
      ],
      "metadata": {
        "id": "WYvbt6r3ndR1"
      }
    },
    {
      "cell_type": "code",
      "source": [
        "# Global Scope\n",
        "x = 10\n",
        "\n",
        "def outer_function():\n",
        "    # Enclosing Scope\n",
        "    y = 20\n",
        "\n",
        "    def inner_function():\n",
        "        # Local Scope\n",
        "        z = 30\n",
        "        print(\"Inside inner_function:\")\n",
        "        print(\"x (global):\", x)\n",
        "        print(\"y (enclosing):\", y)\n",
        "        print(\"z (local):\", z)\n",
        "\n",
        "    inner_function()\n",
        "    print(\"Inside outer_function:\")\n",
        "    print(\"x (global):\", x)\n",
        "    print(\"y (enclosing):\", y)\n",
        "    # z is not accessible here, it is local to inner_function\n",
        "    # print(\"z (local):\", z)  # This would raise a NameError\n",
        "\n",
        "outer_function()\n",
        "print(\"In global scope:\")\n",
        "print(\"x (global):\", x)\n",
        "# y and z are not accessible here, they are local to inner_function and outer_function\n",
        "# print(\"y (enclosing):\", y)\n",
        "# print(\"z (local):\", z)"
      ],
      "metadata": {
        "id": "cb4OnK03JK2W",
        "outputId": "c9f4bcf1-f3fd-4603-8d7f-704aa5285e91",
        "colab": {
          "base_uri": "https://localhost:8080/"
        }
      },
      "execution_count": 2,
      "outputs": [
        {
          "output_type": "stream",
          "name": "stdout",
          "text": [
            "Inside inner_function:\n",
            "x (global): 10\n",
            "y (enclosing): 20\n",
            "z (local): 30\n",
            "Inside outer_function:\n",
            "x (global): 10\n",
            "y (enclosing): 20\n",
            "In global scope:\n",
            "x (global): 10\n"
          ]
        }
      ]
    },
    {
      "cell_type": "markdown",
      "source": [
        "We'll just do a little experiment here. Check what happens when you pass a globally scoped variable into a function. Anything you do to the variable inside the function does not persist outside the function, whether you define a new variable with the same name or you take a variable scoped outside into the function."
      ],
      "metadata": {
        "id": "kUBVVFWzmw2w"
      }
    },
    {
      "cell_type": "code",
      "source": [
        "# Global Scope\n",
        "x = 10\n",
        "\n",
        "def outer_function_1():\n",
        "    # Enclosing Scope\n",
        "    x = 3\n",
        "    y = 20\n",
        "def outer_function_2(z):\n",
        "    # Enclosing Scope\n",
        "    z = 3\n",
        "    y = 20\n",
        "\n",
        "# Here are three little experiments:\n",
        "\n",
        "print(x) # the original value\n",
        "outer_function_1()\n",
        "print(x) # the value is unchanged, because a second x was defined inside outer_function_1\n",
        "outer_function_2(x)\n",
        "print(x) # the value is unchanged"
      ],
      "metadata": {
        "colab": {
          "base_uri": "https://localhost:8080/"
        },
        "id": "AsVUKTIJn1FY",
        "outputId": "dd69fbf9-103b-4e1b-d6d1-b3f43f4aa2df"
      },
      "execution_count": 7,
      "outputs": [
        {
          "output_type": "stream",
          "name": "stdout",
          "text": [
            "10\n",
            "10\n",
            "10\n"
          ]
        }
      ]
    },
    {
      "cell_type": "markdown",
      "source": [
        "# Introduction to classes"
      ],
      "metadata": {
        "id": "WJipQ7A6NQHi"
      }
    },
    {
      "cell_type": "markdown",
      "source": [
        "The final ingredient to learning python is classes. At the end of today, you will know 90% of the basic syntax, and we will pivot the rest of the class toward doing cool science instead of learning the basics."
      ],
      "metadata": {
        "id": "72b9zk9aZR-O"
      }
    },
    {
      "cell_type": "markdown",
      "source": [
        "The syntax for classes comes in a few flavors.\n",
        "\n",
        "1. Classes with no instances.\n",
        "2. Classes with instances.\n",
        "3. Classes with inheritance.\n",
        "\n",
        "We gave examples on slides in class. Please run the following to get some specific examples of each."
      ],
      "metadata": {
        "id": "yFT3wX9kyl2f"
      }
    },
    {
      "cell_type": "markdown",
      "source": [
        "Example 1. Just a container for objects. You can use these to group collections of variables and functions."
      ],
      "metadata": {
        "id": "6ipMIUcYsaY4"
      }
    },
    {
      "cell_type": "code",
      "source": [
        "class GenericDog:\n",
        "    what_do_they_go = 'Dogs go woof'\n",
        "    def whatKindofAnimal():\n",
        "        return f\"I am a dog!\"\n",
        "\n",
        "print(GenericDog.whatKindofAnimal())\n",
        "print(GenericDog.what_do_they_go)"
      ],
      "metadata": {
        "id": "zIEGEYeJzf8J",
        "colab": {
          "base_uri": "https://localhost:8080/"
        },
        "outputId": "47aac9ba-d88a-41be-969f-6fab46b77ee8"
      },
      "execution_count": 13,
      "outputs": [
        {
          "output_type": "stream",
          "name": "stdout",
          "text": [
            "I am a dog!\n",
            "Dogs go woof\n"
          ]
        }
      ]
    },
    {
      "cell_type": "markdown",
      "source": [
        "Example 2. Now we introduce how to use init and self to define how to specialize across multiple instances of one Dog."
      ],
      "metadata": {
        "id": "HqpB882R-fpm"
      }
    },
    {
      "cell_type": "code",
      "source": [
        "class Dog:\n",
        "    def __init__(self, name, age, breed):\n",
        "        self.name = name\n",
        "        self.age = age\n",
        "        self.breed = breed\n",
        "\n",
        "    def whatKindofAnimal(self):\n",
        "        return f\"I am a dog!\"\n",
        "\n",
        "    def bark(self):\n",
        "        return f\"{self.name} says woof!\"\n",
        "\n",
        "    def get_info(self):\n",
        "        return f\"Name: {self.name}, Age: {self.age}, Breed: {self.breed}\"\n",
        "\n",
        "# Example usage. Instantiate two different dog objects\n",
        "my_dog1 = Dog(\"Buddy\", 3, \"Golden Retriever\")\n",
        "my_dog2 = Dog(\"Fido\", 5, \"Cocker Spaniel\")\n",
        "\n",
        "#Look at how it specializes across the different instances of Dog\n",
        "print(my_dog1.whatKindofAnimal())\n",
        "print(my_dog1.bark())\n",
        "print(my_dog1.get_info())\n",
        "\n",
        "print(my_dog1.whatKindofAnimal())\n",
        "print(my_dog2.bark())\n",
        "print(my_dog2.get_info())"
      ],
      "metadata": {
        "id": "WduFfW7tt3BU",
        "colab": {
          "base_uri": "https://localhost:8080/"
        },
        "outputId": "ec2e132e-d57d-4dea-dc88-3f27d9424ae8"
      },
      "execution_count": 21,
      "outputs": [
        {
          "output_type": "stream",
          "name": "stdout",
          "text": [
            "I am a dog!\n",
            "Buddy says woof!\n",
            "Name: Buddy, Age: 3, Breed: Golden Retriever\n",
            "I am a dog!\n",
            "Fido says woof!\n",
            "Name: Fido, Age: 5, Breed: Cocker Spaniel\n"
          ]
        }
      ]
    },
    {
      "cell_type": "markdown",
      "source": [
        "Example 3. We can generalize classes to describe taxonomies (i.e. dog with a job is an example of a dog is an example of an animal and so on). This allows us to design classes generically at a broad level and then add in functionality where it makes sense. Note that we can **overload** a function from a previous level - in this setting a workingdog woofs differently than a plain old dog."
      ],
      "metadata": {
        "id": "BzAGJqALCGvB"
      }
    },
    {
      "cell_type": "code",
      "source": [
        "class WorkingDog(Dog):\n",
        "    def __init__(self, name, age, breed, job):\n",
        "        super().__init__(name, age, breed)\n",
        "        self.job = job\n",
        "\n",
        "    def bark(self):\n",
        "        return f\"{self.name} says woof, I'm a {self.job}!\"\n",
        "\n",
        "    def do_job(self):\n",
        "        return f\"{self.name} is doing their job: {self.job}\"\n",
        "\n",
        "# Example usage:\n",
        "working_dog = WorkingDog(\"Max\", 4, \"German Shepherd\", \"Police Dog\")\n",
        "print(working_dog.bark())\n",
        "print(working_dog.get_info())\n",
        "print(working_dog.do_job())"
      ],
      "metadata": {
        "id": "uGXWlMgLCSHx",
        "colab": {
          "base_uri": "https://localhost:8080/"
        },
        "outputId": "a50cf180-1d10-4486-8d2e-4365d146aa2b"
      },
      "execution_count": 22,
      "outputs": [
        {
          "output_type": "stream",
          "name": "stdout",
          "text": [
            "Max says woof, I'm Police Dog!\n",
            "Name: Max, Age: 4, Breed: German Shepherd\n",
            "Max is doing their job: Police Dog\n"
          ]
        }
      ]
    },
    {
      "cell_type": "markdown",
      "source": [
        "\n",
        "# Further examples and exercises\n",
        "\n",
        "Here are some further examples you can use to practice.\n",
        "\n",
        "\n",
        "**Example 1: Basic Class with Attributes and Methods**\n",
        "\n",
        "This example demonstrates a simple class with attributes and a method.\n",
        "\n"
      ],
      "metadata": {
        "id": "rYz74dyU3hu9"
      }
    },
    {
      "cell_type": "code",
      "source": [
        "class Car:\n",
        "    def __init__(self, make, model, year):\n",
        "        self.make = make\n",
        "        self.model = model\n",
        "        self.year = year\n",
        "\n",
        "    def get_description(self):\n",
        "        return f\"{self.year} {self.make} {self.model}\"\n",
        "\n",
        "# Example usage:\n",
        "my_car = Car(\"Toyota\", \"Corolla\", 2020)\n",
        "print(my_car.get_description())"
      ],
      "metadata": {
        "id": "zn5YXJ-h30DG"
      },
      "execution_count": null,
      "outputs": []
    },
    {
      "cell_type": "markdown",
      "source": [
        "**Example 2: Class Inheritance.**\n",
        "Here are two examples of class inheritance. One generates an abstract shape function, illustrating how we can design a parent class as a generic template for child classes to implement."
      ],
      "metadata": {
        "id": "pPSgxRXv31w2"
      }
    },
    {
      "cell_type": "code",
      "source": [
        "class Shape:\n",
        "    def __init__(self, color):\n",
        "        self.color = color\n",
        "\n",
        "    def area(self):\n",
        "        pass  # This method will be overridden in subclasses. Returning pass signifies that this is meant to be overloaded\n",
        "\n",
        "class Rectangle(Shape):\n",
        "    def __init__(self, color, width, height):\n",
        "        super().__init__(color)\n",
        "        self.width = width\n",
        "        self.height = height\n",
        "\n",
        "    def area(self):\n",
        "        return self.width * self.height\n",
        "\n",
        "# Example usage:\n",
        "rect = Rectangle(\"blue\", 5, 10)\n",
        "print(f\"A {rect.color} rectangle with area: {rect.area()}\")"
      ],
      "metadata": {
        "colab": {
          "base_uri": "https://localhost:8080/"
        },
        "id": "g5ZSI70g35I3",
        "outputId": "41652925-e53a-4175-850c-22f606c2ab8b"
      },
      "execution_count": 38,
      "outputs": [
        {
          "output_type": "stream",
          "name": "stdout",
          "text": [
            "A blue rectangle with area: 50\n"
          ]
        }
      ]
    },
    {
      "cell_type": "markdown",
      "source": [
        "Look what happens when you attempt to call the area function - this is the intended usage of the 'pass' function."
      ],
      "metadata": {
        "id": "iV_2BeOZ44L9"
      }
    },
    {
      "cell_type": "code",
      "source": [
        "circ = Shape('red')\n",
        "print(circ.area())"
      ],
      "metadata": {
        "colab": {
          "base_uri": "https://localhost:8080/"
        },
        "id": "SZZUwu4G4wUN",
        "outputId": "8bc81902-299d-41d2-f7ea-eec4a17c3710"
      },
      "execution_count": 37,
      "outputs": [
        {
          "output_type": "stream",
          "name": "stdout",
          "text": [
            "None\n"
          ]
        }
      ]
    },
    {
      "cell_type": "markdown",
      "source": [
        "This example shows a BankAccount class with a class variable to keep track of the total number of accounts created."
      ],
      "metadata": {
        "id": "OxQzxAdh4Wda"
      }
    },
    {
      "cell_type": "code",
      "source": [
        "class BankAccount:\n",
        "    total_accounts = 0  # Class variable\n",
        "\n",
        "    def __init__(self, owner, balance=0):\n",
        "        self.owner = owner\n",
        "        self.balance = balance\n",
        "        BankAccount.total_accounts += 1\n",
        "\n",
        "    def deposit(self, amount):\n",
        "        self.balance += amount\n",
        "\n",
        "    def withdraw(self, amount):\n",
        "        if amount <= self.balance:\n",
        "            self.balance -= amount\n",
        "        else:\n",
        "            print(\"Insufficient funds\")\n",
        "\n",
        "    def get_balance(self):\n",
        "        return self.balance\n",
        "\n",
        "# Example usage:\n",
        "account1 = BankAccount(\"Alice\", 1000)\n",
        "account2 = BankAccount(\"Bob\", 500)\n",
        "\n",
        "account1.deposit(200)\n",
        "account2.withdraw(100)\n",
        "\n",
        "print(f\"Total bank accounts created: {BankAccount.total_accounts}\")\n",
        "print(f\"{account1.owner}'s balance: {account1.get_balance()}\")\n",
        "print(f\"{account2.owner}'s balance: {account2.get_balance()}\")"
      ],
      "metadata": {
        "colab": {
          "base_uri": "https://localhost:8080/"
        },
        "id": "x14gd-2Z4Ycy",
        "outputId": "dbc32ba1-4cae-4665-8dbf-228390ba35e5"
      },
      "execution_count": 34,
      "outputs": [
        {
          "output_type": "stream",
          "name": "stdout",
          "text": [
            "Total bank accounts created: 2\n",
            "Alice's balance: 1200\n",
            "Bob's balance: 400\n"
          ]
        }
      ]
    },
    {
      "cell_type": "markdown",
      "source": [
        "**Your Turn:** We are going to write a program to collect students grades and compute their average. Write a class called Gradebook_entry which takes a students name and a list of grades. The class should also maintain a function called **calculate_grade**."
      ],
      "metadata": {
        "id": "Qj-7tYvfMGuj"
      }
    },
    {
      "cell_type": "code",
      "source": [
        "# You write code here"
      ],
      "metadata": {
        "id": "jUPl2fIlkQT9"
      },
      "execution_count": 39,
      "outputs": []
    },
    {
      "cell_type": "markdown",
      "source": [
        "This is an example of an **interface**. Somebody has described to you how they would like to interact with your class, and the implementation can be hidden from them. Make sure your code can ingest the following inputs:"
      ],
      "metadata": {
        "id": "TDS-8TWswpyT"
      }
    },
    {
      "cell_type": "code",
      "source": [
        "name1 = \"Bob Blimpy\"\n",
        "grades1 = [100,98,23,67]\n",
        "name2 = \"Carly Cockledoodle\"\n",
        "grades2 = [87,85,89,91]\n",
        "name3 = \"Dongil Dude\"\n",
        "grades3 = [54,99,97,73]"
      ],
      "metadata": {
        "id": "LjTmDehF0Q0V"
      },
      "execution_count": null,
      "outputs": []
    },
    {
      "cell_type": "markdown",
      "source": [
        "Write a while loop to accept an arbitrary number of student entries and print them out."
      ],
      "metadata": {
        "id": "FA62BbXu1Fkc"
      }
    },
    {
      "cell_type": "code",
      "source": [
        "while(True):\n",
        "  add_another = input('Add another entry? (Y/N) ')\n",
        "  if add_another == 'N' or add_another == 'n':\n",
        "    break\n",
        "  if add_another == 'Y' or add_another == 'y':\n",
        "    somecode = 0 # write code here\n",
        "  else:\n",
        "    print(\"Invalid response. Please try again. \\n\")"
      ],
      "metadata": {
        "colab": {
          "base_uri": "https://localhost:8080/"
        },
        "id": "YGkcbTbU1FG0",
        "outputId": "49bf85a5-1bc4-4e4e-ef15-8dfe4c65403d"
      },
      "execution_count": 33,
      "outputs": [
        {
          "name": "stdout",
          "output_type": "stream",
          "text": [
            "Add another entry? (Y/N) N\n"
          ]
        }
      ]
    },
    {
      "cell_type": "markdown",
      "source": [
        "Now we would like to modify the grading scheme, so that rather than using the mean we use the mode to calculate the students grade. Write a new class called modified_Gradebook_entry that inherits from from the Gradebook_entry class and overloads the **calculate_grade** class to use the mode instead."
      ],
      "metadata": {
        "id": "qiulfLBv2Px8"
      }
    },
    {
      "cell_type": "markdown",
      "source": [
        "# Linear solvers using numpy"
      ],
      "metadata": {
        "id": "Yd-Gt7nX9ULl"
      }
    },
    {
      "cell_type": "markdown",
      "source": [
        "In class we provided a (very brief) explanation about how to use matrices to encode linear systems of equations. We will discuss linear algebra more later in the course, but for this week we will use it as a \"black box\" to solve systems.\n",
        "\n",
        "Consider the example shown in class:\n",
        "\\begin{align*}\n",
        "    3\\, x_1 + 2\\, x_2 + 7\\, x_3 = 1\\\\\n",
        "    9\\, x_1 + 2\\, x_2 + 8\\, x_3 = 10\\\\\n",
        "    2\\, x_1 + 17\\, x_2 + 9\\, x_3 = 6    \n",
        "\\end{align*}\n",
        "\n",
        "This maps into the following matrices:\n",
        "\\begin{equation*}\n",
        "\\mathbf{A} =\n",
        "\\begin{bmatrix}\n",
        "3 & 2 & 7 \\\\\n",
        "9 & 2 & 8 \\\\\n",
        "2 & 17 & 9\n",
        "\\end{bmatrix},\n",
        "\\quad \\mathbf{x} =\n",
        "\\begin{bmatrix}\n",
        "x_1 \\\\\n",
        "x_2 \\\\\n",
        "x_3\n",
        "\\end{bmatrix},\n",
        "\\quad \\mathbf{b} =\n",
        "\\begin{bmatrix}\n",
        "1 \\\\\n",
        "10 \\\\\n",
        "6\n",
        "\\end{bmatrix}\n",
        "\\end{equation*}"
      ],
      "metadata": {
        "id": "1dURrLsZ9Yfv"
      }
    },
    {
      "cell_type": "markdown",
      "source": [
        "Write these as a 3x3, 3x1, and 3x1 numpy array called A_mat, x_vec, and b_vec"
      ],
      "metadata": {
        "id": "q5hYDZtl-WcM"
      }
    },
    {
      "cell_type": "code",
      "source": [
        "import numpy as np\n",
        "#re-write code here\n",
        "A_mat = np.array([[0,0,0],[0,0,0],[0,0,0]])\n",
        "b_vec = np.array([0,0,0])"
      ],
      "metadata": {
        "id": "qifugU-2-eu1"
      },
      "execution_count": 50,
      "outputs": []
    },
    {
      "cell_type": "markdown",
      "source": [
        "The following code will provide a solution to this system of equations:"
      ],
      "metadata": {
        "id": "pqhLYE_n-gHl"
      }
    },
    {
      "cell_type": "code",
      "source": [
        "import numpy as np\n",
        "\n",
        "# Solve the system of equations\n",
        "solution = np.linalg.solve(A_mat, b_vec)[0]\n",
        "\n",
        "# Print the solution\n",
        "print(\"Solution:\")\n",
        "print(solution)"
      ],
      "metadata": {
        "colab": {
          "base_uri": "https://localhost:8080/"
        },
        "id": "fRU6JDmt-mUe",
        "outputId": "ea7054cc-d71b-4393-fdd9-fe77a0b8727b"
      },
      "execution_count": 55,
      "outputs": [
        {
          "output_type": "stream",
          "name": "stdout",
          "text": [
            "Solution:\n",
            "[0. 0. 0.]\n"
          ]
        },
        {
          "output_type": "stream",
          "name": "stderr",
          "text": [
            "<ipython-input-55-cca3b2a1d0ce>:4: FutureWarning: `rcond` parameter will change to the default of machine precision times ``max(M, N)`` where M and N are the input matrix dimensions.\n",
            "To use the future default and silence this warning we advise to pass `rcond=None`, to keep using the old, explicitly pass `rcond=-1`.\n",
            "  solution = np.linalg.lstsq(A_mat, b_vec)[0]\n"
          ]
        }
      ]
    },
    {
      "cell_type": "markdown",
      "source": [
        "Verify that the solution satisfies the equations by plugging the solution back into the governing equations.\n",
        "\n",
        "In linear algebra, this is equivalent to checking that\n",
        "$$ \\mathbf{A}\\,x_{sol} - \\mathbf{b} = 0$$"
      ],
      "metadata": {
        "id": "df2hI1vr-phF"
      }
    },
    {
      "cell_type": "code",
      "source": [
        "print(A_mat @ solution - b_vec)"
      ],
      "metadata": {
        "colab": {
          "base_uri": "https://localhost:8080/"
        },
        "id": "hg3iXs-I-xbG",
        "outputId": "e23d12da-febd-4ede-ee3e-53376d351713"
      },
      "execution_count": 57,
      "outputs": [
        {
          "output_type": "stream",
          "name": "stdout",
          "text": [
            "[0. 0. 0.]\n"
          ]
        }
      ]
    },
    {
      "cell_type": "markdown",
      "source": [
        "# Today's primary exercise."
      ],
      "metadata": {
        "id": "c3MCZH5iIa0J"
      }
    },
    {
      "cell_type": "markdown",
      "source": [
        "Today we are going to build up a class that will allow us to solve equations on arbitrary circuits.\n",
        "\n",
        "In class today we introduced graphs as a mathematical object. Below you can see an implementation I've put together which may be used to construct a graph."
      ],
      "metadata": {
        "id": "Ysw0AV8-5tFU"
      }
    },
    {
      "cell_type": "code",
      "source": [
        "class DirectedGraph:\n",
        "    def __init__(self, num_vertices):\n",
        "        self.num_vertices = num_vertices\n",
        "        self.adjacency_list = [[] for _ in range(num_vertices)]\n",
        "\n",
        "    def add_edge(self, src, dest):\n",
        "        if src < self.num_vertices and dest < self.num_vertices:\n",
        "            self.adjacency_list[src].append(dest)\n",
        "        else:\n",
        "            print(\"Error: Vertex out of bounds\")\n",
        "\n",
        "    def remove_edge(self, src, dest):\n",
        "        if src < self.num_vertices and dest < self.num_vertices:\n",
        "            if dest in self.adjacency_list[src]:\n",
        "                self.adjacency_list[src].remove(dest)\n",
        "            else:\n",
        "                print(\"Error: Edge does not exist\")\n",
        "        else:\n",
        "            print(\"Error: Vertex out of bounds\")\n",
        "\n",
        "    def has_edge(self, src, dest):\n",
        "        if src < self.num_vertices and dest < self.num_vertices:\n",
        "            return dest in self.adjacency_list[src]\n",
        "        else:\n",
        "            print(\"Error: Vertex out of bounds\")\n",
        "            return False\n",
        "\n",
        "    def get_adjacent_vertices(self, vertex):\n",
        "        if vertex < self.num_vertices:\n",
        "            return self.adjacency_list[vertex]\n",
        "        else:\n",
        "            print(\"Error: Vertex out of bounds\")\n",
        "            return []\n",
        "\n",
        "    def __str__(self): # This is a handy function to overload which let's you define what happens when you execute print(this_object)\n",
        "        result = \"\"\n",
        "        for i in range(self.num_vertices):\n",
        "            result += f\"{i}: {self.adjacency_list[i]}\\n\"\n",
        "        return result"
      ],
      "metadata": {
        "id": "i64vhfKZ6A_C"
      },
      "execution_count": 40,
      "outputs": []
    },
    {
      "cell_type": "markdown",
      "source": [
        "**Example of how to use this class.** To build up a graph, you must first specify the number of nodes (you can get a clue about how you're meant to interact with the object by reading its constructor). You then can build up the graph an edge at a time."
      ],
      "metadata": {
        "id": "AsI4EY066Qgn"
      }
    },
    {
      "cell_type": "code",
      "source": [
        "# Build up a graph consisting of 5 edges\n",
        "graph = DirectedGraph(5)\n",
        "graph.add_edge(0, 1)\n",
        "graph.add_edge(0, 2)\n",
        "graph.add_edge(1, 2)\n",
        "graph.add_edge(2, 3)\n",
        "graph.add_edge(3, 4)\n",
        "\n",
        "\n",
        "# Show ways to interact with the graph - printing it out, checking the existence of an edge, looping over neighbors of nodes, and deleting edges\n",
        "print(\"Graph adjacency list:\")\n",
        "print(graph)\n",
        "print(\"Does an edge exist from 0 to 2?\", graph.has_edge(0, 2))\n",
        "print(\"Adjacent vertices to vertex 2:\", graph.get_adjacent_vertices(2))\n",
        "graph.remove_edge(2, 3)\n",
        "print(\"Graph adjacency list after removing edge from 2 to 3:\")\n",
        "print(graph)"
      ],
      "metadata": {
        "id": "m69DdWAJ6fWp"
      },
      "execution_count": null,
      "outputs": []
    },
    {
      "cell_type": "markdown",
      "source": [
        "**Your turn.** Use this class to build up the circuit below. You should have 3 nodes corresponding to V1,V2, and V3, and 5 edges corresponding to R1,...,R5."
      ],
      "metadata": {
        "id": "vnGPFgn27n_H"
      }
    },
    {
      "cell_type": "markdown",
      "source": [
        "![image.png](data:image/png;base64,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)"
      ],
      "metadata": {
        "id": "6qeJIRF97ypi"
      }
    },
    {
      "cell_type": "markdown",
      "source": [
        "Write a new class called resistor_network which inherits from the Directed graph class, but allows you to additionally store a resistance on each node. You should also include a way to determine whether a voltage value will be imposed (in the example above, we fixed $V_1=V$ and $V_3 = 0$ to drive the circuit with a given voltage drop).\n",
        "\n",
        "Use this matrix to build and solve the equations presented in class, copied below for convenience.\n",
        "\n",
        "**Note that this is a hard task. Do your best to put this together, and I will demo this in class on Wednesday.**\n",
        "\n",
        "\\begin{equation*}\n",
        "\\begin{bmatrix}\n",
        "1 & 0 & 0 & 0 & 0 &  0 & 0 & 0\\\\\n",
        "0 & 0 & 0 & 1 & 1 &  -1 & -1 & -1\\\\\n",
        "0 & 0 & 1 & 0 & 0 &  0 & 0 & 0\\\\\n",
        "-\\frac{1}{R_1} & \\frac{1}{R_1} & 0 & 1 & 0 &  0 & 0 & 0\\\\\n",
        "-\\frac{1}{R_2} & \\frac{1}{R_2} & 0 & 1 & 0 &  0 & 0 & 0\\\\\n",
        "0 & -\\frac{1}{R_3} & \\frac{1}{R_3} & 0 & 0 &  1 & 0 & 0\\\\\n",
        "0 & -\\frac{1}{R_4} & \\frac{1}{R_4} & 0 & 0 &  1 & 0 & 0\\\\\n",
        "0 & -\\frac{1}{R_5} & \\frac{1}{R_5} & 0 & 0 &  1 & 0 & 0\\\\\n",
        "\\end{bmatrix}\n",
        "\\begin{bmatrix}\n",
        "V_1 \\\\\n",
        "V_2 \\\\\n",
        "V_3 \\\\\n",
        "I_1 \\\\\n",
        "I_2 \\\\\n",
        "I_3 \\\\\n",
        "I_4 \\\\\n",
        "I_5\n",
        "\\end{bmatrix}\n",
        "=\n",
        "\\begin{bmatrix}\n",
        "V \\\\\n",
        "0 \\\\\n",
        "0 \\\\\n",
        "0 \\\\\n",
        "0 \\\\\n",
        "0 \\\\\n",
        "0 \\\\\n",
        "0 \\\\\n",
        "\\end{bmatrix}\n",
        "\\end{equation*}"
      ],
      "metadata": {
        "id": "vCeNyegM8MyE"
      }
    },
    {
      "cell_type": "code",
      "source": [],
      "metadata": {
        "id": "IkGtxAv78MZM"
      },
      "execution_count": null,
      "outputs": []
    },
    {
      "cell_type": "markdown",
      "source": [],
      "metadata": {
        "id": "QFl5vYax8lGY"
      }
    },
    {
      "cell_type": "markdown",
      "source": [
        "#**Turning in assignments on Canvas**#\n",
        "\n",
        "In order to submit your assignment as a pair, you need to create a group on Canvas. This will enable you to both receive the same grade for one submission.\n",
        "1. On Canvas, navigate to `People > Groups > In-Class 09`.\n",
        "1. Find an empty group and add the names of both members of the pair.\n",
        "\n",
        "\n",
        "Submit your work as both an ipynb and a pdf to Canvas.\n",
        "1. Click on `File > Download .ipynb` to download the ipynb file. Do NOT clear your outputs before doing this step.\n",
        "1. Click on `File > Print` to print the notebook to a pdf. This is a backup for the graders in case we are not able to access or run your ipynb during grading.\n",
        "1. On Canvas, navigate to the relevant assignment and attach both the ipynb and pdf files to your submission.\n",
        "1. The student who did not submit should make sure that the group was created successfully by checking that they can also access the files on their Canvas page."
      ],
      "metadata": {
        "id": "k6vhGezQdNgh"
      }
    },
    {
      "cell_type": "code",
      "source": [],
      "metadata": {
        "id": "X9dpSUukO7L6"
      },
      "execution_count": null,
      "outputs": []
    }
  ]
}