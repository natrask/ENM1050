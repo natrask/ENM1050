{
  "nbformat": 4,
  "nbformat_minor": 0,
  "metadata": {
    "colab": {
      "provenance": [],
      "include_colab_link": true
    },
    "kernelspec": {
      "name": "python3",
      "display_name": "Python 3"
    },
    "language_info": {
      "name": "python"
    }
  },
  "cells": [
    {
      "cell_type": "markdown",
      "metadata": {
        "id": "view-in-github",
        "colab_type": "text"
      },
      "source": [
        "<a href=\"https://colab.research.google.com/github/natrask/ENM1050/blob/main/Code%20examples/Lecture06.ipynb\" target=\"_parent\"><img src=\"https://colab.research.google.com/assets/colab-badge.svg\" alt=\"Open In Colab\"/></a>"
      ]
    },
    {
      "cell_type": "markdown",
      "source": [
        "# **A few changes of note**\n",
        "1. From now on you are free to choose your partner as you'd like.\n",
        "2. I *strongly* suggest you work with a new partner every exercise - anybody can learn Python from Youtube videos, not everybody can network with Penn students while they do it!\n",
        "3. Consider your learning style when choosing a partner, but challenge yourself! It's a known psychological fact that leaders are prone to surrounding themselves with people of similar personality types. If you pick a partner who thinks differently from you, you are building soft skills that are important for working with and leading future teams with diverse strengths.\n",
        "4. Now that we know the basics, we will be doing more substantial in-class exercises that will require more careful thought and planning."
      ],
      "metadata": {
        "id": "HetQAoJEbhXI"
      }
    },
    {
      "cell_type": "markdown",
      "source": [
        "#**Solving nonlinear equations: Newton's method, the secant method, and bisection**#"
      ],
      "metadata": {
        "id": "9Mn5gAm1sA35"
      }
    },
    {
      "cell_type": "markdown",
      "source": [
        "#CONTRIBUTORS#\n",
        "\n",
        "This in-class exercise is to be done in pairs. Add the names of the two students in this text block.\n"
      ],
      "metadata": {
        "id": "5oIyjTdu74cb"
      }
    },
    {
      "cell_type": "markdown",
      "source": [
        "# An introduction to functions #"
      ],
      "metadata": {
        "id": "WJipQ7A6NQHi"
      }
    },
    {
      "cell_type": "markdown",
      "source": [
        "So far in this course, we've used many of Pythons built in functions, as well as some functions from packages. But what is a function, and how can we confidently define our own? We will discuss the details of them in the coming week, but for now we will run through the basic syntax to facilitate todays lecture, which is our first dive into scientific computing."
      ],
      "metadata": {
        "id": "gh0KAfhrNRlB"
      }
    },
    {
      "cell_type": "markdown",
      "source": [
        "**Basic syntax**\n",
        "\n",
        "```\n",
        "def myFunction(input_variable_1,input_variable_2):\n",
        "     # code to be executed\n",
        "     return value_to_return # optional value to return; can omit this line\n",
        "```"
      ],
      "metadata": {
        "id": "MEzj50UFC-SI"
      }
    },
    {
      "cell_type": "markdown",
      "source": [
        "Here are two examples of functions that either return a value, or do not return a value:"
      ],
      "metadata": {
        "id": "MOZH3ITFD15P"
      }
    },
    {
      "cell_type": "code",
      "source": [
        "def add_two_numbers(num1,num2):\n",
        "  sum = num1 + num2\n",
        "  return sum\n",
        "\n",
        "def print_a_greeting(persons_name):\n",
        "  print(\"Hello \" + persons_name + \"!\")\n",
        "\n",
        "#The following is how to call a function after it has been defined\n",
        "print(add_two_numbers(1,2))\n",
        "print_a_greeting(\"ENM1050 student\")"
      ],
      "metadata": {
        "colab": {
          "base_uri": "https://localhost:8080/"
        },
        "id": "9rI9yzkOEAnB",
        "outputId": "50d40ead-3188-4114-90e2-7198f24ac9c9"
      },
      "execution_count": 2,
      "outputs": [
        {
          "output_type": "stream",
          "name": "stdout",
          "text": [
            "3\n",
            "Hello ENM1050 student!\n"
          ]
        }
      ]
    },
    {
      "cell_type": "markdown",
      "source": [
        "A built-in python function that we will use a lot of today is *eval*. This function takes in a string and executes it as a python expression. We will use this as a way of parsing user input to built a calculator for finding the roots of a function.\n",
        "\n",
        "\n",
        "\n"
      ],
      "metadata": {
        "id": "nmx1dTAWNyj2"
      }
    },
    {
      "cell_type": "code",
      "source": [
        "a = 1\n",
        "b = 2\n",
        "print(eval('a+b'))\n",
        "print(eval('add_two_numbers(a,b)'))"
      ],
      "metadata": {
        "id": "wEk2Rzl3N3oH",
        "colab": {
          "base_uri": "https://localhost:8080/"
        },
        "outputId": "9e4046a1-6f04-42ae-98c3-fe49aa2b6f53"
      },
      "execution_count": 5,
      "outputs": [
        {
          "output_type": "stream",
          "name": "stdout",
          "text": [
            "3\n",
            "3\n"
          ]
        }
      ]
    },
    {
      "cell_type": "markdown",
      "source": [
        "# Put it together\n",
        "In the next few exercises, we will generate code to plot an arbitrary function and its derivative."
      ],
      "metadata": {
        "id": "XFBVT2MxQMjD"
      }
    },
    {
      "cell_type": "markdown",
      "source": [
        "Below is code to define a function, and generate a plot for values ranging from 0 to 1"
      ],
      "metadata": {
        "id": "9My6aBXvPLUe"
      }
    },
    {
      "cell_type": "code",
      "source": [
        "def function_to_plot(x):\n",
        "  return 18*x**2 + 3*x + 1\n",
        "\n",
        "import matplotlib.pyplot as plt\n",
        "x = []\n",
        "y = []\n",
        "for i in range(100):\n",
        "  newx = float(i)/100   # Why do we need to wrap i in a float? Try to see what happens if you just do i/100\n",
        "  x.append(newx)\n",
        "  y.append(function_to_plot(newx))\n",
        "plt.plot(x,y)"
      ],
      "metadata": {
        "id": "Nj-VfK64Pp0s",
        "colab": {
          "base_uri": "https://localhost:8080/",
          "height": 447
        },
        "outputId": "dcd83fe4-3b0b-439e-b0c2-716f98a07df6"
      },
      "execution_count": 12,
      "outputs": [
        {
          "output_type": "execute_result",
          "data": {
            "text/plain": [
              "[<matplotlib.lines.Line2D at 0x79a2a0169810>]"
            ]
          },
          "metadata": {},
          "execution_count": 12
        },
        {
          "output_type": "display_data",
          "data": {
            "text/plain": [
              "<Figure size 640x480 with 1 Axes>"
            ],
            "image/png": "[encoded data removed]"
          },
          "metadata": {}
        }
      ]
    },
    {
      "cell_type": "markdown",
      "source": [
        "**Your turn:** Update the code above to take in a string as user input of a function to be plotted, and use eval to alter the function to be plotted\n",
        "```\n",
        "Input function of x to be plotted: (x-0.5)**2\n",
        "\n",
        "```\n",
        "![image.png](data:image/png;base64,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)\n",
        "\n"
      ],
      "metadata": {
        "id": "KiLj187YQja4"
      }
    },
    {
      "cell_type": "markdown",
      "source": [
        "**Food for thought:**\n",
        "*   This is an example of *abstraction*, where we can use a function to highlight a module of our code which can be swapped in and out as a \"black-box\"\n",
        "*   eval is easy to use, but also hard to manage the user input for - how can you do error checking to ensure the user has provided a valid mathematical expression?\n",
        "\n"
      ],
      "metadata": {
        "id": "_pxX7eWRH2Ul"
      }
    },
    {
      "cell_type": "markdown",
      "source": [
        "In class today we saw three different way of approximating a first derivative:\n",
        "\n",
        "\n",
        "```\n",
        "  > dudx[i] =     (u[i]   - u[i-1])/ (x[i]   - x[i-1])     # Backward difference\n",
        "  > dudx[i] =     (u[i+1] - u[i]  )/ (x[i+1] - x[i]  )     # Forward difference\n",
        "  > dudx[i] = 0.5*(u[i+1] - u[i-1])/ (x[i+1] - x[i-1])     # Centered difference\n",
        "```\n",
        "\n",
        "**Your turn:** The code block below attempts to calculate the derivative of a function using centered differences, but runs into an issue for the first and last entry of the list when it tries to i < 0 or i > len(list)-1. Use a conditional statement to catch these edge cases and switch to one of the other difference formulas.\n",
        "\n",
        "*Hint:* To confirm whether your code is correct, always make sure your approximation can reproduce a simple to calculate by hand case. For example, the derivative of $u(x) = x^2$ is $\\frac{du}{dx}(x) = 2x$. Use this fact to confirm you got the correct answer.\n"
      ],
      "metadata": {
        "id": "aSakJvKQKnJL"
      }
    },
    {
      "cell_type": "markdown",
      "source": [
        "**Your turn:** Describe in English what is happening when you evaluate the center difference formula for i = 0 or i = 99."
      ],
      "metadata": {
        "id": "qO945GsQNhcx"
      }
    },
    {
      "cell_type": "code",
      "source": [
        "def function_to_plot(x):\n",
        "  return 18*x**2 + 3*x + 1\n",
        "\n",
        "import matplotlib.pyplot as plt\n",
        "x = []\n",
        "y = []\n",
        "for i in range(100):\n",
        "  newx = float(i)/100   # Why do we need to wrap i in a float? Try to see what happens if you just do i/100\n",
        "  x.append(newx)\n",
        "  y.append(function_to_plot(newx))\n",
        "\n",
        "dydx = []\n",
        "for i in range(100):\n",
        "  new_dydx = 0.5*(y[i+1] - y[i-1])/(x[i+1] - x[i-1])\n",
        "  dydx.append(new_dydx)\n",
        "\n",
        "plt.plot(x,y)\n",
        "plt.plot(x,dydx)\n",
        "plt.show()"
      ],
      "metadata": {
        "colab": {
          "base_uri": "https://localhost:8080/",
          "height": 211
        },
        "id": "rqFCwoKWMbKw",
        "outputId": "774b0b9f-0ef9-4c2e-f0ee-9fe61a118217"
      },
      "execution_count": 13,
      "outputs": [
        {
          "output_type": "error",
          "ename": "IndexError",
          "evalue": "list index out of range",
          "traceback": [
            "\u001b[0;31m---------------------------------------------------------------------------\u001b[0m",
            "\u001b[0;31mIndexError\u001b[0m                                Traceback (most recent call last)",
            "\u001b[0;32m<ipython-input-13-379987c3ac06>\u001b[0m in \u001b[0;36m<cell line: 13>\u001b[0;34m()\u001b[0m\n\u001b[1;32m     12\u001b[0m \u001b[0mdydx\u001b[0m \u001b[0;34m=\u001b[0m \u001b[0;34m[\u001b[0m\u001b[0;34m]\u001b[0m\u001b[0;34m\u001b[0m\u001b[0;34m\u001b[0m\u001b[0m\n\u001b[1;32m     13\u001b[0m \u001b[0;32mfor\u001b[0m \u001b[0mi\u001b[0m \u001b[0;32min\u001b[0m \u001b[0mrange\u001b[0m\u001b[0;34m(\u001b[0m\u001b[0;36m100\u001b[0m\u001b[0;34m)\u001b[0m\u001b[0;34m:\u001b[0m\u001b[0;34m\u001b[0m\u001b[0;34m\u001b[0m\u001b[0m\n\u001b[0;32m---> 14\u001b[0;31m   \u001b[0mnew_dydx\u001b[0m \u001b[0;34m=\u001b[0m \u001b[0;36m0.5\u001b[0m\u001b[0;34m*\u001b[0m\u001b[0;34m(\u001b[0m\u001b[0my\u001b[0m\u001b[0;34m[\u001b[0m\u001b[0mi\u001b[0m\u001b[0;34m+\u001b[0m\u001b[0;36m1\u001b[0m\u001b[0;34m]\u001b[0m \u001b[0;34m-\u001b[0m \u001b[0my\u001b[0m\u001b[0;34m[\u001b[0m\u001b[0mi\u001b[0m\u001b[0;34m-\u001b[0m\u001b[0;36m1\u001b[0m\u001b[0;34m]\u001b[0m\u001b[0;34m)\u001b[0m\u001b[0;34m/\u001b[0m\u001b[0;34m(\u001b[0m\u001b[0mx\u001b[0m\u001b[0;34m[\u001b[0m\u001b[0mi\u001b[0m\u001b[0;34m+\u001b[0m\u001b[0;36m1\u001b[0m\u001b[0;34m]\u001b[0m \u001b[0;34m-\u001b[0m \u001b[0mx\u001b[0m\u001b[0;34m[\u001b[0m\u001b[0mi\u001b[0m\u001b[0;34m-\u001b[0m\u001b[0;36m1\u001b[0m\u001b[0;34m]\u001b[0m\u001b[0;34m)\u001b[0m\u001b[0;34m\u001b[0m\u001b[0;34m\u001b[0m\u001b[0m\n\u001b[0m\u001b[1;32m     15\u001b[0m   \u001b[0mdydx\u001b[0m\u001b[0;34m.\u001b[0m\u001b[0mappend\u001b[0m\u001b[0;34m(\u001b[0m\u001b[0mnew_dydx\u001b[0m\u001b[0;34m)\u001b[0m\u001b[0;34m\u001b[0m\u001b[0;34m\u001b[0m\u001b[0m\n\u001b[1;32m     16\u001b[0m \u001b[0;34m\u001b[0m\u001b[0m\n",
            "\u001b[0;31mIndexError\u001b[0m: list index out of range"
          ]
        }
      ]
    },
    {
      "cell_type": "markdown",
      "source": [
        "# Newton solve #\n",
        "\n",
        "In class today we learned about Newton's method, which is a technique to numerically find roots of nonlinear equations. Remember when using Newton's method, you need to put your equation into the format:\n",
        "\n",
        "$$f(x) = 0$$\n",
        "\n",
        "This means that if you are interested in solving an equation that looks like:\n",
        "\n",
        "$$g(x) = c$$\n",
        "e.g.\n",
        "$$x^2 - 4x = 7$$\n",
        "\n",
        "you need to define\n",
        "$$f(x) = g(x) - c.$$\n",
        "\n",
        "Newton's method in pseudo-code looks like:\n",
        "```\n",
        "  > TOL = some_small_number                                # set a tolerance for how close to zero\n",
        "  > oldguess = make_an_initial_guess\n",
        "  > while abs(error) > TOL                                  # Take steps until tolerance is met\n",
        "    > newguess = oldguess - f(oldguess)/f'(oldguess)\n",
        "```\n",
        "\n",
        "Think through what can go wrong with this! What happens if you have a guess with zero derivative?"
      ],
      "metadata": {
        "id": "FUEDfiwqOPvl"
      }
    },
    {
      "cell_type": "markdown",
      "source": [
        "**Your turn:** Adapt your code from above to solicit two functions from the user: one defining a function and another defining its derivative.\n"
      ],
      "metadata": {
        "id": "cIjg_2QSQWRO"
      }
    },
    {
      "cell_type": "code",
      "source": [
        "# Put code here"
      ],
      "metadata": {
        "id": "_mQJCF4OSO3k"
      },
      "execution_count": 14,
      "outputs": []
    },
    {
      "cell_type": "markdown",
      "source": [
        "**Your turn:** How can you confirm the user provided the correct derivative? You don't need to implement this, but describe in text below.\n"
      ],
      "metadata": {
        "id": "Hj3sog-HSQu0"
      }
    },
    {
      "cell_type": "markdown",
      "source": [
        "**Your turn:** I've provided a skeleton below to get you started - flesh this out to build your own Newton solver. I have set this up so that at each step we append our latest guess to a list. This will make it easy to visualize the progression of the solver when we're done.\n",
        "\n",
        "**Tips:**\n",
        "\n",
        "*   Newton's method only works for a *good enough initial guess*. To get your code up and running, work with an example where you know ahead of time what the derivative and the roots are - if you can reproduce a known simple result then you know you've done everything correctly.\n",
        "*   Before you get started, make a plot of your function and confirm visually that you're close to a root.\n",
        "*   Watch out for infinite loops! If the error isn't decreasing your code will repeat the while loop indefinitely. A strategically placed *break* statement could be helpful to catch and prevent this behavior if the code has been running for too long."
      ],
      "metadata": {
        "id": "3oBTzWxZSZrE"
      }
    },
    {
      "cell_type": "code",
      "source": [
        "TOL = 1e-3\n",
        "guess_list = []\n",
        "initial_guess = 0.0                                   # pick a good initial guess to put in here\n",
        "guess_list.append(initial_guess)\n",
        "\n",
        "# Everything is set up, now we can start the iterative process\n",
        "while( abs(guess_list[-1]) > TOL):\n",
        "  oldguess = guess_list[-1]\n",
        "  fold = 0.0                                          # function_to_plot(oldguess)\n",
        "  dfdxold = 0.0                                       # derivative_of_function_to_plot(oldguess)\n",
        "  newguess = 0.0                                      # oldguess - fold/dfdxold\n",
        "  guess_list.append(newguess)\n",
        "\n",
        "  print('Old guess, f(old guess), new guess: ',oldguess, fold, newguess)"
      ],
      "metadata": {
        "colab": {
          "base_uri": "https://localhost:8080/"
        },
        "id": "pz05ez70T3tg",
        "outputId": "41a63d16-b845-4848-c1d2-b053f1a4906e"
      },
      "execution_count": 19,
      "outputs": [
        {
          "output_type": "stream",
          "name": "stdout",
          "text": [
            "0.1\n",
            "0.010000000000000002\n",
            "0.0010000000000000002\n",
            "0.00010000000000000003\n"
          ]
        }
      ]
    },
    {
      "cell_type": "markdown",
      "source": [
        "**Your turn:** Plot your function as a blue line, with the guesses predicted by your Newton solver super imposed as red dots. You may need to set the plot axes to zoom in appropriately around the root."
      ],
      "metadata": {
        "id": "QuoaoiVcVRPa"
      }
    },
    {
      "cell_type": "markdown",
      "source": [
        "**Your turn (challenge):** What if you don't have access to the derivatives of the function? Alter your code above to implement the **secant method** to find roots without calling a function to evaluate derivatives."
      ],
      "metadata": {
        "id": "e1RwuCShWASC"
      }
    },
    {
      "cell_type": "markdown",
      "source": [
        "# Using 'off-the-shelf' libraries to solve nonlinear equations #"
      ],
      "metadata": {
        "id": "T-Ep-IhMW9au"
      }
    },
    {
      "cell_type": "markdown",
      "source": [
        "Wow - that was a lot of work. You don't need to write all that code every time you need to solve a nonlinear equation. I wrote the following single AI prompt to fetch a code snippet that pulls out a function from the scientific computing python library [SciPy](https://scipy.org/) that completes the same task. (You'll see that Gemini did some silly things - the code below works, but it defines a completely redundant function). SciPy will have many of the methods we study in this class already implemented. The challenge with using either AI or SciPy is that, unless you understand the underlying method, you will have no idea what to do if it gives the wrong answer, or how to choose options from the library that will be better tailored to your specific scientific computing problem."
      ],
      "metadata": {
        "id": "IFytgg3QXF_Y"
      }
    },
    {
      "cell_type": "code",
      "source": [
        "from scipy.optimize import fsolve\n",
        "\n",
        "def function_to_plot(x):\n",
        "  return 18*x**2 + 3*x + 1\n",
        "\n",
        "# Define the function for fsolve\n",
        "def func(x):\n",
        "  return function_to_plot(x)\n",
        "\n",
        "# Initial guess\n",
        "initial_guess = 0.0\n",
        "\n",
        "# Solve the equation\n",
        "result = fsolve(func, initial_guess)\n",
        "\n",
        "print(\"Solution:\", result)\n"
      ],
      "metadata": {
        "id": "u3tGyfhMXFZ4"
      },
      "execution_count": null,
      "outputs": []
    },
    {
      "cell_type": "markdown",
      "source": [
        "#**Turning in assignments on Canvas**#\n",
        "\n",
        "In order to submit your assignment as a pair, you need to create a group on Canvas. This will enable you to both receive the same grade for one submission.\n",
        "1. On Canvas, navigate to `People > Groups > In-Class 05`.\n",
        "1. Find an empty group and add the names of both members of the pair.\n",
        "\n",
        "\n",
        "Submit your work as both an ipynb and a pdf to Canvas.\n",
        "1. Click on `File > Download .ipynb` to download the ipynb file. Do NOT clear your outputs before doing this step.\n",
        "1. Click on `File > Print` to print the notebook to a pdf. This is a backup for the graders in case we are not able to access or run your ipynb during grading.\n",
        "1. On Canvas, navigate to the relevant assignment and attach both the ipynb and pdf files to your submission.\n",
        "1. The student who did not submit should make sure that the group was created successfully by checking that they can also access the files on their Canvas page."
      ],
      "metadata": {
        "id": "k6vhGezQdNgh"
      }
    },
    {
      "cell_type": "code",
      "source": [],
      "metadata": {
        "id": "xdEYrSfZTXDF"
      },
      "execution_count": null,
      "outputs": []
    }
  ]
}