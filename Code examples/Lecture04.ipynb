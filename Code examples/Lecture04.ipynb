{
  "nbformat": 4,
  "nbformat_minor": 0,
  "metadata": {
    "colab": {
      "provenance": [],
      "include_colab_link": true
    },
    "kernelspec": {
      "name": "python3",
      "display_name": "Python 3"
    },
    "language_info": {
      "name": "python"
    }
  },
  "cells": [
    {
      "cell_type": "markdown",
      "metadata": {
        "id": "view-in-github",
        "colab_type": "text"
      },
      "source": [
        "<a href=\"https://colab.research.google.com/github/natrask/ENM1050/blob/main/Code%20examples/03_Conditionals.ipynb\" target=\"_parent\"><img src=\"https://colab.research.google.com/assets/colab-badge.svg\" alt=\"Open In Colab\"/></a>"
      ]
    },
    {
      "cell_type": "markdown",
      "source": [
        "#**Conditionals**#"
      ],
      "metadata": {
        "id": "sZyLrU1GKVbr"
      }
    },
    {
      "cell_type": "markdown",
      "source": [
        "#CONTRIBUTORS#\n",
        "\n",
        "This in-class exercise is to be done in pairs. Add the names of the two students in this text block.\n",
        "<font color=\"blue\">Work with someone you haven't worked with before.</font>\n",
        "\n",
        "\n"
      ],
      "metadata": {
        "id": "5oIyjTdu74cb"
      }
    },
    {
      "cell_type": "markdown",
      "source": [
        "#**Booleans**#\n",
        "Variables can take on True/False values. For example\n",
        "\n",
        "```\n",
        "is_raining = False\n",
        "```\n"
      ],
      "metadata": {
        "id": "sbqKv3xnKals"
      }
    },
    {
      "cell_type": "markdown",
      "source": [
        "Boolean values are helpful for decision-making because you can check whether variables or operations satisfy certain conditions."
      ],
      "metadata": {
        "id": "H9gXwK5oKpSf"
      }
    },
    {
      "cell_type": "markdown",
      "source": [
        "Try running the following code. Change the value of `num` and check the result. Add a text box below describing what you think the code does based on your experimentation."
      ],
      "metadata": {
        "id": "g1tXSo2-1lul"
      }
    },
    {
      "cell_type": "code",
      "source": [
        "num = 0\n",
        "num % 2 == 0"
      ],
      "metadata": {
        "id": "I72fO-Ew1vuq"
      },
      "execution_count": null,
      "outputs": []
    },
    {
      "cell_type": "markdown",
      "source": [
        "**Let's break down this expression.** Just like mathematical operators, Python has operators for Booleans:\n",
        "1. equality (`==`): `(5==3) = False`\n",
        "1. inequality (`!=`): `(5!=3) = True`\n",
        "1. greater than (`>`): `(5>3) = True`\n",
        "1. greater than or equal to (`>=`): `(5>=3) = True`\n",
        "1. less than (`<`): `(5<3) = False`\n",
        "1. less than or equal to (`<=`): `(5<=3) = False`\n",
        "\n",
        "So the code above reads as \"num modulo 2 equal to 0?\". (If you don't remember modulo, check back to the list of arithmetic operators in <a href=\"https://colab.research.google.com/drive/1lUR2i8UgLfzDmtrEn1SB_QcxCYMhezFc?usp=sharing\">01_GettingStarted</a>.)"
      ],
      "metadata": {
        "id": "u8SqcytH14Lj"
      }
    },
    {
      "cell_type": "markdown",
      "source": [
        "**Your Turn:** Start a new code block and write code for the following.\n",
        "1. Create 2 variables `num1=100` and `num2=25`.\n",
        "1. Check if `num1` is greater than `num2`.\n",
        "1. Check if `num2` subtracted from `num1` is less than 50.\n",
        "1. Check if `num1` is divisible by `num2`."
      ],
      "metadata": {
        "id": "ovsvKr4C3DGA"
      }
    },
    {
      "cell_type": "markdown",
      "source": [
        "You can also combine Booleans using the `and`, `or`, and `not` keywords. You may have seen these in a prior math class - if not, they basically do exactly what they sound like.\n",
        "\n",
        "**Your Turn:** For each of the following expressions, compute its value by hand and write it next to the expression. You can check your results by evaluating the expressions in a code block.\n",
        "\n",
        "1. `True or False` =\n",
        "1. `False and True` =\n",
        "1. `False or (True and not False)` =\n",
        "1. `((False or not False) and ((True or not (False and True) or (False and not False)) and True)` ="
      ],
      "metadata": {
        "id": "-fJ6Ot-v3oMR"
      }
    },
    {
      "cell_type": "markdown",
      "source": [
        "**Your Turn:** Start a new code block and write code for the following. Practice creating and naming variables.\n",
        "\n",
        "\n",
        "> You have to catch a flight that is taking off in 1.5 hr. Leaving from UPenn campus, you have two options:\n",
        "1. If you take the regional rail Airport Line, the next train leaves in 6 min. and takes 18 min. to arrive at the airport.\n",
        "1. If you drive, it will take 37 min (accounting for traffic).\n",
        ">\n",
        "> Once you get to the terminal, you will need to deal with check-in.\n",
        "1. If you check your baggage, check-in will take 16 min.\n",
        "1. If you don't check your baggage, check-in will take 3 min.\n",
        ">\n",
        ">The security line is going to take about 25 min., and it will take you another 8 min. to walk to your gate.\n",
        "Your plane will start boarding 1 hr. before takeoff. Check-in closes 45 min. before takeoff, and the gates close 5 min. before takeoff.\n",
        ">\n",
        "> Will you make your flight?\n",
        "\n",
        "Write 4 expressions for each of the above combinations: whether you take the train/drive or whether you do/do not check baggage. True would mean that you will make the flight and False means not.\n",
        "\n",
        "\n"
      ],
      "metadata": {
        "id": "VP9IGZNf42uJ"
      }
    },
    {
      "cell_type": "code",
      "source": [
        "print(f\"CASE 1: {(90 - 24 > 45) and (90 - 24 - 16 - 25 - 8 > 5)}\") # I started this one for you"
      ],
      "metadata": {
        "id": "h0kxzz-1jktN",
        "colab": {
          "base_uri": "https://localhost:8080/"
        },
        "outputId": "b80383a8-d00f-4177-cbee-a5c0861efc8c"
      },
      "execution_count": 1,
      "outputs": [
        {
          "output_type": "stream",
          "name": "stdout",
          "text": [
            "CASE 1: True\n"
          ]
        }
      ]
    },
    {
      "cell_type": "markdown",
      "source": [
        "#**Conditionals**#\n",
        "\n",
        "Boolean expressions are most useful for creating *branching code*, that is , code that changes behavior based on variable values. Try running the following:"
      ],
      "metadata": {
        "id": "cK568qZrM2HV"
      }
    },
    {
      "cell_type": "code",
      "source": [
        "is_raining = True\n",
        "if (is_raining):\n",
        "  print(\"It's raining today\")\n",
        "else:\n",
        "  print(\"It's not raining today.\")"
      ],
      "metadata": {
        "id": "TEq1j5hh9vKB",
        "colab": {
          "base_uri": "https://localhost:8080/"
        },
        "outputId": "97a1dc86-0fa4-444d-a21b-10c849777711"
      },
      "execution_count": null,
      "outputs": [
        {
          "output_type": "stream",
          "name": "stdout",
          "text": [
            "It's raining today\n"
          ]
        }
      ]
    },
    {
      "cell_type": "markdown",
      "source": [
        "Try changing the value of `is_raining` and running the code again. You should see the output change based on the input.\n",
        "\n",
        "This is called an **if statement**. The structure of an if statement is:\n",
        "\n",
        "```\n",
        "if (CONDITION):\n",
        "   CODE TO RUN #1\n",
        "else:   # The else block is optional\n",
        "   CODE TO RUN #2\n",
        "```\n",
        "\n",
        "If the `CONDITION` evaluates to `True`, then the `CODE TO RUN #1`. Otherwise, `CODE TO RUN #2` runs.\n",
        "\n",
        "Some notes to remember:\n",
        "- The **indents** are important to denoting how much of the code lies inside the if statement.\n",
        "- `CODE TO RUN #1` and `CODE TO RUN #2` are **independent**. If one block runs, the other does NOT.\n",
        "- The `else` block is optional. If you leave it out (just have the `if` and `CODE TO RUN #1`), then Python does nothing if `CONDITION` is `False`.\n"
      ],
      "metadata": {
        "id": "jHk7OZhQ9-XD"
      }
    },
    {
      "cell_type": "markdown",
      "source": [
        "**Your turn:** Update your flight code above to make the output more readable. Print out \"You made the flight!!\" if your expression evaluates to `True` and \"You didn't make the flight...\" if it evaluates to `False.`"
      ],
      "metadata": {
        "id": "SZ0KvH8g-iEY"
      }
    },
    {
      "cell_type": "markdown",
      "source": [
        "**Your Turn:** Write code to print out the absolute value of an inputted number. Write your own code - do not use Python's in-built `abs` function."
      ],
      "metadata": {
        "id": "7bZ6vmHiHjZl"
      }
    },
    {
      "cell_type": "markdown",
      "source": [
        "##**Using Boolean expressions in conditionals**##\n",
        "\n",
        "The condition in the `if` statement can be any Boolean expression. For example"
      ],
      "metadata": {
        "id": "X9FyV0h--3X2"
      }
    },
    {
      "cell_type": "code",
      "source": [
        "# EXAMPLE 1\n",
        "a_number = 5.3\n",
        "a_boolean = False\n",
        "a_string = \"Hello!\"\n",
        "\n",
        "if (a_number > 0 and a_boolean):\n",
        "  print(\"block 1\")\n",
        "elif (a_string == \"Hello!\"):\n",
        "  print(\"block 2\")\n",
        "elif (a_number*4 + len(a_string) < 25):\n",
        "  print(\"block 3\")\n",
        "else:\n",
        "  print(\"block 4\")"
      ],
      "metadata": {
        "id": "eMpx01XwBfuz",
        "colab": {
          "base_uri": "https://localhost:8080/"
        },
        "outputId": "b3804a61-c15f-4a7a-e557-faf050b96adb"
      },
      "execution_count": null,
      "outputs": [
        {
          "output_type": "stream",
          "name": "stdout",
          "text": [
            "block 2\n"
          ]
        }
      ]
    },
    {
      "cell_type": "markdown",
      "source": [
        "**Your Turn:** Carefully read through the above code block and make sure you understand how it works. Start a new text box below. Translate the above if statement into words describing what happens under what conditions. To check yourself, try changing the values of `a_number`, `a_boolean`, and `a_string` and predicting the result.\n",
        "\n",
        "**Note:** We have also introduced a new keyword `elif`, which is short for `else if.` Basically, the code block in an `elif` will execute only if its condition is true and all previous conditions were false."
      ],
      "metadata": {
        "id": "aRx6IPbaCNXs"
      }
    },
    {
      "cell_type": "markdown",
      "source": [
        "I can use the results of an if statement to influence later code. For example, I can rearrange the code above into the following"
      ],
      "metadata": {
        "id": "R_qvPMjsDpbt"
      }
    },
    {
      "cell_type": "code",
      "source": [
        "# EXAMPLE 2\n",
        "a_number = 5.3\n",
        "a_boolean = False\n",
        "a_string = \"Hello!\"\n",
        "\n",
        "if (a_number > 0 and a_boolean):\n",
        "  block = 1\n",
        "elif (a_string == \"Hello!\"):\n",
        "  block = 2\n",
        "elif (a_number*4 + len(a_string) < 25):\n",
        "  block = 3\n",
        "else:\n",
        "  block = 4\n",
        "\n",
        "print(\"block \" + str(block))"
      ],
      "metadata": {
        "id": "16Y1vz2LDxXo",
        "colab": {
          "base_uri": "https://localhost:8080/"
        },
        "outputId": "21c6755d-999b-4a35-a368-4d0965311bcc"
      },
      "execution_count": null,
      "outputs": [
        {
          "output_type": "stream",
          "name": "stdout",
          "text": [
            "block 2\n"
          ]
        }
      ]
    },
    {
      "cell_type": "code",
      "source": [],
      "metadata": {
        "id": "9e_j9B9oEB76"
      },
      "execution_count": null,
      "outputs": []
    },
    {
      "cell_type": "markdown",
      "source": [
        "In this case, each of the if blocks sets the variable `block` to a different value. This value is then used in a print statement at the end."
      ],
      "metadata": {
        "id": "z-0Jm4_hEBXg"
      }
    },
    {
      "cell_type": "markdown",
      "source": [
        "**Your Turn:** Create a copy of your flight code from above. Create 2 new variables: `take_train`, which is `True` if you are taking the train and `False` if you drive; and `check_baggage`, which is `True` if you check your baggage and `False` if not. Update the code so that the print statement outputs the correct text (i.e., you did or did not make the flight) depending on the values of the variables."
      ],
      "metadata": {
        "id": "_966NAkTCst1"
      }
    },
    {
      "cell_type": "markdown",
      "source": [
        "##**Coding Style**##\n",
        "Between `EXAMPLE 1` and `EXAMPLE 2` if statements above, `EXAMPLE 2` is preferred when it comes to code cleanliness and readability. It reduces repeated code and thus makes it easier to maintain. Let's say that you wanted to do something more complicated than print out the block number. In `EXAMPLE 1`, you would have to copy and paste that code inside each of the if blocks, but in `EXAMPLE 2`, you only have to write and debug that code once.\n",
        "\n",
        "**Your turn:** Let's practice keeping our code clean. Read the following code and make sure you understand what it is doing. Rewrite the code to minimize repeated code. Feel free to add additional tracking variables to help. Use comments or a text cell to point out parts that you changed and why you changed them."
      ],
      "metadata": {
        "id": "tF_DSUpmFeZn"
      }
    },
    {
      "cell_type": "code",
      "source": [
        "current_hour = 9       # takes values between 0 and 23 (represents time of the day, e.g. 9->9am)\n",
        "breakfast_rush = [7,9] # range of hours for breakfast rush\n",
        "lunch_rush = [12,13]   # range of hours for lunch rush\n",
        "\n",
        "if (current_hour > breakfast_rush[0] and current_hour < breakfast_rush[1]):\n",
        "  # let's say that the rush increases linearly until the middle of the rush hour and then decreases back down linearly\n",
        "\n",
        "  # time distance to center of rush hour\n",
        "  scaled_hour = 1-2*abs((current_hour - breakfast_rush[0]) / (breakfast_rush[1] - breakfast_rush[0]) - .5)\n",
        "  rate_of_orders = scaled_hour*50 + 10   # orders per hour\n",
        "  avg_cost = 5                           # each order ~$5\n",
        "\n",
        "  # calculate expected revenue\n",
        "  revenue = rate_of_orders*avg_cost\n",
        "  print(\"Expected revenue: $\" + str(revenue))\n",
        "elif (current_hour > lunch_rush[0] and current_hour < lunch_rush[1]):\n",
        "  scaled_hour = 1-2*abs((current_hour - lunch_rush[0]) / (lunch_rush[1] - lunch_rush[0]) - .5)\n",
        "  rate_of_orders = scaled_hour*100 + 10\n",
        "  avg_cost = 10\n",
        "\n",
        "  revenue = rate_of_orders*avg_cost\n",
        "  print(\"Expected revenue: $\" + str(revenue))\n",
        "else:\n",
        "  rate_of_orders = 10\n",
        "  avg_cost = 7\n",
        "\n",
        "  revenue = rate_of_orders*avg_cost\n",
        "  print(\"Expected revenue: $\" + str(revenue))"
      ],
      "metadata": {
        "id": "o1ih6oSNGH5x",
        "outputId": "8abf29d0-a6cb-4c38-9cca-2350f8574ffd",
        "colab": {
          "base_uri": "https://localhost:8080/"
        }
      },
      "execution_count": null,
      "outputs": [
        {
          "output_type": "stream",
          "name": "stdout",
          "text": [
            "Expected revenue: $70\n"
          ]
        }
      ]
    },
    {
      "cell_type": "markdown",
      "source": [
        "**Your turn:** Copy your flight code from above here and edit it to minimize repeated code."
      ],
      "metadata": {
        "id": "u_aWzhaWPQcV"
      }
    },
    {
      "cell_type": "markdown",
      "source": [
        "##**Coding Style 2**##\n",
        "\n",
        "It is always best to try to keep your conditions as simple as possible. Consider the following situation:\n",
        "\n",
        "> Caesar says: \"I'll definitely hold the party if Antony and Diana\n",
        "say yes, or if Antony says yes and Diana says no. I'll\n",
        "totally hold the party if Antony and Cleopatra and\n",
        "Diana all say yes! Or, come to think of it, I'll hold the\n",
        "party if Cleopatra says yes and Antony says yes, but\n",
        "Diana says no. For sure, I'll hold it if Antony and\n",
        "Cleopatra say yes. I'll definitely hold the party if\n",
        "Cleopatra says yes!\"\n",
        ">\n",
        "> Is Caesar going to hold the party?\n",
        "\n",
        "**Your turn:** Write code for this situation.\n",
        "1. Create variables `antony`, `diana`, and `cleopatra` that take the value `True` if they say yes and `False` if not.\n",
        "1. Write one version of the code where you transcribe each of Caesar's sentences literally into a large if statement.\n",
        "1. In a new code cell, simplify the above statement to minimize the number of conditions in the if statement (Hint: You should be able to get it down to one condition).\n",
        "1. Run the code. You should get the same output for both versions, but the second version should be MUCH easier to read.\n",
        "1. Add a new text box below describing your strategy for simplifying this if statement that you might be able to use when planning out your code in the future."
      ],
      "metadata": {
        "id": "w8FmlW9UY7IS"
      }
    },
    {
      "cell_type": "markdown",
      "source": [
        "##**Conditionals in Plotting**##"
      ],
      "metadata": {
        "id": "pGakPjy0Pb_U"
      }
    },
    {
      "cell_type": "markdown",
      "source": [
        "Sometimes, you might be collecting lots of datasets that are very similar in nature, and you will want to write generic plotting code that you can use to plot any of them.\n",
        "\n",
        "Here are some datasets simulating measurement of the position of a slow, medium, and fast speed object over time."
      ],
      "metadata": {
        "id": "Q3LSMe0LPoMv"
      }
    },
    {
      "cell_type": "code",
      "source": [
        "filenames = [\"https://docs.google.com/spreadsheets/d/1HI94zhbDWvjeHMaoXS-EIHDP6SAHZYPUggnGN54q5o0/edit\",\n",
        "             \"https://docs.google.com/spreadsheets/d/1bADGHh7RmsFYrzf2FW7nA9F0RqiK3XDGknxs7XNF9tA/edit\",\n",
        "             \"https://docs.google.com/spreadsheets/d/1yw2ZcnSwvtH4DhaAlDFv_DfKg4d9BIxtygQd57Ow660/edit\",\n",
        "             \"https://docs.google.com/spreadsheets/d/1saRTjODev45C2dG-QPHYQjEK9I7iusH1uCAxurP93Ls/edit\",\n",
        "             \"https://docs.google.com/spreadsheets/d/1tH0fLRP_90QW79uf-wNdAIgEXcUd31RLuj7R7laEdEU/edit\",\n",
        "             \"https://docs.google.com/spreadsheets/d/1T93RvDc7tXG28C_uk8O9xulo3bvpYCEu2SQXz-4NxoQ/edit\",\n",
        "             \"https://docs.google.com/spreadsheets/d/1R1oxMD5uvV-zuDYj8CL36QG0wof_dhxfmdQngo3XQDI/edit\",\n",
        "             \"https://docs.google.com/spreadsheets/d/1jEIsUlOtGxlKR0mYU5SxM7QbdWagNbJ9lD_S9qV2eK0/edit\",\n",
        "             \"https://docs.google.com/spreadsheets/d/1wAOgks_sNxT5eV2266HTaTCaV75hnHIDtoZ3-Dloj-Q/edit\"]"
      ],
      "metadata": {
        "id": "26kcp0j1Su00"
      },
      "execution_count": null,
      "outputs": []
    },
    {
      "cell_type": "markdown",
      "source": [
        "I have stored all of the filenames into a single list so that we can access one file by just using"
      ],
      "metadata": {
        "id": "zuJ0vhRxUxRz"
      }
    },
    {
      "cell_type": "code",
      "source": [
        "whichfile = 0\n",
        "this_filename = filenames[whichfile]\n",
        "\n",
        "# Use file loading code from 02_Plotting on this_filename"
      ],
      "metadata": {
        "id": "celBagDnU07-"
      },
      "execution_count": null,
      "outputs": []
    },
    {
      "cell_type": "markdown",
      "source": [
        "This data has 3 rows:\n",
        "1. Row 1 contains a single string: \"slow\", \"medium\" or \"fast\" indicating the condition of the test\n",
        "2. Row 2 is timing data in seconds. The timer may not start at 0.\n",
        "3. Row 3 is position data in meters."
      ],
      "metadata": {
        "id": "4t-NpUq7U9Ig"
      }
    },
    {
      "cell_type": "markdown",
      "source": [
        "**Your Turn:** Write code here to load in the file corresponding to `whichfile` and plot the distance over time as a line plot. Color the line red if the object is slow, yellow if it is medium speed, and green if it is fast. Title the plot \"Distance vs time for a XXX object\", where XXX is \"slow\", \"medium\", or \"fast\" depending on the file.\n",
        "\n",
        "(Next week, we'll see how to use this code to load in all of the files and plot them against each other.)"
      ],
      "metadata": {
        "id": "9XpJgTG1VdkG"
      }
    },
    {
      "cell_type": "markdown",
      "source": [
        "#**Turning in assignments on Canvas**#\n",
        "\n",
        "\n",
        "In order to submit your assignment as a pair, you need to create a group on Canvas. This will enable you to both receive the same grade for one submission.\n",
        "1. On Canvas, navigate to `People > Groups > In-Class 03`.\n",
        "1. Find an empty group and add the names of both members of the pair.\n",
        "\n",
        "Submit your work as both an ipynb and a pdf to Canvas.\n",
        "1. Click on `File > Download .ipynb` to download the ipynb file. Do NOT clear your outputs before doing this step.\n",
        "1. Click on `File > Print` to print the notebook to a pdf. This is a backup for the graders in case we are not able to access or run your ipynb during grading.\n",
        "1. On Canvas, navigate to the relevant assignment and attach both the ipynb and pdf files to your submission.\n",
        "1. The student who did not submit should make sure that the group was created successfully by checking that they can also access the files on their Canvas page."
      ],
      "metadata": {
        "id": "k6vhGezQdNgh"
      }
    }
  ]
}
