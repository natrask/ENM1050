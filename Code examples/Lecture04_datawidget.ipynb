{
  "nbformat": 4,
  "nbformat_minor": 0,
  "metadata": {
    "colab": {
      "provenance": [],
      "authorship_tag": "ABX9TyOWkolNBoWixIg9WFD4ddia",
      "include_colab_link": true
    },
    "kernelspec": {
      "name": "python3",
      "display_name": "Python 3"
    },
    "language_info": {
      "name": "python"
    }
  },
  "cells": [
    {
      "cell_type": "markdown",
      "metadata": {
        "id": "view-in-github",
        "colab_type": "text"
      },
      "source": [
        "<a href=\"https://colab.research.google.com/github/natrask/ENM1050/blob/main/Code%20examples/Lecture04_datawidget.ipynb\" target=\"_parent\"><img src=\"https://colab.research.google.com/assets/colab-badge.svg\" alt=\"Open In Colab\"/></a>"
      ]
    },
    {
      "cell_type": "markdown",
      "source": [
        "# Challenge assignment\n",
        "Develop the widget below to generate a tool for collecting data. Change the *on_button_clicked* function to collect the output of the GUI and append data to a list. This can be used to help you automate the collection of data yourself!\n"
      ],
      "metadata": {
        "id": "rGvqpBgyzleY"
      }
    },
    {
      "cell_type": "code",
      "execution_count": null,
      "metadata": {
        "id": "RctA0pjedyDq"
      },
      "outputs": [],
      "source": [
        "# prompt: gui widget to read in many variables with every type of param\n",
        "\n",
        "import ipywidgets as widgets\n",
        "from IPython.display import display\n",
        "from IPython.display import clear_output\n",
        "\n",
        "# Text input\n",
        "text_input = widgets.Text(\n",
        "    value='Hello World',\n",
        "    placeholder='Type something',\n",
        "    description='String input:',\n",
        "    disabled=False\n",
        ")\n",
        "\n",
        "# Int slider\n",
        "int_slider = widgets.IntSlider(\n",
        "    value=7,\n",
        "    min=0,\n",
        "    max=10,\n",
        "    step=1,\n",
        "    description='Integer input:',\n",
        "    disabled=False,\n",
        "    continuous_update=False,\n",
        "    orientation='horizontal',\n",
        "    readout=True,\n",
        "    readout_format='d'\n",
        ")\n",
        "\n",
        "# Float slider\n",
        "float_slider = widgets.FloatSlider(\n",
        "    value=7.5,\n",
        "    min=0,\n",
        "    max=10.0,\n",
        "    step=0.1,\n",
        "    description='Scalar valued input:',\n",
        "    disabled=False,\n",
        "    continuous_update=False,\n",
        "    orientation='horizontal',\n",
        "    readout=True,\n",
        "    readout_format='.1f',\n",
        ")\n",
        "\n",
        "# Button\n",
        "button = widgets.Button(\n",
        "    description='Submit data',\n",
        "    disabled=False,\n",
        "    button_style='', # 'success', 'info', 'warning', 'danger' or ''\n",
        "    tooltip='Submit data',\n",
        "    icon='check'\n",
        ")\n",
        "\n",
        "# List to store output of widgit\n",
        "data_collection = []\n",
        "\n",
        "# Define a function to handle button click\n",
        "def on_button_clicked(b):\n",
        "    clear_output(wait=True)\n",
        "    display(text_input, int_slider, float_slider, button)\n",
        "    print(f\"Data collected. List now contains {len(data_collection)+1} elements.\")\n",
        "    print(f\"Text input: {text_input.value}\")\n",
        "    print(f\"Int slider: {int_slider.value}\")\n",
        "    print(f\"Float slider: {float_slider.value}\")\n",
        "    data_collection.append([text_input.value, int_slider.value, float_slider.value])\n",
        "\n",
        "\n",
        "\n",
        "# Attach the function to the button's click event\n",
        "button.on_click(on_button_clicked)\n"
      ]
    },
    {
      "cell_type": "code",
      "source": [
        "# Display the widgit and start collecting data\n",
        "display(text_input, int_slider, float_slider, button)"
      ],
      "metadata": {
        "id": "Y1i70zS-eD9t"
      },
      "execution_count": null,
      "outputs": []
    },
    {
      "cell_type": "code",
      "source": [
        "# Output your curated list\n",
        "print(data_collection)"
      ],
      "metadata": {
        "id": "wXmdhxIIR_MM"
      },
      "execution_count": null,
      "outputs": []
    },
    {
      "cell_type": "code",
      "source": [],
      "metadata": {
        "id": "VtZuxT3CTxow"
      },
      "execution_count": null,
      "outputs": []
    }
  ]
}