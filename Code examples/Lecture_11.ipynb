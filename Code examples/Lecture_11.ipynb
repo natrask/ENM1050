{
 "cells": [
  {
   "cell_type": "markdown",
   "metadata": {},
   "source": [
    "# **Developing serious apps in tkinter** #"
   ]
  },
  {
   "cell_type": "markdown",
   "metadata": {},
   "source": [
    "# CONTRIBUTORS #\n",
    "\n",
    "This in-class exercise is to be done in pairs. Add the names of the two students in this text block.\n"
   ]
  },
  {
   "cell_type": "markdown",
   "metadata": {},
   "source": [
    "# Workflow for today\n",
    "\n",
    "Up until this point we have developed Jupyter notebooks that we could run in Colab to avoid the need to maintain our own environment. Now that we're moving towards developing standalone apps and interacting with robots you will need to maintain your own environment on your own laptop. This will be a little painful for folks who are relatively new to using computers beyond email/internet/microsoft office. Please make full use of office hours to get help as needed - we are building in a little buffer before the next HW for you to take care of this, but \"I couldn't get vscode up on my machine\" will not be an accepted excuse for the next HW."
   ]
  },
  {
   "cell_type": "markdown",
   "metadata": {},
   "source": [
    "In what follows, we will build up a program bit by bit. While all exercises up until this point in the course involved adding new blocks of code for small self contained tasks, today we will be developing a single block of code. Let's spell out what that would look like if we used a Jupyter notebook. We will start with a skeleton of a program, which generates a new class."
   ]
  },
  {
   "cell_type": "code",
   "execution_count": 2,
   "metadata": {},
   "outputs": [
    {
     "name": "stdout",
     "output_type": "stream",
     "text": [
      "Attribute 1 is value1\n"
     ]
    }
   ],
   "source": [
    "class MyClass:\n",
    "    def __init__(self, attribute1):\n",
    "        self.attribute1 = attribute1\n",
    "\n",
    "    def method1(self):\n",
    "        return f\"Attribute 1 is {self.attribute1}\"\n",
    "\n",
    "# Example usage\n",
    "obj = MyClass(\"value1\")\n",
    "print(obj.method1())\n"
   ]
  },
  {
   "cell_type": "markdown",
   "metadata": {},
   "source": [
    "You will next be given instructions on how to modify that skeleton. For example, we may instruct you to add an additional class attribute, along with appropriate modifications to the class methods and example usage. "
   ]
  },
  {
   "cell_type": "code",
   "execution_count": 1,
   "metadata": {},
   "outputs": [
    {
     "name": "stdout",
     "output_type": "stream",
     "text": [
      "Attribute 1 is value1\n",
      "Attribute 2 is value2\n"
     ]
    }
   ],
   "source": [
    "class MyClass:\n",
    "    def __init__(self, attribute1, attribute2):\n",
    "        self.attribute1 = attribute1\n",
    "        self.attribute2 = attribute2\n",
    "\n",
    "    def method1(self):\n",
    "        return f\"Attribute 1 is {self.attribute1}\"\n",
    "\n",
    "    def method2(self):\n",
    "        return f\"Attribute 2 is {self.attribute2}\"\n",
    "\n",
    "# Example usage\n",
    "obj = MyClass(\"value1\", \"value2\")\n",
    "print(obj.method1())\n",
    "print(obj.method2())"
   ]
  },
  {
   "cell_type": "markdown",
   "metadata": {},
   "source": [
    "We will procede step by step in this way. But the programs we make will eventually be very long - you'll quickly get to a point where your program involves 100s of lines of code. When this is the case, adding a new block in a jupyter notebook for every small change you make would lead to a notebook fill thousands of lines long! So instead, we will run the above block of code within VSCode (or your prefered IDE) as a .py file. To do this:\n",
    "* Open VSCode. If you have been unable to get a working installation, pair up with others in the class who do and seek OH help ASAP.\n",
    "* Within VSCode click `File > New File... > (From the drop down menu that appear) Python File`.\n",
    "* This will open a new tab called `\"Untitled-#\"`.\n",
    "* Enter a simple command, e.g.  `print(\"Hello world\\n\").`\n",
    "* Press F5 to run the program in the debugger.\n",
    "* The first time you run the program, VSCode will ask you to specify your python interpreter from the dropdown menu.\n",
    "* The output of your program will be printed to the terminal.\n",
    "For the future when submiting the in-class exercises in the jupyter notebook, *we will now be asking you to copy either your code, the output to the terminal, or a screenshot* into a textbox."
   ]
  },
  {
   "cell_type": "markdown",
   "metadata": {},
   "source": [
    "**Your turn:** Print into each of the three text blocks below your: code, the output of the terminal (as text) and a screenshot of your terminal (as an image). The last can be done by pressing the print screen button and pasting directly into the text block."
   ]
  },
  {
   "cell_type": "markdown",
   "metadata": {},
   "source": [
    "*Put stuff here.*"
   ]
  },
  {
   "cell_type": "markdown",
   "metadata": {},
   "source": [
    "*Put stuff here.*"
   ]
  },
  {
   "cell_type": "markdown",
   "metadata": {},
   "source": [
    "*Put stuff here.*"
   ]
  },
  {
   "cell_type": "markdown",
   "metadata": {},
   "source": [
    "# Introduction to tkinter #"
   ]
  },
  {
   "cell_type": "markdown",
   "metadata": {},
   "source": [
    "tkinter is another library that can be imported just like all of the others we've used (e.g. numpy,scipy,matplotlib, etc). Unlike those libraries though, it makes use of screen forwarding, which is how it renders animations and other things to your screen. This is the specific reason why we can no longer use colab - colab only allows interaction through the output of jupyter notebook code blocks and does not support the generation of new windows outside of the browser.\n",
    "\n",
    "The first piece of code for you to understand is the following. As an exercise open up [Google AI studio](https://aistudio.google.com/) (or your prefered LLM) and ask it to explain the following code."
   ]
  },
  {
   "cell_type": "code",
   "execution_count": null,
   "metadata": {},
   "outputs": [],
   "source": [
    "import numpy as np\n",
    "import tkinter as tk\n",
    "import random\n",
    "\n",
    "class DrawingApp:\n",
    "    def __init__(self, root):\n",
    "        self.root = root\n",
    "        self.root.title(\"Demos to add widgets onto a canvas\")\n",
    "        \n",
    "        # Create a canvas\n",
    "        self.canvas = tk.Canvas(root, width=400, height=400, bg=\"white\")\n",
    "        self.canvas.pack()\n",
    "        \n",
    "        # Precompute the width and depth to help us place widgets on the canvas\n",
    "        canvas_width = self.canvas.winfo_reqwidth()\n",
    "        canvas_height = self.canvas.winfo_reqheight()\n",
    "\n",
    "if __name__ == \"__main__\":\n",
    "    root = tk.Tk()\n",
    "    app = DrawingApp(root)\n",
    "    root.mainloop()\n",
    "    "
   ]
  },
  {
   "cell_type": "markdown",
   "metadata": {},
   "source": [
    "For example, as a prompt I entered \"please explain the following code\" at the prompt and then selected the above text, Ctrl+C to copy, click back into the prompt, and Ctrl+V to paste. The nice thing about Google AI Studio is that you can copy the output of the LLM as markdown text, which makes it easy to generate Jupyter notebooks.\n",
    "\n",
    "**Your turn:** Copy and paste the explanation that Google AI Studio gave you in the markdown block below."
   ]
  },
  {
   "cell_type": "markdown",
   "metadata": {},
   "source": [
    "*Put stuff here.*"
   ]
  },
  {
   "cell_type": "markdown",
   "metadata": {},
   "source": [
    "Next we will add a few elements to the canvas: we'll add a shape, a textbox, a few buttons to allow for user interaction, and a matplotlib-rendered plot. As mentioned in class, LLMs are remarkably effective at guiding you through graphical user interfaces (or GUIs, pronounced gooey) and other common programming tasks. Once we guide you through how to add elements to a canvas, we will then step you through how to use a LLM to add arbitrary new elements. As always though, this is a short cut to get up and running, and the only way to fully understand tkinter is to refer to the [tkinter documentation](https://docs.python.org/3/library/tkinter.html)."
   ]
  },
  {
   "cell_type": "markdown",
   "metadata": {},
   "source": [
    "**Add a circle.** The following code snippet will render a circle on the canvas. The `xc` and `yc` input parameters specify the center of the circle, while the `radius` and `fillcolor` can be optionally specified by an integer and a string describing a color. If they are not, it will default to a radius of 20 and color blue."
   ]
  },
  {
   "cell_type": "code",
   "execution_count": null,
   "metadata": {},
   "outputs": [],
   "source": [
    "def draw_circle(self,xc,yc,radius=20,fillcolor=\"blue\"):\n",
    "    x0 = xc - radius\n",
    "    y0 = yc - radius\n",
    "    x1 = xc + radius\n",
    "    y1 = yc + radius\n",
    "    self.canvas.create_oval(x0, y0, x1, y1, fill=fillcolor)"
   ]
  },
  {
   "cell_type": "markdown",
   "metadata": {},
   "source": [
    "Next you will alter the initializer for the drawing app as follows. This will generate a plot of a circle on the middle of the canvas. There are a few conventions to make note of:\n",
    "* The function `self.canvas.winfo_reqwidth()` and `self.canvas.winfo_reqheight()` returns the size of the canvas.\n",
    "* The canvas coordinates denote the top left corner as (0,0), with (x,y) coordinates increasing as you move right and down, respectively.\n",
    "* We denote the position to place new things via pixel coordinate. It is more intuitive to denote this as a fraction of the canvas instead (e.g. `int(0.25*canvas_width)`)"
   ]
  },
  {
   "cell_type": "code",
   "execution_count": null,
   "metadata": {},
   "outputs": [],
   "source": [
    "class DrawingApp:\n",
    "    def __init__(self, root):\n",
    "        self.root = root\n",
    "        self.root.title(\"Demos to add widgets onto a canvas\")\n",
    "        \n",
    "        # Create a canvas\n",
    "        self.canvas = tk.Canvas(root, width=400, height=400, bg=\"white\")\n",
    "        self.canvas.pack()\n",
    "        \n",
    "        # Precompute the width and depth to help us place widgets on the canvas\n",
    "        canvas_width = self.canvas.winfo_reqwidth()\n",
    "        canvas_height = self.canvas.winfo_reqheight()\n",
    "        \n",
    "        # Draw things on the canvas\n",
    "        self.canvas.pack()\n",
    "        self.circle_id = self.draw_circle(int(0.25*canvas_width), int(0.25*canvas_height))\n",
    "        "
   ]
  },
  {
   "cell_type": "markdown",
   "metadata": {},
   "source": [
    "**Your turn.** \n",
    "In the markdown blocks below:\n",
    "* Copy and paste the output of a LLM asking it to explain the line of code ``self.circle_id = self.draw_circle(int(0.25*canvas_width), int(0.25*canvas_height))``\n",
    "* Update your python file to add the circle.\n",
    "* Copy and paste the image of the rendered screen."
   ]
  },
  {
   "cell_type": "markdown",
   "metadata": {},
   "source": [
    "*Put stuff here.*"
   ]
  },
  {
   "cell_type": "markdown",
   "metadata": {},
   "source": [
    "*Put stuff here.*"
   ]
  },
  {
   "cell_type": "markdown",
   "metadata": {},
   "source": [
    "**Add text.** The following function will render text. This one is more or less self-explanatory from the context; you specify and (x,y) coordinate to center the box on and then a string of text. There are some more default properties: color and font."
   ]
  },
  {
   "cell_type": "code",
   "execution_count": null,
   "metadata": {},
   "outputs": [],
   "source": [
    "def add_text(self, x, y, text):\n",
    "        self.canvas.create_text(x, y, text=text, fill=\"black\", font=(\"Helvetica\", 16))"
   ]
  },
  {
   "cell_type": "markdown",
   "metadata": {},
   "source": [
    "Same as before, you can ask a LLM model to explain the create_text function to get more information. Adding the following line to the `DrawingApp` initializer will render text."
   ]
  },
  {
   "cell_type": "code",
   "execution_count": null,
   "metadata": {},
   "outputs": [],
   "source": [
    "class DrawingApp:\n",
    "    def __init__(self, root):\n",
    "        self.root = root\n",
    "        self.root.title(\"Demos to add widgets onto a canvas\")\n",
    "        \n",
    "        # Create a canvas\n",
    "        self.canvas = tk.Canvas(root, width=400, height=400, bg=\"white\")\n",
    "\n",
    "        # Precompute the width and depth to help us place widgets on the canvas\n",
    "        canvas_width = self.canvas.winfo_reqwidth()\n",
    "        canvas_height = self.canvas.winfo_reqheight()\n",
    "        \n",
    "        # Draw things on the canvas\n",
    "        self.canvas.pack()\n",
    "        self.circle_id = self.draw_circle(int(0.25*canvas_width), int(0.25*canvas_height))\n",
    "        self.text_id = self.add_text((0.75*canvas_width), (0.25*canvas_height), \"Hello ENGR1050!\")        "
   ]
  },
  {
   "cell_type": "markdown",
   "metadata": {},
   "source": [
    "**Add a matplotlib plot.** The following is a little more advanced. You're going to need a function from the matplotlib library called `FigureCanvasTkAgg` which is used to convert between `tkinter` and `matplotlib`. My thought process when I generated the following code was to wonder whether it's possible to embed plots rendered in real time on top of an animation. I then asked a LLM:\n",
    "\n",
    "`prompt: generate a matplotlib figure embedded in a tkinter canvas`\n",
    "\n",
    "I adopted the code output there into the snippet below which you will embed into your code."
   ]
  },
  {
   "cell_type": "code",
   "execution_count": null,
   "metadata": {},
   "outputs": [],
   "source": [
    "def add_plot(self,xc,yc):\n",
    "    # Create a Matplotlib figure - you can modify this however you'd like.\n",
    "    fig = Figure(figsize=(2, 2))\n",
    "    ax = fig.add_subplot(111)\n",
    "    t = np.arange(0, 3, .01)\n",
    "    ax.plot(t, 2 * np.sin(2 * np.pi * t))\n",
    "\n",
    "    # Create a canvas for the Matplotlib figure\n",
    "    canvas = FigureCanvasTkAgg(fig, master=self.root)\n",
    "    canvas.draw()\n",
    "\n",
    "    # Place the Matplotlib canvas on the Tkinter canvas\n",
    "    canvas.get_tk_widget().place(x=xc,y=yc)"
   ]
  },
  {
   "cell_type": "markdown",
   "metadata": {},
   "source": [
    "Again, this can be added to the list of things to draw on the canvas:"
   ]
  },
  {
   "cell_type": "code",
   "execution_count": null,
   "metadata": {},
   "outputs": [],
   "source": [
    "class DrawingApp:\n",
    "    def __init__(self, root):\n",
    "        self.root = root\n",
    "        self.root.title(\"Demos to add widgets onto a canvas\")\n",
    "        \n",
    "        # Create a canvas\n",
    "        self.canvas = tk.Canvas(root, width=400, height=400, bg=\"white\")\n",
    "\n",
    "        # Precompute the width and depth to help us place widgets on the canvas\n",
    "        canvas_width = self.canvas.winfo_reqwidth()\n",
    "        canvas_height = self.canvas.winfo_reqheight()\n",
    "        \n",
    "        # Draw things on the canvas\n",
    "        self.canvas.pack()\n",
    "        self.circle_id = self.draw_circle(int(0.25*canvas_width), int(0.25*canvas_height))\n",
    "        self.text_id = self.add_text((0.75*canvas_width), (0.25*canvas_height), \"Hello ENGR1050!\")\n",
    "        self.plot_id = self.add_plot((0.45*canvas_width), (0.45*canvas_height))"
   ]
  },
  {
   "cell_type": "markdown",
   "metadata": {},
   "source": [
    "**Your turn.** Take a screenshot of your canvas with the circle, text, and plot and stick it in the block below."
   ]
  },
  {
   "cell_type": "markdown",
   "metadata": {},
   "source": [
    "*Put stuff here.*"
   ]
  },
  {
   "cell_type": "markdown",
   "metadata": {},
   "source": []
  },
  {
   "cell_type": "markdown",
   "metadata": {},
   "source": [
    "**Generate a button to trigger an event.** The final element that we'll be adding to the canvas will have more functionality. So far we have added static things - images or text that get dumped on the canvas and then stay there. Next we will add a button, which is a *dynamic element* that will trigger a function to be called when it is clicked.\n",
    "\n",
    "The following generates a button centered on an (x,y) coordinate taking a `text` string specifying the caption of the button, and a `command` which specifies a function that should be called when the button is clicked."
   ]
  },
  {
   "cell_type": "code",
   "execution_count": null,
   "metadata": {},
   "outputs": [],
   "source": [
    "def add_button(self, x, y, text, command):\n",
    "    button = tk.Button(self.root, text=text, command=command)\n",
    "    self.canvas.create_window(x, y, window=button)"
   ]
  },
  {
   "cell_type": "markdown",
   "metadata": {},
   "source": [
    "To call the function, the following function can be added to the `DrawingApp` initializer."
   ]
  },
  {
   "cell_type": "code",
   "execution_count": null,
   "metadata": {},
   "outputs": [],
   "source": [
    "# Example usage\n",
    "self.button_id = self.add_button((0.25*canvas_width), (0.65*canvas_height), \"Click Me\", self.on_button_click)"
   ]
  },
  {
   "cell_type": "markdown",
   "metadata": {},
   "source": [
    "The important thing to note is that the `command` argument reads `self.on_button_click`. This specifies that somewhere else in the `DrawingApp` class there will be a function defined called `on_button_click` which will be attached to the event where the button is clicked. You can add the following as an example that will print some text to the terminal every time the button is clicked."
   ]
  },
  {
   "cell_type": "code",
   "execution_count": null,
   "metadata": {},
   "outputs": [],
   "source": [
    "def on_button_click_1(self):\n",
    "    print(\"Button 1 clicked!\")"
   ]
  },
  {
   "cell_type": "markdown",
   "metadata": {},
   "source": [
    "You now have a working example with some representative elements that can be added to a `tkinter` canvas. I'm providing a list of other things that can be added here so that you can search either the documentation or use a LLM to look up how to use them. They include *geometric primitives* or elements:\n",
    "- Line\n",
    "- Rectangle\n",
    "- Oval\n",
    "- Arc\n",
    "- Polygon\n",
    "- Text\n",
    "- Image\n",
    "- Bitmap\n",
    "- Window (for embedding widgets)\n",
    "\n",
    "The window is a generic example that includes many of the building blocks for designing a user interface.\n",
    "\n",
    "- Button\n",
    "- Label\n",
    "- Entry\n",
    "- Text\n",
    "- Frame\n",
    "- Listbox\n",
    "- Radiobutton\n",
    "- Checkbutton\n",
    "- Scale\n",
    "- Spinbox\n",
    "- Menubutton\n",
    "- Message"
   ]
  },
  {
   "cell_type": "markdown",
   "metadata": {},
   "source": [
    "Now we'll do some more serious exercises to make this actually do something."
   ]
  },
  {
   "cell_type": "markdown",
   "metadata": {},
   "source": [
    "**Your turn.** Modify the button to change the color of the circle to a random color. To do this, you'll need to use an LLM or Google to understand how to achieve this. I'll give you pseudocode below so you know what to start asking for help with.\n",
    "* You'll need to use the `self.canvas.delete` function to delete the circle that is already attached to the canvas.\n",
    "* The circle color object expects either a name as a string ('red','blue','green') or a color in hexidecimal formal. You'll need to find a way to generate a random color in that format.\n",
    "* You'll then redraw the circle, using the `draw_circle` function you defined previously.\n",
    "\n",
    "This is intentionally not enough information to do this yourself - interact with the LLM to get help filling in the gaps where enough information wasn't provided. Copy and paste two images showing your circle with two different colors in the box below."
   ]
  },
  {
   "cell_type": "markdown",
   "metadata": {},
   "source": [
    "*Put stuff here.*"
   ]
  },
  {
   "cell_type": "markdown",
   "metadata": {},
   "source": [
    "Next we will generate a new app. Start by opening a new python file (`File > New > Python File`).\n",
    "\n",
    "Copy and paste the following code to get a canvas you can start modifying."
   ]
  },
  {
   "cell_type": "code",
   "execution_count": null,
   "metadata": {},
   "outputs": [],
   "source": [
    "import numpy as np\n",
    "import tkinter as tk\n",
    "import random\n",
    "\n",
    "class DrawingApp:\n",
    "    def __init__(self, root):\n",
    "        self.root = root\n",
    "        self.root.title(\"Demos to add widgets onto a canvas\")\n",
    "        \n",
    "        # Create a canvas\n",
    "        self.canvas = tk.Canvas(root, width=400, height=400, bg=\"white\")\n",
    "        self.canvas.pack()\n",
    "        \n",
    "        # Precompute the width and depth to help us place widgets on the canvas\n",
    "        canvas_width = self.canvas.winfo_reqwidth()\n",
    "        canvas_height = self.canvas.winfo_reqheight()\n",
    "\n",
    "if __name__ == \"__main__\":\n",
    "    root = tk.Tk()\n",
    "    app = DrawingApp(root)\n",
    "    root.mainloop()\n",
    "    "
   ]
  },
  {
   "cell_type": "markdown",
   "metadata": {},
   "source": [
    "**Your turn.** Modify this code to add an event detection which will detect when a user clicks on the canvas with either a left or right mouse button. If the user left-clicks, draw a circle at that location of random color. If they right-click, draw a square at that location of a random color. To do this, you will need to use the following commands:"
   ]
  },
  {
   "cell_type": "code",
   "execution_count": null,
   "metadata": {},
   "outputs": [],
   "source": [
    "# Bind the mouse click event to the canvas\n",
    "self.canvas.bind(\"<Button-1>\", self.on_canvas_click)\n",
    "self.canvas.bind(\"<Button-3>\", self.on_canvas_right_click)\n",
    "self.canvas.bind(\"<Control-Button-1>\", self.on_canvas_right_click)"
   ]
  },
  {
   "cell_type": "markdown",
   "metadata": {},
   "source": [
    "Copy and paste these commands into a LLM and ask it to explain what they do and provide examples of how to use them. Paste the explanation below, and then paste an image of a canvas that you've clicked on many times to generate many circles and squares."
   ]
  },
  {
   "cell_type": "markdown",
   "metadata": {},
   "source": [
    "*Put stuff here.*"
   ]
  },
  {
   "cell_type": "markdown",
   "metadata": {},
   "source": [
    "*Put stuff here.*"
   ]
  },
  {
   "cell_type": "markdown",
   "metadata": {},
   "source": [
    "Next we will add another function to detect a `shift+click` event to the canvas. When two shift+clicks are detected, a line will be drawn on the canvas connecting the two points. To do this you will find the following functions to be useful:"
   ]
  },
  {
   "cell_type": "code",
   "execution_count": null,
   "metadata": {},
   "outputs": [],
   "source": [
    "# Bind a shift + click event to the canvas\n",
    "self.canvas.bind(\"<Shift-Button-1>\", self.on_canvas_shift_click)\n",
    "\n",
    "\n",
    "# Draw a line between the first and second click\n",
    "self.canvas.create_line(self.first_click[0], self.first_click[1], \n",
    "                        self.second_click[0], self.second_click[1], \n",
    "                        fill=\"black\", width=4)"
   ]
  },
  {
   "cell_type": "markdown",
   "metadata": {},
   "source": [
    "**Your turn.** Modify your previous code to shift+click lines into the canvas. Copy a screenshot of your masterpiece into the block below."
   ]
  },
  {
   "cell_type": "markdown",
   "metadata": {},
   "source": [
    "*Put stuff here.*"
   ]
  },
  {
   "cell_type": "markdown",
   "metadata": {},
   "source": [
    "**Your turn.** In the final exercise we will modify the previous code to, instead of drawing rectangles of a solid color, draw a rectangle corresponding to a png image saved to the disk in the same subdirectory as your python file. To do this, you will need to ask a LLM for the requisite `tkinter` functions that you should use. To do this, you may consider getting started using a prompt like:\n",
    "\n",
    "`prompt > how can i render a rectangle on a tkinter canvas with a png image loaded from disk`"
   ]
  },
  {
   "cell_type": "markdown",
   "metadata": {},
   "source": [
    "# Bouncy DVD logo. #"
   ]
  },
  {
   "cell_type": "markdown",
   "metadata": {},
   "source": [
    "Finally, you have the ingredients to make a bouncy DVD logo. This would usually be a tricky task to put together, but I'll guide you through from start to finish - it should only take a few minutes. First, open a new python file and pop in the code skeleton from before."
   ]
  },
  {
   "cell_type": "code",
   "execution_count": null,
   "metadata": {},
   "outputs": [],
   "source": [
    "class DrawingApp:\n",
    "    def __init__(self, root):\n",
    "        self.root = root\n",
    "        self.root.title(\"Demos to add widgets onto a canvas\")\n",
    "        \n",
    "        # Create a canvas\n",
    "        self.canvas = tk.Canvas(root, width=400, height=400, bg=\"white\")\n",
    "        self.canvas.pack()\n",
    "        \n",
    "        # Precompute the width and depth to help us place widgets on the canvas\n",
    "        canvas_width = self.canvas.winfo_reqwidth()\n",
    "        canvas_height = self.canvas.winfo_reqheight()\n",
    "        \n",
    "        # Draw things on the canvas\n",
    "        self.canvas.pack()\n",
    "        self.circle_id = self.draw_circle(int(0.25*canvas_width), int(0.25*canvas_height))"
   ]
  },
  {
   "cell_type": "markdown",
   "metadata": {},
   "source": [
    "1. irst we are going to render a rectangle on the canvas, and then generate an animation to make the rectangle bounce around the canvas. Use the LLM model to get instructions.\n",
    "\n",
    "*Hint:* Open the LLM and enter as a prompt `prompt > modify the following code to draw a rectangle bouncing around the canvas`, and then paste the code into the box.\n",
    "2. Modify that code so that it is a picture instead. You can use the dvd.png file found in the course repo under `Code examples > bouncy_rockpaperscissors > dvd.png`.\n",
    "3. Add an event that detects whether the rectangle is in a corner of the screen.\n",
    "\n",
    "Use the LLM as much as you'd like to execute these three steps quickly. Output a screencap of your DVD below."
   ]
  },
  {
   "cell_type": "markdown",
   "metadata": {},
   "source": [
    "*Put stuff here.*"
   ]
  },
  {
   "cell_type": "markdown",
   "metadata": {},
   "source": [
    "# Turning in assignments on Canvas #\n",
    "In order to submit your assignment as a pair, you need to create a group on Canvas. This will enable you to both receive the same grade for one submission.\n",
    "\n",
    "On Canvas, navigate to People > Groups > In-Class 11.\n",
    "Find an empty group and add the names of both members of the pair.\n",
    "\n",
    "Submit your work as both an ipynb and a pdf to Canvas.\n",
    "\n",
    "Save the ipynb and upload from your hard drive. Also print a pdf file to ensure the graders can see you have completed the exercise, even if there are issues with the formatting in your jupyter notebook.\n",
    "\n",
    "The student who did not submit should make sure that the group was created successfully by checking that they can also access the files on their Canvas page."
   ]
  },
  {
   "cell_type": "markdown",
   "metadata": {},
   "source": []
  }
 ],
 "metadata": {
  "kernelspec": {
   "display_name": "Python 3",
   "language": "python",
   "name": "python3"
  },
  "language_info": {
   "codemirror_mode": {
    "name": "ipython",
    "version": 3
   },
   "file_extension": ".py",
   "mimetype": "text/x-python",
   "name": "python",
   "nbconvert_exporter": "python",
   "pygments_lexer": "ipython3",
   "version": "3.9.13"
  }
 },
 "nbformat": 4,
 "nbformat_minor": 2
}
