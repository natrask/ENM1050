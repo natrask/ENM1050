{
  "nbformat": 4,
  "nbformat_minor": 0,
  "metadata": {
    "colab": {
      "provenance": [],
      "authorship_tag": "ABX9TyNmiEjLOS1nNcvSYWqdD9gf",
      "include_colab_link": true
    },
    "kernelspec": {
      "name": "python3",
      "display_name": "Python 3"
    },
    "language_info": {
      "name": "python"
    }
  },
  "cells": [
    {
      "cell_type": "markdown",
      "metadata": {
        "id": "view-in-github",
        "colab_type": "text"
      },
      "source": [
        "<a href=\"https://colab.research.google.com/github/natrask/ENM1050/blob/main/Code%20examples/Lecture08.ipynb\" target=\"_parent\"><img src=\"https://colab.research.google.com/assets/colab-badge.svg\" alt=\"Open In Colab\"/></a>"
      ]
    },
    {
      "cell_type": "markdown",
      "source": [
        "Today we will step through some of the basics of discretizing differential equations to build up simulators of dynamical systems. You can view this as a dry run for the homework due Monday. Unlike the usual lectures, I will step through this and code it in real time from the front of the room, to make sure folks with less programming background get a chance to see what good programming practices look like. If you feel confident, feel free to grab your partner and work through this in the back of the room, or to jump directly to the homework and work on that."
      ],
      "metadata": {
        "id": "87IZpKeSpMUc"
      }
    },
    {
      "cell_type": "markdown",
      "source": [
        "# Governing equations #"
      ],
      "metadata": {
        "id": "NA_VVZrOpssN"
      }
    },
    {
      "cell_type": "markdown",
      "source": [
        "We will consider two systems today:\n",
        "*   The terminal velocity of a skydiver\n",
        "*   The nonlinear dynamics of a pendulum\n",
        "\n",
        "At the whiteboard, I'll derive the following set of governing equations for both\n",
        "\n",
        "1. $m \\ddot{y} = -m g + \\frac12 \\rho \\dot{y}^2 A C_d$, where\n",
        "  * $m$ is the mass of the skydiver\n",
        "  * $y,\\dot{y}$, and $\\ddot{y}$ are the position, velocity, and acceleration of the skydiver, respectively.\n",
        "  * $\\rho$ is the density of the air\n",
        "  * $A$ is the [projected area](https://en.wikipedia.org/wiki/Projected_area) area of the diver\n",
        "  * $C_d$ is a coefficient of friction\n",
        "2. $L \\ddot{\\theta} = - g \\sin \\theta$, where\n",
        "  * $L$ is the length of the pendulum\n",
        "  * $\\theta$ and $\\ddot{\\theta}$ are the angle and angular acceleration of the pendulum, measured with respect to a vector pointing straight down.\n",
        "  * $g$ is the acceleration due to gravity."
      ],
      "metadata": {
        "id": "6CzfsbSypvtG"
      }
    },
    {
      "cell_type": "markdown",
      "source": [
        "# Gameplan\n",
        "\n",
        "We will write code which can solve an equation of the form\n",
        "$$\\dot{y} = F(y,t)$$\n",
        "$$y(t=0) = y_0$$\n",
        "where $y \\in \\mathbb{R}^d$ is a vector valued function. (Interpret this as a sign that you should represent $y$ as a $1\\times d$ numpy array).\n",
        "\n",
        "First we will implement the explicit Euler method to solve on a time window $t \\in [0,t_{final}]$ hardcoded to"
      ],
      "metadata": {
        "id": "fKWMEzdVsz4f"
      }
    },
    {
      "cell_type": "code",
      "execution_count": null,
      "metadata": {
        "id": "zvLikuVJpI5q"
      },
      "outputs": [],
      "source": []
    }
  ]
}