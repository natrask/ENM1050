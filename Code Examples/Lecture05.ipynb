{
  "nbformat": 4,
  "nbformat_minor": 0,
  "metadata": {
    "colab": {
      "provenance": [],
      "include_colab_link": true
    },
    "kernelspec": {
      "name": "python3",
      "display_name": "Python 3"
    },
    "language_info": {
      "name": "python"
    }
  },
  "cells": [
    {
      "cell_type": "markdown",
      "metadata": {
        "id": "view-in-github",
        "colab_type": "text"
      },
      "source": [
        "<a href=\"https://colab.research.google.com/github/natrask/ENM1050/blob/main/Code%20Examples/Lecture05.ipynb\" target=\"_parent\"><img src=\"https://colab.research.google.com/assets/colab-badge.svg\" alt=\"Open In Colab\"/></a>"
      ]
    },
    {
      "cell_type": "markdown",
      "source": [
        "#**Loops and Iteration**#"
      ],
      "metadata": {
        "id": "9Mn5gAm1sA35"
      }
    },
    {
      "cell_type": "markdown",
      "source": [
        "#CONTRIBUTORS#\n",
        "\n",
        "This in-class exercise is to be done in pairs. Add the names of the two students in this text block.\n",
        "<font color=\"blue\">Work with someone you haven't worked with before.</font>\n"
      ],
      "metadata": {
        "id": "5oIyjTdu74cb"
      }
    },
    {
      "cell_type": "markdown",
      "source": [
        "#Reviewing lists"
      ],
      "metadata": {
        "id": "R2Rov-yyNevb"
      }
    },
    {
      "cell_type": "markdown",
      "source": [
        "Recall that we can create lists by using square brackets. For example\n",
        "\n",
        "```\n",
        "a_list = [0, 1, 2, 3, 4]\n",
        "```\n",
        "\n",
        "is a list with 5 elements, the integers from 0 to 4."
      ],
      "metadata": {
        "id": "0tivKFyYguBY"
      }
    },
    {
      "cell_type": "markdown",
      "source": [
        "## Creating lists using `range`"
      ],
      "metadata": {
        "id": "7Faoh36MiS34"
      }
    },
    {
      "cell_type": "markdown",
      "source": [
        "Lists that take on this form are actually very common. For example, when we practiced plotting, you had to write a list with evenly spaced numbers in it for the x-values of your data.\n",
        "\n",
        "Python has a shortcut for creating sequences of numbers like this: `range`. The usage looks like this:\n",
        "\n",
        "```\n",
        "the_list = range(n_elements)\n",
        "```\n",
        "\n",
        "where `n_elements` is the number of values in the list. Try running the following code"
      ],
      "metadata": {
        "id": "Dn1mh6AYhDpU"
      }
    },
    {
      "cell_type": "code",
      "source": [
        "the_list = range(5)\n",
        "print(list(the_list))"
      ],
      "metadata": {
        "id": "xxnU5LEih0NP",
        "colab": {
          "base_uri": "https://localhost:8080/"
        },
        "outputId": "b16b1a80-871f-4b91-bbca-c9f6c9e2308c"
      },
      "execution_count": null,
      "outputs": [
        {
          "output_type": "stream",
          "name": "stdout",
          "text": [
            "[0, 1, 2, 3, 4]\n"
          ]
        }
      ]
    },
    {
      "cell_type": "markdown",
      "source": [
        "**Your turn:** Write code to generate a list called `count_to_ten` that includes all the integers from 0 to 9."
      ],
      "metadata": {
        "id": "PNG1Jo5uh3IO"
      }
    },
    {
      "cell_type": "markdown",
      "source": [
        "If you don't want to start your list at 0 or increment values by 1, you can add additional arguments to range as in\n",
        "\n",
        "```\n",
        "the_list = range(start, stop, step)\n",
        "```\n",
        "\n",
        "`range` will generate a list of values starting at `start` and incrementing in steps of size `step` up to **but not including** `stop`.\n",
        "\n",
        "For example, run the following code"
      ],
      "metadata": {
        "id": "b_SVPKstiQ4Z"
      }
    },
    {
      "cell_type": "code",
      "source": [
        "the_list = range(-3, 7, 2)\n",
        "print(list(the_list))"
      ],
      "metadata": {
        "id": "wXAPUdRBisPy",
        "colab": {
          "base_uri": "https://localhost:8080/"
        },
        "outputId": "229060a9-13ee-4963-80dd-8dd90e755d71"
      },
      "execution_count": null,
      "outputs": [
        {
          "output_type": "stream",
          "name": "stdout",
          "text": [
            "[-3, -1, 1, 3, 5]\n"
          ]
        }
      ]
    },
    {
      "cell_type": "markdown",
      "source": [
        "**Your turn:** Write code that generates a list of values starting at 50 and ending at 100 in steps of 3."
      ],
      "metadata": {
        "id": "I1dcxvdVi2vw"
      }
    },
    {
      "cell_type": "markdown",
      "source": [
        "**Your turn:** Write code that generates a list of values counting backwards from 10 down to 1."
      ],
      "metadata": {
        "id": "ssxqrDsni-wJ"
      }
    },
    {
      "cell_type": "markdown",
      "source": [
        "**Your turn:** In <a href=\"https://colab.research.google.com/drive/15VEpV7szzGLxDGc1eSDuVrDkaQ9o-Fy0?usp=drive_link\">In-Class 02</a>, we wrote code to plot the function `4x+2` in the range [-2, 8]. Back then, you had to hard-code the lists of numbers to plot. Write new code here to plot the function `4x+2` but using the `range` function. Use x values [-2, -1, 0, ...., 8]."
      ],
      "metadata": {
        "id": "_tdiQVkUjMaY"
      }
    },
    {
      "cell_type": "markdown",
      "source": [
        "# For Loops"
      ],
      "metadata": {
        "id": "Gjc6jGJoNmU6"
      }
    },
    {
      "cell_type": "markdown",
      "source": [
        "Lists are useful when writing code that has to repeat multiple times. Run the following example:"
      ],
      "metadata": {
        "id": "LErBUPR1kAQu"
      }
    },
    {
      "cell_type": "code",
      "source": [
        "for i in [0, 1, 2]:\n",
        "  print(\"Hello!\")"
      ],
      "metadata": {
        "id": "nvUMXxr4kMsZ",
        "colab": {
          "base_uri": "https://localhost:8080/"
        },
        "outputId": "2b58444c-6784-4ace-fbe4-705b8eeaa4c3"
      },
      "execution_count": null,
      "outputs": [
        {
          "output_type": "stream",
          "name": "stdout",
          "text": [
            "Hello!\n",
            "Hello!\n",
            "Hello!\n"
          ]
        }
      ]
    },
    {
      "cell_type": "markdown",
      "source": [
        "This code is an example of a **for loop**. A for loop takes the following form:\n",
        "\n",
        "```\n",
        "for ITERATOR in SEQUENCE:\n",
        "  BODY\n",
        "```\n",
        "\n",
        "In this loop,\n",
        "* The `ITERATOR` takes each value in the `SEQUENCE` in turn.\n",
        "* For each value of the `ITERATOR`, the `BODY` executes once.\n",
        "\n",
        "Looking at the `for` loop above, the iterator `i` takes first the value `0`, and the body (`print(\"Hello!\")`) executes once. Then, `i` takes the second value `1`, and the body executes again. Finally, `i` takes the third value `2`, and the body executes again. The text Hello! is thus printed out 3 times."
      ],
      "metadata": {
        "id": "UPlUc6iNkTzj"
      }
    },
    {
      "cell_type": "markdown",
      "source": [
        "The body can also make use of the value of the iterator to change its behavior at each iteration.\n",
        "\n",
        "**Your turn:** Run the following code. In a text block below, describe the output and explain why it looks the way it does."
      ],
      "metadata": {
        "id": "Kvk_7qeHlExr"
      }
    },
    {
      "cell_type": "code",
      "source": [
        "for val in [\"1\", 2, \"three\", 2*2]:\n",
        "  print(val)"
      ],
      "metadata": {
        "id": "pDkTzqJClQ-z",
        "colab": {
          "base_uri": "https://localhost:8080/"
        },
        "outputId": "2486116c-916c-404b-b2f1-429e9d346c91"
      },
      "execution_count": null,
      "outputs": [
        {
          "output_type": "stream",
          "name": "stdout",
          "text": [
            "1\n",
            "2\n",
            "three\n",
            "4\n"
          ]
        }
      ]
    },
    {
      "cell_type": "markdown",
      "source": [
        "**Your turn:** Remember that we can also use range to create lists. Run the following code. Describe the output and explain why it looks the way it does."
      ],
      "metadata": {
        "id": "5LILUbBWlrfd"
      }
    },
    {
      "cell_type": "code",
      "source": [
        "for icount in range(6):\n",
        "  print(icount * 3)"
      ],
      "metadata": {
        "id": "EQUUCM_7lkxN",
        "colab": {
          "base_uri": "https://localhost:8080/"
        },
        "outputId": "c61c0c36-3d7e-424d-d06e-71b7f5d45ac9"
      },
      "execution_count": null,
      "outputs": [
        {
          "output_type": "stream",
          "name": "stdout",
          "text": [
            "0\n",
            "3\n",
            "6\n",
            "9\n",
            "12\n",
            "15\n"
          ]
        }
      ]
    },
    {
      "cell_type": "markdown",
      "source": [
        "**Your turn:** Below, I have started some code that generates a list `xdata` and initializes a list `ydata` to the same value. Currently, the loop accesses each element of `xdata` and prints it to the screen. Change the  loop so that it overwrites each value in `ydata` with the value `4x+2` of the corresponding element in `xdata`, then prints the computed value in `ydata` to the screen."
      ],
      "metadata": {
        "id": "MaV5Z9XYmRrX"
      }
    },
    {
      "cell_type": "code",
      "source": [
        "xdata = [-2, 1, 3, 8]\n",
        "ydata = xdata\n",
        "\n",
        "# recall: len(x) returns the length of the input x\n",
        "# therefore, range(len(xdata)) generates a list of integers starting at 0 and counting up to (length of xdata)-1\n",
        "for i in range(len(xdata)):\n",
        "  print(xdata[i])"
      ],
      "metadata": {
        "id": "yZ3HdCvzm965",
        "colab": {
          "base_uri": "https://localhost:8080/"
        },
        "outputId": "ea67dd4d-c195-472c-cf6b-2026cbf11672"
      },
      "execution_count": null,
      "outputs": [
        {
          "output_type": "stream",
          "name": "stdout",
          "text": [
            "-2\n",
            "1\n",
            "3\n",
            "8\n"
          ]
        }
      ]
    },
    {
      "cell_type": "markdown",
      "source": [
        "## While Loops"
      ],
      "metadata": {
        "id": "WJipQ7A6NQHi"
      }
    },
    {
      "cell_type": "markdown",
      "source": [
        "Last week, we learned how to execute the same code multiple times using a `for` loop. But what happens if you don't know how many times you want the code to run?\n",
        "\n",
        "For example, in this weeks homework assignment we will collect user input to navigate a dichotomous key. We would like to ask them to continue entering input until a valid input is provided. How many times you need to ask them depends on how long it takes for them to provide an answer that you can use."
      ],
      "metadata": {
        "id": "gh0KAfhrNRlB"
      }
    },
    {
      "cell_type": "markdown",
      "source": [
        "**Your turn:** Run the following example and describe in a text block below what happens."
      ],
      "metadata": {
        "id": "nmx1dTAWNyj2"
      }
    },
    {
      "cell_type": "code",
      "source": [
        "yorn = \"y\"\n",
        "while (yorn != \"n\"):\n",
        "  yorn = input(\"Again? (y/n)  \")"
      ],
      "metadata": {
        "id": "wEk2Rzl3N3oH"
      },
      "execution_count": null,
      "outputs": []
    },
    {
      "cell_type": "markdown",
      "source": [
        "This code is an example of a **while loop.** A while loop takes the following form:\n",
        "\n",
        "```\n",
        "while CONDITION:\n",
        "  BODY\n",
        "```\n",
        "\n",
        "In this loop,\n",
        "* The `BODY` executes as long as the `CONDITION` is true\n",
        "* If the `CONDITION` is not true at the start, the `BODY` never executes\n",
        "* The `CONDITION` is checked every time the `BODY` executes\n",
        "\n",
        "Looking at the `while` loop above, the variable `yorn` begins with a value `\"y\"`, so the condition `yorn!=\"n\"` is true and the body executes. The body requests input from the user and overwrites the value of `yorn` with that input. Every time the user is asked for input, the condition `yorn!=\"n\"` is checked again. The loop terminates when the condition becomes false, i.e., when `yorn=\"n\"`."
      ],
      "metadata": {
        "id": "AdGXsa5vONpt"
      }
    },
    {
      "cell_type": "markdown",
      "source": [
        "#List Comprehension"
      ],
      "metadata": {
        "id": "4rAzy3bt9Et8"
      }
    },
    {
      "cell_type": "markdown",
      "source": [
        "Using for loops to calculate new lists of values is such a common operation that Python has a shortcut for this called **list comprehension**. Take a look at the following example:"
      ],
      "metadata": {
        "id": "7zDSFT_p9JxK"
      }
    },
    {
      "cell_type": "code",
      "source": [
        "even_numbers = [2*i for i in range(5)]\n",
        "print(even_numbers)"
      ],
      "metadata": {
        "id": "q6N92csN9Sxd",
        "colab": {
          "base_uri": "https://localhost:8080/"
        },
        "outputId": "8e982b2c-6c7a-4225-89f2-98ef7aefe9e5"
      },
      "execution_count": null,
      "outputs": [
        {
          "output_type": "stream",
          "name": "stdout",
          "text": [
            "[0, 2, 4, 6, 8]\n"
          ]
        }
      ]
    },
    {
      "cell_type": "markdown",
      "source": [
        "We read this as (starting from the left):\n",
        "* Create a new variable called `even_numbers`\n",
        "* that is a list (denoted by the square brackets [])\n",
        "* containing values equal to `2*i`\n",
        "* where `i` takes each value in the list `range(5)`\n",
        "\n",
        "List comprehension is part of the art of python - once you get good at it, your code will start to look like plain english. That will come with practice - for now we will get started with the basics."
      ],
      "metadata": {
        "id": "grZuxYfe9dIn"
      }
    },
    {
      "cell_type": "markdown",
      "source": [
        "**Your turn:** Write code that computes the same `ydata` (equal to `4x+2`) that you calculated above, but using list comprehension instead of a for loop."
      ],
      "metadata": {
        "id": "IKCsjOCg9vRM"
      }
    },
    {
      "cell_type": "markdown",
      "source": [
        "You can also add `if/else` conditions to list comprehension to filter values. For example,"
      ],
      "metadata": {
        "id": "2l0LxBqu-QKM"
      }
    },
    {
      "cell_type": "code",
      "source": [
        "even_numbers = [i for i in range(10) if (i%2==0)]\n",
        "print(even_numbers)"
      ],
      "metadata": {
        "id": "KCiHX6af-VU4",
        "colab": {
          "base_uri": "https://localhost:8080/"
        },
        "outputId": "e6da6f36-b947-4674-f7cc-8cf98f76cf3a"
      },
      "execution_count": null,
      "outputs": [
        {
          "output_type": "stream",
          "name": "stdout",
          "text": [
            "[0, 2, 4, 6, 8]\n"
          ]
        }
      ]
    },
    {
      "cell_type": "markdown",
      "source": [
        "translates to:\n",
        "* Create a new variable called `even_numbers`\n",
        "* that is a list\n",
        "* containing values equal to `i`\n",
        "* where `i` takes each value in the list `range(10)`\n",
        "* but only if `i%2==0`"
      ],
      "metadata": {
        "id": "0Vtoskl9-9IZ"
      }
    },
    {
      "cell_type": "code",
      "source": [
        "ifelse_example = [i if (i%2==0) else -i for i in range(10)]\n",
        "print(ifelse_example)"
      ],
      "metadata": {
        "id": "zAy4DLJ9_Oey",
        "colab": {
          "base_uri": "https://localhost:8080/"
        },
        "outputId": "1d7b11e8-a5f4-4c4b-9b32-5670630d8e43"
      },
      "execution_count": null,
      "outputs": [
        {
          "output_type": "stream",
          "name": "stdout",
          "text": [
            "[0, -1, 2, -3, 4, -5, 6, -7, 8, -9]\n"
          ]
        }
      ]
    },
    {
      "cell_type": "markdown",
      "source": [
        "contains the same logic, but the value `-i` is added to the list if `i` does not satisfy the condition.\n",
        "\n",
        "**Note** the change in order of the `if` and the `for` when an `else` is included."
      ],
      "metadata": {
        "id": "C_uG4x8y_eCv"
      }
    },
    {
      "cell_type": "markdown",
      "source": [
        "**Your turn:** Use list comprehension to generate a list of values `x^2` for all positive, even-valued `x` integers between 10 and 20 (inclusive)."
      ],
      "metadata": {
        "id": "6TOnMcTwE7uq"
      }
    },
    {
      "cell_type": "markdown",
      "source": [
        "## Put it all together\n",
        "\n",
        "**Your turn:** In <a href=\"https://colab.research.google.com/drive/1id2qYVECEsY85xMaBh_VdzfAflTNxaVZ?usp=drive_link\">In-Class 03</a>, we looked at how to plot data from a list of spreadsheets, with plot parameters changing according to the data in the spreadsheet. I have copied below the list of spreadsheet urls for you again."
      ],
      "metadata": {
        "id": "AgTcvDHOoMwd"
      }
    },
    {
      "cell_type": "code",
      "source": [
        "filenames = [\"https://docs.google.com/spreadsheets/d/1HI94zhbDWvjeHMaoXS-EIHDP6SAHZYPUggnGN54q5o0/edit\",\n",
        "             \"https://docs.google.com/spreadsheets/d/1bADGHh7RmsFYrzf2FW7nA9F0RqiK3XDGknxs7XNF9tA/edit\",\n",
        "             \"https://docs.google.com/spreadsheets/d/1yw2ZcnSwvtH4DhaAlDFv_DfKg4d9BIxtygQd57Ow660/edit\",\n",
        "             \"https://docs.google.com/spreadsheets/d/1saRTjODev45C2dG-QPHYQjEK9I7iusH1uCAxurP93Ls/edit\",\n",
        "             \"https://docs.google.com/spreadsheets/d/1tH0fLRP_90QW79uf-wNdAIgEXcUd31RLuj7R7laEdEU/edit\",\n",
        "             \"https://docs.google.com/spreadsheets/d/1T93RvDc7tXG28C_uk8O9xulo3bvpYCEu2SQXz-4NxoQ/edit\",\n",
        "             \"https://docs.google.com/spreadsheets/d/1R1oxMD5uvV-zuDYj8CL36QG0wof_dhxfmdQngo3XQDI/edit\",\n",
        "             \"https://docs.google.com/spreadsheets/d/1jEIsUlOtGxlKR0mYU5SxM7QbdWagNbJ9lD_S9qV2eK0/edit\",\n",
        "             \"https://docs.google.com/spreadsheets/d/1wAOgks_sNxT5eV2266HTaTCaV75hnHIDtoZ3-Dloj-Q/edit\"]"
      ],
      "metadata": {
        "id": "U9bDxgkUokEk"
      },
      "execution_count": null,
      "outputs": []
    },
    {
      "cell_type": "markdown",
      "source": [
        "Write code to plot all of the data on the same plot, with slow data in red lines, medium data in yellow lines, and fast data in green lines (Hint: How should you combine the if statements you wrote last time with a for loop? How can you use list comprehension to squeeze this down into something compact?). You should end up with a total of 9 lines, 3 of each color. Don't forget to include a legend, as well as all of your normal plot labels."
      ],
      "metadata": {
        "id": "AR3aBCNeoks8"
      }
    },
    {
      "cell_type": "markdown",
      "source": [
        "# Exercises"
      ],
      "metadata": {
        "id": "j0l0vS9RLe9G"
      }
    },
    {
      "cell_type": "markdown",
      "source": [
        "## Choosing your iterator with for loops"
      ],
      "metadata": {
        "id": "HfHbbQicZ7cz"
      }
    },
    {
      "cell_type": "markdown",
      "source": [
        "**Your turn:** Compare the two blocks of code below. When you run them, they should do the same thing. In a text block below, explain the difference between them and when you might want to use one or the other."
      ],
      "metadata": {
        "id": "ctnHdiIrZ9p6"
      }
    },
    {
      "cell_type": "code",
      "source": [
        "# VERSION 1\n",
        "names = [\"Alexander\", \"Alfredo\", \"Alice\", \"Bibit\", \"Jeremy\", \"Josh\", \"Michelle\", \"Niall\", \"Tobia\"]\n",
        "num_names = len(names)\n",
        "for i in range(num_names):\n",
        "  print(names[i])"
      ],
      "metadata": {
        "id": "KVx2YyvtaHkh",
        "colab": {
          "base_uri": "https://localhost:8080/"
        },
        "outputId": "4da7de80-8fa7-4a76-82e2-eeb9dd8d5e49"
      },
      "execution_count": null,
      "outputs": [
        {
          "output_type": "stream",
          "name": "stdout",
          "text": [
            "Alexander\n",
            "Alfredo\n",
            "Alice\n",
            "Bibit\n",
            "Jeremy\n",
            "Josh\n",
            "Michelle\n",
            "Niall\n",
            "Tobia\n"
          ]
        }
      ]
    },
    {
      "cell_type": "code",
      "source": [
        "# VERSION 2\n",
        "names = [\"Alexander\", \"Alfredo\", \"Alice\", \"Bibit\", \"Jeremy\", \"Josh\", \"Michelle\", \"Niall\", \"Tobia\"]\n",
        "for n in names:\n",
        "  print(n)"
      ],
      "metadata": {
        "id": "XJcRgi-iaeN6",
        "colab": {
          "base_uri": "https://localhost:8080/"
        },
        "outputId": "a85a199c-d8c1-48e7-801a-73e7c6e63f8f"
      },
      "execution_count": null,
      "outputs": [
        {
          "output_type": "stream",
          "name": "stdout",
          "text": [
            "Alexander\n",
            "Alfredo\n",
            "Alice\n",
            "Bibit\n",
            "Jeremy\n",
            "Josh\n",
            "Michelle\n",
            "Niall\n",
            "Tobia\n"
          ]
        }
      ]
    },
    {
      "cell_type": "markdown",
      "source": [
        "## Nested Loops\n",
        "\n"
      ],
      "metadata": {
        "id": "27KsfZuKFmbI"
      }
    },
    {
      "cell_type": "markdown",
      "source": [
        "\n",
        "Just as with if statements, we can nest loops to produce more complicated behavior.\n",
        "\n",
        "**Your turn:** Run the following block of code. In a text cell under the code, describe the output and explain why it looks the way it does."
      ],
      "metadata": {
        "id": "C_dGVHMJML28"
      }
    },
    {
      "cell_type": "code",
      "source": [
        "for i in range(4):\n",
        "  for j in range(3):\n",
        "    print(str(i)+\" + \"+str(j)+\" = \"+str(i+j))"
      ],
      "metadata": {
        "id": "tH4RSko7MAPa"
      },
      "execution_count": null,
      "outputs": []
    },
    {
      "cell_type": "markdown",
      "source": [
        "## Collecting user input with a while loop\n"
      ],
      "metadata": {
        "id": "XFBVT2MxQMjD"
      }
    },
    {
      "cell_type": "markdown",
      "source": [
        "We can combine while loops with for loops and if statements."
      ],
      "metadata": {
        "id": "-iuRJt6JMmln"
      }
    },
    {
      "cell_type": "markdown",
      "source": [
        "**Your turn:** Below is the beginning of a \"Guess my number\" game.\n",
        "1. Alter the code to sample a random integer each time it is run.\n",
        "2. Fill in the logic for the game so that the program tells the user if their guess is too high or too low or correct.\n",
        "3. Wrap your logic in a while loop so that the program continues to ask the user for new guesses until they get the number right.\n",
        "\n",
        "The random package allows you to generate random numbers in your code.\n",
        "The following code imports the random package and then generates a random integer between 1 and 100 (inclusive).\n",
        "\n",
        "```\n",
        "import random\n",
        "x = random.randint(1,100)\n",
        "```\n"
      ],
      "metadata": {
        "id": "WZ42AAnkMrhw"
      }
    },
    {
      "cell_type": "code",
      "source": [
        "the_num = 57  # the number to guess\n",
        "\n",
        "print(\"Guess a number between 1 and 100.\")\n",
        "guess = int(input(\"What is your guess? \"))\n",
        "\n",
        "# You fill in this part"
      ],
      "metadata": {
        "id": "qSYAfaNqMu2Y"
      },
      "execution_count": null,
      "outputs": []
    },
    {
      "cell_type": "markdown",
      "source": [
        "## Overwriting Variables to Create While Loop Iterators"
      ],
      "metadata": {
        "id": "irHLTyn5Fizp"
      }
    },
    {
      "cell_type": "markdown",
      "source": [
        "So far, we have learned to create variables and assign values like so:\n",
        "\n",
        "```\n",
        "a = 1\n",
        "b = a + 1\n",
        "```"
      ],
      "metadata": {
        "id": "6-dahodvLVBU"
      }
    },
    {
      "cell_type": "markdown",
      "source": [
        "Let's take a look at a variation on this code:"
      ],
      "metadata": {
        "id": "xYnXizhQLhFT"
      }
    },
    {
      "cell_type": "code",
      "source": [
        "a = 1\n",
        "a = a + 1\n",
        "print(a)"
      ],
      "metadata": {
        "id": "l872X3IFLo21"
      },
      "execution_count": null,
      "outputs": []
    },
    {
      "cell_type": "markdown",
      "source": [
        "Unlike in mathematics, where this would be an invalid equation, this is **valid** Python code.\n",
        "\n",
        "Python executes the lines sequentially, so the order is:\n",
        "1. Line 1: Create a new variable `a=1`.\n",
        "1. Line 2, part 1: Pull the value of `a` and evalute the expression `a+1`\n",
        "1. Line 2, part 2: Store the result into the variable `a`\n",
        "\n",
        "The result is that `a = 2`."
      ],
      "metadata": {
        "id": "0wU0yl48Lq17"
      }
    },
    {
      "cell_type": "markdown",
      "source": [
        "**Your turn:** Run the following code. In a text block below, describe the output and explain why it looks the way it does."
      ],
      "metadata": {
        "id": "qSQhngqFMPtz"
      }
    },
    {
      "cell_type": "code",
      "source": [
        "counter = 0\n",
        "while counter < 5:\n",
        "  print(counter)\n",
        "  counter = counter + 1"
      ],
      "metadata": {
        "id": "OjWUNEPeMV_z"
      },
      "execution_count": null,
      "outputs": []
    },
    {
      "cell_type": "markdown",
      "source": [
        "**Your turn:** Write a while loop to answer the following question:\n",
        "\n",
        "> What is the largest power of X that is smaller than Y?\n",
        "\n",
        "Output the result in the form: X^# = ######. Run the code with X=2 and Y=1,000,000.\n"
      ],
      "metadata": {
        "id": "aFSuj-pYVN47"
      }
    },
    {
      "cell_type": "markdown",
      "source": [
        "# Pseudocode the homework\n",
        "(This part will not be graded on completion or correctness. Instead, use this time to make sure you understand the problem and have a plan of attack.)\n",
        "\n",
        "**Your turn:** Download and read through the HW 2 handout. We are going to be using what we learned last week to build a rock identification app.\n",
        "\n",
        "1. Read through the handout and make sure you understand what a dichotomous key is.\n",
        "\n",
        "2. Without involving a computer, take the Diorite example and work through verbally with your partner - can you reproduce the correct result?\n",
        "\n",
        "3. Talk through with your partner a plan for how to translate the go-to statements in the table into conditional python statements.\n",
        "\n",
        "4. Talk through what needs to be done to carefully solicit input from the user.\n",
        "\n"
      ],
      "metadata": {
        "id": "gzz_94QEBm6L"
      }
    },
    {
      "cell_type": "markdown",
      "source": [
        "#**Turning in assignments on Canvas**#\n",
        "\n",
        "In order to submit your assignment as a pair, you need to create a group on Canvas. This will enable you to both receive the same grade for one submission.\n",
        "1. On Canvas, navigate to `People > Groups > In-Class 05`.\n",
        "1. Find an empty group and add the names of both members of the pair.\n",
        "\n",
        "\n",
        "Submit your work as both an ipynb and a pdf to Canvas.\n",
        "1. Click on `File > Download .ipynb` to download the ipynb file. Do NOT clear your outputs before doing this step.\n",
        "1. Click on `File > Print` to print the notebook to a pdf. This is a backup for the graders in case we are not able to access or run your ipynb during grading.\n",
        "1. On Canvas, navigate to the relevant assignment and attach both the ipynb and pdf files to your submission.\n",
        "1. The student who did not submit should make sure that the group was created successfully by checking that they can also access the files on their Canvas page."
      ],
      "metadata": {
        "id": "k6vhGezQdNgh"
      }
    }
  ]
}