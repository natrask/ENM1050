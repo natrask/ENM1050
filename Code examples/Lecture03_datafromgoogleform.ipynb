{
  "cells": [
    {
      "cell_type": "markdown",
      "metadata": {
        "id": "view-in-github",
        "colab_type": "text"
      },
      "source": [
        "<a href=\"https://colab.research.google.com/github/natrask/ENM1050/blob/main/Code%20examples/Lecture03_datafromgoogleform.ipynb\" target=\"_parent\"><img src=\"https://colab.research.google.com/assets/colab-badge.svg\" alt=\"Open In Colab\"/></a>"
      ]
    },
    {
      "cell_type": "code",
      "execution_count": 1,
      "metadata": {
        "id": "EBDqO_4PA0Ki"
      },
      "outputs": [],
      "source": [
        "# Import packages for connecting to Spreadsheets\n",
        "from google.colab import auth\n",
        "auth.authenticate_user()\n",
        "\n",
        "import gspread\n",
        "from google.auth import default\n",
        "creds, _ = default()\n",
        "\n",
        "# Authorize Colab to access Spreadsheets\n",
        "gc = gspread.authorize(creds)"
      ]
    },
    {
      "cell_type": "code",
      "execution_count": 2,
      "metadata": {
        "colab": {
          "base_uri": "https://localhost:8080/"
        },
        "id": "Qbhuis5DCnHl",
        "outputId": "33a884e9-337d-4bb6-977b-98c037610568"
      },
      "outputs": [
        {
          "output_type": "stream",
          "name": "stdout",
          "text": [
            "[['Timestamp', 'How would you rate your programming background coming into this course?', 'Where are you in your studies?', 'Are you in an engineering major?', \"Do you have any feedback you'd like to see incorporated in this class? It's a big class, but we do our best to track the trends of what the students are looking for.\"], ['9/9/2024 9:36:58', '5', 'Other', 'Yes', 'This is nat, hi!'], ['9/9/2024 10:22:30', '5', 'Other', 'Yes', ''], ['9/9/2024 10:54:42', '4', 'Junior', 'Yes', ''], ['9/9/2024 13:49:02', '4', 'Sophmore', 'Yes', ''], ['9/9/2024 13:49:06', '2', 'Freshman', 'Yes', ''], ['9/9/2024 13:49:07', '3', 'Freshman', 'Yes', ''], ['9/9/2024 13:49:12', '4', 'Sophmore', 'Yes', ''], ['9/9/2024 13:49:14', '1', 'Sophmore', 'Undecided', ''], ['9/9/2024 13:49:18', '2', 'Sophmore', 'Undecided', ''], ['9/9/2024 13:49:24', '3', 'Junior', 'No', ''], ['9/9/2024 13:49:26', '4', 'Freshman', 'Yes', ''], ['9/9/2024 13:49:30', '3', 'Freshman', 'Yes', ''], ['9/9/2024 13:49:32', '3', 'Sophmore', 'Yes', ''], ['9/9/2024 13:49:37', '3', 'Freshman', 'Yes', ''], ['9/9/2024 13:49:40', '1', 'Sophmore', 'Yes', ''], ['9/9/2024 13:49:44', '3', 'Freshman', 'Yes', ''], ['9/9/2024 13:49:45', '1', 'Sophmore', 'Yes', ''], ['9/9/2024 13:49:57', '2', 'Freshman', 'Yes', ''], ['9/9/2024 13:50:03', '2', 'Sophmore', 'Yes', ''], ['9/9/2024 13:50:06', '3', 'Freshman', 'Yes', ''], ['9/9/2024 13:50:08', '2', 'Sophmore', 'Yes', ''], ['9/9/2024 13:50:10', '4', 'Freshman', 'Yes', ''], ['9/9/2024 13:50:31', '3', 'Freshman', 'Yes', ''], ['9/9/2024 13:50:34', '3', 'Sophmore', 'Yes', ''], ['9/9/2024 13:50:37', '2', 'Sophmore', 'Yes', ''], ['9/9/2024 13:50:59', '3', 'Freshman', 'Yes', ''], ['9/9/2024 13:51:00', '3', 'Freshman', 'No', ''], ['9/9/2024 13:51:02', '5', 'Freshman', 'Yes', ''], ['9/9/2024 13:51:15', '2', 'Freshman', 'Yes', ''], ['9/9/2024 13:51:28', '2', 'Sophmore', 'Yes', ''], ['9/9/2024 13:51:33', '3', 'Freshman', 'Yes', ''], ['9/9/2024 13:51:41', '1', 'Freshman', 'No', ''], ['9/9/2024 13:51:46', '2', 'Sophmore', 'Yes', ''], ['9/9/2024 13:51:52', '3', 'Freshman', 'Yes', ''], ['9/9/2024 13:52:12', '2', 'Freshman', 'Undecided', ''], ['9/9/2024 13:52:14', '4', 'Freshman', 'Yes', ''], ['9/9/2024 13:52:36', '1', 'Sophmore', 'Undecided', ''], ['9/9/2024 13:52:39', '3', 'Sophmore', 'Yes', ''], ['9/9/2024 13:52:51', '4', 'Junior', 'Yes', ''], ['9/9/2024 13:54:21', '3', 'Freshman', 'Yes', ''], ['9/9/2024 13:58:52', '3', 'Sophmore', 'Yes', '']]\n"
          ]
        }
      ],
      "source": [
        "surveyData = gc.open_by_url('https://docs.google.com/spreadsheets/d/1nsWF4ZapF2enpP6-COU4BpYwGMEwly_20mGdCdXKL6o/edit?resourcekey=&gid=726529752#gid=726529752').sheet1\n",
        "data = surveyData.get_all_values()\n",
        "print(data)"
      ]
    },
    {
      "cell_type": "code",
      "execution_count": 3,
      "metadata": {
        "colab": {
          "base_uri": "https://localhost:8080/"
        },
        "id": "KC1wolYoEp_2",
        "outputId": "75cda3b2-91e5-4b61-a99b-eabaa93763a4"
      },
      "outputs": [
        {
          "output_type": "execute_result",
          "data": {
            "text/plain": [
              "['Timestamp',\n",
              " 'How would you rate your programming background coming into this course?',\n",
              " 'Where are you in your studies?',\n",
              " 'Are you in an engineering major?',\n",
              " \"Do you have any feedback you'd like to see incorporated in this class? It's a big class, but we do our best to track the trends of what the students are looking for.\"]"
            ]
          },
          "metadata": {},
          "execution_count": 3
        }
      ],
      "source": [
        "# This dumps out the list of questions in the survey\n",
        "data[0]"
      ]
    },
    {
      "cell_type": "code",
      "execution_count": 4,
      "metadata": {
        "colab": {
          "base_uri": "https://localhost:8080/"
        },
        "id": "X1TGES89HXa-",
        "outputId": "c0930e19-3749-46b7-837e-1350766c2277"
      },
      "outputs": [
        {
          "output_type": "execute_result",
          "data": {
            "text/plain": [
              "[['9/9/2024 9:36:58', '5', 'Other', 'Yes', 'This is nat, hi!'],\n",
              " ['9/9/2024 10:22:30', '5', 'Other', 'Yes', ''],\n",
              " ['9/9/2024 10:54:42', '4', 'Junior', 'Yes', ''],\n",
              " ['9/9/2024 13:49:02', '4', 'Sophmore', 'Yes', ''],\n",
              " ['9/9/2024 13:49:06', '2', 'Freshman', 'Yes', ''],\n",
              " ['9/9/2024 13:49:07', '3', 'Freshman', 'Yes', ''],\n",
              " ['9/9/2024 13:49:12', '4', 'Sophmore', 'Yes', ''],\n",
              " ['9/9/2024 13:49:14', '1', 'Sophmore', 'Undecided', ''],\n",
              " ['9/9/2024 13:49:18', '2', 'Sophmore', 'Undecided', ''],\n",
              " ['9/9/2024 13:49:24', '3', 'Junior', 'No', ''],\n",
              " ['9/9/2024 13:49:26', '4', 'Freshman', 'Yes', ''],\n",
              " ['9/9/2024 13:49:30', '3', 'Freshman', 'Yes', ''],\n",
              " ['9/9/2024 13:49:32', '3', 'Sophmore', 'Yes', ''],\n",
              " ['9/9/2024 13:49:37', '3', 'Freshman', 'Yes', ''],\n",
              " ['9/9/2024 13:49:40', '1', 'Sophmore', 'Yes', ''],\n",
              " ['9/9/2024 13:49:44', '3', 'Freshman', 'Yes', ''],\n",
              " ['9/9/2024 13:49:45', '1', 'Sophmore', 'Yes', ''],\n",
              " ['9/9/2024 13:49:57', '2', 'Freshman', 'Yes', ''],\n",
              " ['9/9/2024 13:50:03', '2', 'Sophmore', 'Yes', ''],\n",
              " ['9/9/2024 13:50:06', '3', 'Freshman', 'Yes', ''],\n",
              " ['9/9/2024 13:50:08', '2', 'Sophmore', 'Yes', ''],\n",
              " ['9/9/2024 13:50:10', '4', 'Freshman', 'Yes', ''],\n",
              " ['9/9/2024 13:50:31', '3', 'Freshman', 'Yes', ''],\n",
              " ['9/9/2024 13:50:34', '3', 'Sophmore', 'Yes', ''],\n",
              " ['9/9/2024 13:50:37', '2', 'Sophmore', 'Yes', ''],\n",
              " ['9/9/2024 13:50:59', '3', 'Freshman', 'Yes', ''],\n",
              " ['9/9/2024 13:51:00', '3', 'Freshman', 'No', ''],\n",
              " ['9/9/2024 13:51:02', '5', 'Freshman', 'Yes', ''],\n",
              " ['9/9/2024 13:51:15', '2', 'Freshman', 'Yes', ''],\n",
              " ['9/9/2024 13:51:28', '2', 'Sophmore', 'Yes', ''],\n",
              " ['9/9/2024 13:51:33', '3', 'Freshman', 'Yes', ''],\n",
              " ['9/9/2024 13:51:41', '1', 'Freshman', 'No', ''],\n",
              " ['9/9/2024 13:51:46', '2', 'Sophmore', 'Yes', ''],\n",
              " ['9/9/2024 13:51:52', '3', 'Freshman', 'Yes', ''],\n",
              " ['9/9/2024 13:52:12', '2', 'Freshman', 'Undecided', ''],\n",
              " ['9/9/2024 13:52:14', '4', 'Freshman', 'Yes', ''],\n",
              " ['9/9/2024 13:52:36', '1', 'Sophmore', 'Undecided', ''],\n",
              " ['9/9/2024 13:52:39', '3', 'Sophmore', 'Yes', ''],\n",
              " ['9/9/2024 13:52:51', '4', 'Junior', 'Yes', ''],\n",
              " ['9/9/2024 13:54:21', '3', 'Freshman', 'Yes', ''],\n",
              " ['9/9/2024 13:58:52', '3', 'Sophmore', 'Yes', '']]"
            ]
          },
          "metadata": {},
          "execution_count": 4
        }
      ],
      "source": [
        "# This shows the list of responses\n",
        "data[1:]"
      ]
    },
    {
      "cell_type": "code",
      "source": [
        "# Extract the column you want (e.g., the first column)\n",
        "column_tograb = 1\n",
        "column_data = [row[column_tograb] for row in data[1:]]  # This is something called \"list comprehension that we'll cover in a few weeks\n",
        "\n",
        "import matplotlib.pyplot as plt\n",
        "plt.hist(column_data)\n",
        "plt.xlabel('Response number')\n",
        "plt.ylabel('Frequency')\n",
        "plt.show()"
      ],
      "metadata": {
        "colab": {
          "base_uri": "https://localhost:8080/",
          "height": 449
        },
        "id": "csgk0SQDI44g",
        "outputId": "f63a3075-4bb0-4010-894a-f31dd9003702"
      },
      "execution_count": 15,
      "outputs": [
        {
          "output_type": "display_data",
          "data": {
            "text/plain": [
              "<Figure size 640x480 with 1 Axes>"
            ],
            "image/png": "[encoded data removed]"
          },
          "metadata": {}
        }
      ]
    },
    {
      "cell_type": "code",
      "source": [],
      "metadata": {
        "id": "Cm-sXL6iJ1R3"
      },
      "execution_count": null,
      "outputs": []
    }
  ],
  "metadata": {
    "colab": {
      "provenance": [],
      "include_colab_link": true
    },
    "kernelspec": {
      "display_name": "Python 3",
      "name": "python3"
    },
    "language_info": {
      "codemirror_mode": {
        "name": "ipython",
        "version": 3
      },
      "file_extension": ".py",
      "mimetype": "text/x-python",
      "name": "python",
      "nbconvert_exporter": "python",
      "pygments_lexer": "ipython3",
      "version": "3.11.5"
    }
  },
  "nbformat": 4,
  "nbformat_minor": 0
}