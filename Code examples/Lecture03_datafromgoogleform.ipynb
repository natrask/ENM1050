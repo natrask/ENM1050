{
  "nbformat": 4,
  "nbformat_minor": 0,
  "metadata": {
    "colab": {
      "provenance": [],
      "authorship_tag": "ABX9TyNzvs9X6koaKv7d501mj6KM",
      "include_colab_link": true
    },
    "kernelspec": {
      "name": "python3",
      "display_name": "Python 3"
    },
    "language_info": {
      "name": "python"
    }
  },
  "cells": [
    {
      "cell_type": "markdown",
      "metadata": {
        "id": "view-in-github",
        "colab_type": "text"
      },
      "source": [
        "<a href=\"https://colab.research.google.com/github/natrask/ENM1050/blob/main/Lecture03_datafromgoogleform.ipynb\" target=\"_parent\"><img src=\"https://colab.research.google.com/assets/colab-badge.svg\" alt=\"Open In Colab\"/></a>"
      ]
    },
    {
      "cell_type": "code",
      "source": [
        "# Import packages for connecting to Spreadsheets\n",
        "from google.colab import auth\n",
        "auth.authenticate_user()\n",
        "\n",
        "import gspread\n",
        "from google.auth import default\n",
        "creds, _ = default()\n",
        "\n",
        "# Authorize Colab to access Spreadsheets\n",
        "gc = gspread.authorize(creds)"
      ],
      "metadata": {
        "id": "EBDqO_4PA0Ki"
      },
      "execution_count": 24,
      "outputs": []
    },
    {
      "cell_type": "code",
      "source": [
        "surveyData = gc.open_by_url('https://docs.google.com/spreadsheets/d/1nsWF4ZapF2enpP6-COU4BpYwGMEwly_20mGdCdXKL6o/edit?resourcekey=&gid=726529752#gid=726529752').sheet1\n",
        "data = surveyData.get_all_values()\n",
        "print(data)"
      ],
      "metadata": {
        "colab": {
          "base_uri": "https://localhost:8080/"
        },
        "id": "Qbhuis5DCnHl",
        "outputId": "4de1545c-6bcd-4fab-c4a8-b9a67573ca77"
      },
      "execution_count": 25,
      "outputs": [
        {
          "output_type": "stream",
          "name": "stdout",
          "text": [
            "[['Timestamp', 'How would you rate your programming background coming into this course?', 'Where are you in your studies?', 'Are you in an engineering major?', \"Do you have any feedback you'd like to see incorporated in this class? It's a big class, but we do our best to track the trends of what the students are looking for.\"], ['9/9/2024 9:36:58', '5', 'Other', 'Yes', 'This is nat, hi!']]\n"
          ]
        }
      ]
    },
    {
      "cell_type": "code",
      "source": [
        "#This dumps out the list of questions in the survey\n",
        "data[0]"
      ],
      "metadata": {
        "id": "KC1wolYoEp_2",
        "colab": {
          "base_uri": "https://localhost:8080/"
        },
        "outputId": "2f405937-9765-473e-d4d1-60f596461833"
      },
      "execution_count": 26,
      "outputs": [
        {
          "output_type": "execute_result",
          "data": {
            "text/plain": [
              "['Timestamp',\n",
              " 'How would you rate your programming background coming into this course?',\n",
              " 'Where are you in your studies?',\n",
              " 'Are you in an engineering major?',\n",
              " \"Do you have any feedback you'd like to see incorporated in this class? It's a big class, but we do our best to track the trends of what the students are looking for.\"]"
            ]
          },
          "metadata": {},
          "execution_count": 26
        }
      ]
    },
    {
      "cell_type": "code",
      "source": [
        "#This show the list of responses\n",
        "data[1]"
      ],
      "metadata": {
        "colab": {
          "base_uri": "https://localhost:8080/"
        },
        "id": "X1TGES89HXa-",
        "outputId": "95460adb-ffa3-4c88-b507-d95065227f67"
      },
      "execution_count": 27,
      "outputs": [
        {
          "output_type": "execute_result",
          "data": {
            "text/plain": [
              "['9/9/2024 9:36:58', '5', 'Other', 'Yes', 'This is nat, hi!']"
            ]
          },
          "metadata": {},
          "execution_count": 27
        }
      ]
    }
  ]
}