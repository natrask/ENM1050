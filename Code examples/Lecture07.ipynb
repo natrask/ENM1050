{
  "nbformat": 4,
  "nbformat_minor": 0,
  "metadata": {
    "colab": {
      "provenance": [],
      "collapsed_sections": [
        "bI63q35vbtH_",
        "7bhpHYO0copR",
        "2RX_fMaSlii8",
        "GXvk4jdnes5_",
        "GG2aQc1UjyG_",
        "e6tdlzi-Qvu4"
      ],
      "include_colab_link": true
    },
    "kernelspec": {
      "name": "python3",
      "display_name": "Python 3"
    },
    "language_info": {
      "name": "python"
    }
  },
  "cells": [
    {
      "cell_type": "markdown",
      "metadata": {
        "id": "view-in-github",
        "colab_type": "text"
      },
      "source": [
        "<a href=\"https://colab.research.google.com/github/natrask/ENM1050/blob/main/Code%20examples/Lecture07.ipynb\" target=\"_parent\"><img src=\"https://colab.research.google.com/assets/colab-badge.svg\" alt=\"Open In Colab\"/></a>"
      ]
    },
    {
      "cell_type": "markdown",
      "source": [
        "#**Debugging and Numpy**#"
      ],
      "metadata": {
        "id": "9Mn5gAm1sA35"
      }
    },
    {
      "cell_type": "markdown",
      "source": [
        "#CONTRIBUTORS#\n",
        "\n",
        "This in-class exercise is to be done in pairs. Add the names of the two students in this text block.\n"
      ],
      "metadata": {
        "id": "5oIyjTdu74cb"
      }
    },
    {
      "cell_type": "markdown",
      "source": [
        "# Debugging code with prints"
      ],
      "metadata": {
        "id": "avdcVzRAAdAT"
      }
    },
    {
      "cell_type": "markdown",
      "source": [
        "When we've tried to get to the bottom of what is causing our code to stumble, we break the code into pieces and print things out a line at a time to try and pinpoint where exactly things went wrong. For example, add a print statement inside the *add_numbers* function below to identify why it isn't adding the two numbers correctly. (Hint: print out *type(num1)*)\n",
        "\n",
        "Describe in text below what the issue was."
      ],
      "metadata": {
        "id": "-GX4XWzyI0cp"
      }
    },
    {
      "cell_type": "code",
      "source": [
        "def add_numbers(num1, num2):\n",
        "  return num1+num2\n",
        "\n",
        "first_num = input('Input a number: ')\n",
        "second_num = input('Input another number: ')\n",
        "\n",
        "print(add_numbers(first_num, second_num))"
      ],
      "metadata": {
        "id": "cb4OnK03JK2W",
        "outputId": "04bf17f8-b690-4e6a-8ce5-2cd23fc22950",
        "colab": {
          "base_uri": "https://localhost:8080/"
        }
      },
      "execution_count": 1,
      "outputs": [
        {
          "output_type": "stream",
          "name": "stdout",
          "text": [
            "Input a number: 2\n",
            "Input another number: 3\n",
            "23\n"
          ]
        }
      ]
    },
    {
      "cell_type": "markdown",
      "source": [
        "# Using a debugger"
      ],
      "metadata": {
        "id": "WJipQ7A6NQHi"
      }
    },
    {
      "cell_type": "markdown",
      "source": [
        "Up until now, we have been debugging our code using print statements.  While print statements can still be an important part of the debugging process, they don't allow for interactive back-and-forth with the code.\n",
        "\n",
        "**Debuggers** allow us to pause code execution, allow us to query variables and write more lines of code, step code line-by-line, and continue.\n",
        "\n",
        "The debugger we will use since it integrates with Colab is called `ipdb`, or iPython DeBugger.  This is already accessible in Google Colab via the `breakpoint()` command."
      ],
      "metadata": {
        "id": "72b9zk9aZR-O"
      }
    },
    {
      "cell_type": "markdown",
      "source": [
        "`breakpoint()` allows us to pause the code at any point in our code and allow us to query any variables that have been established.\n",
        "\n",
        "Once the `breakpoint()` has been reached in your code, there will be a command prompt labeled `ipdb` for you to type in. In this command prompt, you access any variable or command available. Let us first take a look at the available commands using `ipdb`, then type in `h`.\n",
        "\n",
        "Alternatively, here is a reference for all the commands in ipdb:  <a href=\"https://skillshats.com/blogs/debugging-made-easy-with-ipdb-the-python-debugger/\">Python ipdb Commands</a>"
      ],
      "metadata": {
        "id": "yFT3wX9kyl2f"
      }
    },
    {
      "cell_type": "code",
      "source": [
        "breakpoint()"
      ],
      "metadata": {
        "id": "zIEGEYeJzf8J",
        "colab": {
          "base_uri": "https://localhost:8080/"
        },
        "outputId": "cab42558-4f70-4031-ada7-6096b230590b"
      },
      "execution_count": 2,
      "outputs": [
        {
          "output_type": "stream",
          "name": "stderr",
          "text": [
            "\n",
            "PYDEV DEBUGGER WARNING:\n",
            "sys.settrace() should not be used when the debugger is being used.\n",
            "This may cause the debugger to stop working correctly.\n",
            "If this is needed, please check: \n",
            "http://pydev.blogspot.com/2007/06/why-cant-pydev-debugger-work-with.html\n",
            "to see how to restore the debug tracing back correctly.\n",
            "Call Location:\n",
            "  File \"/usr/lib/python3.10/bdb.py\", line 336, in set_trace\n",
            "    sys.settrace(self.trace_dispatch)\n",
            "\n"
          ]
        },
        {
          "name": "stdout",
          "output_type": "stream",
          "text": [
            "--Call--\n",
            "> \u001b[0;32m/usr/local/lib/python3.10/dist-packages/IPython/core/displayhook.py\u001b[0m(252)\u001b[0;36m__call__\u001b[0;34m()\u001b[0m\n",
            "\u001b[0;32m    250 \u001b[0;31m        \u001b[0msys\u001b[0m\u001b[0;34m.\u001b[0m\u001b[0mstdout\u001b[0m\u001b[0;34m.\u001b[0m\u001b[0mflush\u001b[0m\u001b[0;34m(\u001b[0m\u001b[0;34m)\u001b[0m\u001b[0;34m\u001b[0m\u001b[0;34m\u001b[0m\u001b[0m\n",
            "\u001b[0m\u001b[0;32m    251 \u001b[0;31m\u001b[0;34m\u001b[0m\u001b[0m\n",
            "\u001b[0m\u001b[0;32m--> 252 \u001b[0;31m    \u001b[0;32mdef\u001b[0m \u001b[0m__call__\u001b[0m\u001b[0;34m(\u001b[0m\u001b[0mself\u001b[0m\u001b[0;34m,\u001b[0m \u001b[0mresult\u001b[0m\u001b[0;34m=\u001b[0m\u001b[0;32mNone\u001b[0m\u001b[0;34m)\u001b[0m\u001b[0;34m:\u001b[0m\u001b[0;34m\u001b[0m\u001b[0;34m\u001b[0m\u001b[0m\n",
            "\u001b[0m\u001b[0;32m    253 \u001b[0;31m        \"\"\"Printing with history cache management.\n",
            "\u001b[0m\u001b[0;32m    254 \u001b[0;31m\u001b[0;34m\u001b[0m\u001b[0m\n",
            "\u001b[0m\n",
            "ipdb> h\n",
            "\n",
            "Documented commands (type help <topic>):\n",
            "========================================\n",
            "EOF    commands   enable    ll        pp       s                until \n",
            "a      condition  exit      longlist  psource  skip_hidden      up    \n",
            "alias  cont       h         n         q        skip_predicates  w     \n",
            "args   context    help      next      quit     source           whatis\n",
            "b      continue   ignore    p         r        step             where \n",
            "break  d          interact  pdef      restart  tbreak         \n",
            "bt     debug      j         pdoc      return   u              \n",
            "c      disable    jump      pfile     retval   unalias        \n",
            "cl     display    l         pinfo     run      undisplay      \n",
            "clear  down       list      pinfo2    rv       unt            \n",
            "\n",
            "Miscellaneous help topics:\n",
            "==========================\n",
            "exec  pdb\n",
            "\n",
            "ipdb> x=3\n",
            "ipdb> print(x)\n",
            "3\n",
            "ipdb> n\n",
            "> \u001b[0;32m/usr/local/lib/python3.10/dist-packages/IPython/core/displayhook.py\u001b[0m(258)\u001b[0;36m__call__\u001b[0;34m()\u001b[0m\n",
            "\u001b[0;32m    256 \u001b[0;31m        \u001b[0mactivated\u001b[0m \u001b[0mby\u001b[0m \u001b[0msetting\u001b[0m \u001b[0mthe\u001b[0m \u001b[0mvariable\u001b[0m \u001b[0msys\u001b[0m\u001b[0;34m.\u001b[0m\u001b[0mdisplayhook\u001b[0m \u001b[0mto\u001b[0m \u001b[0mit\u001b[0m\u001b[0;34m.\u001b[0m\u001b[0;34m\u001b[0m\u001b[0;34m\u001b[0m\u001b[0m\n",
            "\u001b[0m\u001b[0;32m    257 \u001b[0;31m        \"\"\"\n",
            "\u001b[0m\u001b[0;32m--> 258 \u001b[0;31m        \u001b[0mself\u001b[0m\u001b[0;34m.\u001b[0m\u001b[0mcheck_for_underscore\u001b[0m\u001b[0;34m(\u001b[0m\u001b[0;34m)\u001b[0m\u001b[0;34m\u001b[0m\u001b[0;34m\u001b[0m\u001b[0m\n",
            "\u001b[0m\u001b[0;32m    259 \u001b[0;31m        \u001b[0;32mif\u001b[0m \u001b[0mresult\u001b[0m \u001b[0;32mis\u001b[0m \u001b[0;32mnot\u001b[0m \u001b[0;32mNone\u001b[0m \u001b[0;32mand\u001b[0m \u001b[0;32mnot\u001b[0m \u001b[0mself\u001b[0m\u001b[0;34m.\u001b[0m\u001b[0mquiet\u001b[0m\u001b[0;34m(\u001b[0m\u001b[0;34m)\u001b[0m\u001b[0;34m:\u001b[0m\u001b[0;34m\u001b[0m\u001b[0;34m\u001b[0m\u001b[0m\n",
            "\u001b[0m\u001b[0;32m    260 \u001b[0;31m            \u001b[0mself\u001b[0m\u001b[0;34m.\u001b[0m\u001b[0mstart_displayhook\u001b[0m\u001b[0;34m(\u001b[0m\u001b[0;34m)\u001b[0m\u001b[0;34m\u001b[0m\u001b[0;34m\u001b[0m\u001b[0m\n",
            "\u001b[0m\n",
            "ipdb> n\n",
            "> \u001b[0;32m/usr/local/lib/python3.10/dist-packages/IPython/core/displayhook.py\u001b[0m(259)\u001b[0;36m__call__\u001b[0;34m()\u001b[0m\n",
            "\u001b[0;32m    257 \u001b[0;31m        \"\"\"\n",
            "\u001b[0m\u001b[0;32m    258 \u001b[0;31m        \u001b[0mself\u001b[0m\u001b[0;34m.\u001b[0m\u001b[0mcheck_for_underscore\u001b[0m\u001b[0;34m(\u001b[0m\u001b[0;34m)\u001b[0m\u001b[0;34m\u001b[0m\u001b[0;34m\u001b[0m\u001b[0m\n",
            "\u001b[0m\u001b[0;32m--> 259 \u001b[0;31m        \u001b[0;32mif\u001b[0m \u001b[0mresult\u001b[0m \u001b[0;32mis\u001b[0m \u001b[0;32mnot\u001b[0m \u001b[0;32mNone\u001b[0m \u001b[0;32mand\u001b[0m \u001b[0;32mnot\u001b[0m \u001b[0mself\u001b[0m\u001b[0;34m.\u001b[0m\u001b[0mquiet\u001b[0m\u001b[0;34m(\u001b[0m\u001b[0;34m)\u001b[0m\u001b[0;34m:\u001b[0m\u001b[0;34m\u001b[0m\u001b[0;34m\u001b[0m\u001b[0m\n",
            "\u001b[0m\u001b[0;32m    260 \u001b[0;31m            \u001b[0mself\u001b[0m\u001b[0;34m.\u001b[0m\u001b[0mstart_displayhook\u001b[0m\u001b[0;34m(\u001b[0m\u001b[0;34m)\u001b[0m\u001b[0;34m\u001b[0m\u001b[0;34m\u001b[0m\u001b[0m\n",
            "\u001b[0m\u001b[0;32m    261 \u001b[0;31m            \u001b[0mself\u001b[0m\u001b[0;34m.\u001b[0m\u001b[0mwrite_output_prompt\u001b[0m\u001b[0;34m(\u001b[0m\u001b[0;34m)\u001b[0m\u001b[0;34m\u001b[0m\u001b[0;34m\u001b[0m\u001b[0m\n",
            "\u001b[0m\n",
            "ipdb> exit\n"
          ]
        },
        {
          "output_type": "stream",
          "name": "stderr",
          "text": [
            "\n",
            "PYDEV DEBUGGER WARNING:\n",
            "sys.settrace() should not be used when the debugger is being used.\n",
            "This may cause the debugger to stop working correctly.\n",
            "If this is needed, please check: \n",
            "http://pydev.blogspot.com/2007/06/why-cant-pydev-debugger-work-with.html\n",
            "to see how to restore the debug tracing back correctly.\n",
            "Call Location:\n",
            "  File \"/usr/lib/python3.10/bdb.py\", line 361, in set_quit\n",
            "    sys.settrace(None)\n",
            "\n"
          ]
        }
      ]
    },
    {
      "cell_type": "markdown",
      "source": [
        "The most common commands you will use are: `'n(ext)'` to continue through the next line of code, `'c(ontinue)'` to continue through until another `breakpoint()` is reached, and `'q(uit)'`.\n",
        "\n",
        "Unfortunately, there is no way to fully exit out of the `breakpoint()` and have the code block complete its run. You will have to quit or finish running through the code, then comment out the breakpoint.\n",
        "\n",
        "Let's use the example below to practice using `breakpoint()`. Here are the steps to follow:\n",
        "\n",
        "1. The code will stop at the `breakpoint()`. In the prompt, type in the variable you wish to find the value of or the expression you would like to evaluate. ipdb will return the value at the current breakpoint.\n",
        "\n",
        "Note: if the variable is named the same as an existing command, put a `!` in front of the variable. For the code below, `j` is used in the second for loop, but `j` is also used for the `jump` prompt. To find the value of `j` in the code, we need to use `!j`. Give it a try!\n",
        "\n",
        "2. Once you are finished with the current breakpoint, use `n(ext)` or `c(ontinue)` to move on through the code until the next breakpoint (or existing breakpoint) is reached.\n",
        "\n",
        "3. Once you are finished with debugging, exit your breakpoint with `q(uit)` command, comment out the `breakpoint()` line in your code, then rerun your code."
      ],
      "metadata": {
        "id": "HqpB882R-fpm"
      }
    },
    {
      "cell_type": "code",
      "source": [
        "x = 0\n",
        "for i in range(5):\n",
        "  for j in range(5):\n",
        "    x += 1\n",
        "    # breakpoint()\n",
        "print(\"Done!\")\n"
      ],
      "metadata": {
        "id": "WduFfW7tt3BU",
        "colab": {
          "base_uri": "https://localhost:8080/"
        },
        "outputId": "b4a28bc0-88e8-40b5-86ab-3b95b024736e"
      },
      "execution_count": null,
      "outputs": [
        {
          "output_type": "stream",
          "name": "stdout",
          "text": [
            "Done!\n"
          ]
        }
      ]
    },
    {
      "cell_type": "markdown",
      "source": [
        "**Your Turn:** What are the values of the following at the 1st run `breakpoint()` below. Notice here you can enter expressions into the prompt.\n",
        "\n",
        "1. `day`\n",
        "2. `[days_of_week[weekday_index] for weekday_index in weekday_indices]`\n",
        "3. `day in [days_of_week[weekday_index] for weekday_index in weekday_indices]`"
      ],
      "metadata": {
        "id": "BzAGJqALCGvB"
      }
    },
    {
      "cell_type": "code",
      "source": [
        "days_of_week = ['Sunday', 'Monday', 'Tuesday', 'Wednesday', 'Thursday', 'Friday', 'Saturday']\n",
        "weekday_indices = [1, 2, 3, 4, 5]\n",
        "\n",
        "def say_if_weekend(day):\n",
        "  if day in days_of_week:\n",
        "    if day in [days_of_week[weekday_index] for weekday_index in weekday_indices]:\n",
        "      # breakpoint()\n",
        "      print(day, 'is not on a weekend :(')\n",
        "    else:\n",
        "      print(day, 'is on a weekend!')\n",
        "\n",
        "  else:\n",
        "    print('Did not input valid day:', day)\n",
        "\n",
        "\n",
        "say_if_weekend(\"Tuesday\")\n"
      ],
      "metadata": {
        "id": "uGXWlMgLCSHx",
        "colab": {
          "base_uri": "https://localhost:8080/"
        },
        "outputId": "e3a87b11-33b4-4df1-82dc-2565c920e35f"
      },
      "execution_count": null,
      "outputs": [
        {
          "output_type": "stream",
          "name": "stdout",
          "text": [
            "Tuesday is not on a weekend :(\n"
          ]
        }
      ]
    },
    {
      "cell_type": "markdown",
      "source": [
        "**Your Turn:** Put a `breakpoint()` in the below code to determine what the variables are evaluated to after running through the while loop once. Record the following variables for the **1st and 2nd** iteration of the while loop.\n",
        "\n",
        "1. x\n",
        "1. num"
      ],
      "metadata": {
        "id": "Qj-7tYvfMGuj"
      }
    },
    {
      "cell_type": "code",
      "source": [
        "import math\n",
        "\n",
        "def very_random_function(num):\n",
        "  x = 100\n",
        "  my_list = []\n",
        "\n",
        "  while x > 8:\n",
        "    for i in range(20):\n",
        "      if num > 1:\n",
        "        for j in range(5):\n",
        "          if x > 30:\n",
        "            num = 1\n",
        "          elif x >= 20:\n",
        "            num = (num / 2) ** 4\n",
        "          else:\n",
        "            num *= math.pi / (num * 3)\n",
        "          my_list.append(num)\n",
        "      else:\n",
        "        for k in range(len(my_list)):\n",
        "          num += 0.25\n",
        "          for g in range(len(my_list)):\n",
        "            num += 0.525\n",
        "        my_list.append(num)\n",
        "        [x * num for l in my_list]\n",
        "    x /= 3\n",
        "\n",
        "  return num\n",
        "\n",
        "result = very_random_function(0.5)\n",
        "\n",
        "\n",
        "\n",
        "print(result)"
      ],
      "metadata": {
        "id": "jUPl2fIlkQT9",
        "colab": {
          "base_uri": "https://localhost:8080/"
        },
        "outputId": "426f73fa-8d1d-4e85-d01c-54932a58c5c6"
      },
      "execution_count": null,
      "outputs": [
        {
          "output_type": "stream",
          "name": "stdout",
          "text": [
            "1.0471975511965976\n"
          ]
        }
      ]
    },
    {
      "cell_type": "markdown",
      "source": [
        "`ipdb` is useful when you want to eliminate using a bunch of print statements. You can also evaluate python expressions to interrogate the intermediate values in your code. This debugging tool will allow you to instantly access a certain part of your code to help you find potential errors. Remember to comment out the `breakpoint()` once you are finished debugging.\n",
        "\n",
        "Feel free to use `ipdb / breakpoint()` or print statements to help debug your code if you run into errors in the future. Either debugging version will work, so use the one that you are most comfortable with!"
      ],
      "metadata": {
        "id": "TDS-8TWswpyT"
      }
    },
    {
      "cell_type": "markdown",
      "source": [
        "# Introduction to NumPy"
      ],
      "metadata": {
        "id": "c3MCZH5iIa0J"
      }
    },
    {
      "cell_type": "markdown",
      "source": [
        "Last week, we learned the many benefits and functionalities behind using functions. We are now able to modularize and repeat blocks of code to create clean and concise scripts. This understanding allows us to expand our knowledge to other libraries and functions found beyond what we have been explosed to so far in this course.\n",
        "\n",
        "One particular library that is very popular in Python for data collection and manipulation is NumPy. Similar to matplotlib, there are attributes and functions particularly associated with NumPy that we can utilize on numerical data."
      ],
      "metadata": {
        "id": "T1ZY4H0KHlt6"
      }
    },
    {
      "cell_type": "markdown",
      "source": [
        "NumPy is a package for scientific computing\n",
        "and includes some more complicated functions than math does, particularly for matrices and arrays. **Remember!** The most complete way to learn numpy, or any library, is to go to the docs and take a look at the documentation. For something as ubiquitous as numpy there are a massive number of resources on the internet.\n",
        "\n",
        "Full reference: https://numpy.org/doc/stable/reference/index.html#reference\n",
        "\n",
        "\n",
        "Let's go ahead and import **numpy** using a conventional standard:\n"
      ],
      "metadata": {
        "id": "8FFOOkbAP1Ue"
      }
    },
    {
      "cell_type": "code",
      "source": [
        "import numpy as np"
      ],
      "metadata": {
        "id": "Bx5EMJ4NLrsC"
      },
      "execution_count": null,
      "outputs": []
    },
    {
      "cell_type": "markdown",
      "source": [
        "**Note*** You will often see this shorthand version of importing numpy as np, similar to something you have seen before.\n",
        "\n",
        "`import matplotlib.pyplot as plt`\n",
        "\n",
        "In general, you can choose any shorthand you want\n",
        "\n",
        "```import matplotlib.pyplot as a_ham_sandwich```\n",
        "\n",
        "```a_ham_sandwich.plot(x,y)```\n",
        "\n",
        "but we use standard ones like `np` and `plt` to make our code easily readible by others."
      ],
      "metadata": {
        "id": "o8mFfu7qNRXR"
      }
    },
    {
      "cell_type": "markdown",
      "source": [
        "As we know, we can create a list of numbers using the data type **list**. However, there are many benefits to using NumPy arrays vs lists:\n",
        "1. Arrays store data faster because they are constrained to numbers.\n",
        "1. Solving linear equations is easier with arrays.\n",
        "1. Arrays allow for image processing.\n",
        "1. Arrays are heavily used in machine learning."
      ],
      "metadata": {
        "id": "mQVtBEyWRJpl"
      }
    },
    {
      "cell_type": "markdown",
      "source": [
        "# Generating a NumPy Array"
      ],
      "metadata": {
        "id": "PY-WfgWjFX-W"
      }
    },
    {
      "cell_type": "markdown",
      "source": [
        "Within the NumPy library, there are many tools we can use to interact with numbered arrays. Let's start by creating a 1-Dimensional Array."
      ],
      "metadata": {
        "id": "QQT53WH_E4qm"
      }
    },
    {
      "cell_type": "code",
      "source": [
        "my_1d_array = np.array([1, 2, 3, 4])\n",
        "print(my_1d_array)\n",
        "print(type(my_1d_array))"
      ],
      "metadata": {
        "id": "dlk-R7QkL5Ap",
        "colab": {
          "base_uri": "https://localhost:8080/"
        },
        "outputId": "8ed026b9-c0ec-4d02-89ac-df84998bc616"
      },
      "execution_count": null,
      "outputs": [
        {
          "output_type": "stream",
          "name": "stdout",
          "text": [
            "[1 2 3 4]\n",
            "<class 'numpy.ndarray'>\n"
          ]
        }
      ]
    },
    {
      "cell_type": "markdown",
      "source": [
        "Notice 2 things:\n",
        "1. A list of numbers are provided in the np.array() function.\n",
        "1. This is no longer a list object, but a numpy.ndarray object.\n",
        "\n",
        "ndarray objects contain specific functions. To access those functions, we use `.(function name)`. We will use `.ndim` and `.shape` to find the dimension and shape of an array. Before we do that, let's create a 2-Dimensional Array."
      ],
      "metadata": {
        "id": "T1NOVBdaF9Vf"
      }
    },
    {
      "cell_type": "code",
      "source": [
        "my_2d_array = np.array([[1, 2, 3, 4], [5, 6, 7, 8]])\n",
        "print(my_2d_array)\n",
        "print(type(my_2d_array))\n",
        "\n",
        "print(my_2d_array.ndim)\n",
        "print(my_2d_array.shape)"
      ],
      "metadata": {
        "id": "IfENM81pIciM",
        "colab": {
          "base_uri": "https://localhost:8080/"
        },
        "outputId": "2ea7b044-abb5-45cb-ab84-c9271ed2af24"
      },
      "execution_count": null,
      "outputs": [
        {
          "output_type": "stream",
          "name": "stdout",
          "text": [
            "[[1 2 3 4]\n",
            " [5 6 7 8]]\n",
            "<class 'numpy.ndarray'>\n",
            "2\n",
            "(2, 4)\n"
          ]
        }
      ]
    },
    {
      "cell_type": "markdown",
      "source": [
        "`.ndim` outputs the dimension of the array.\n",
        "\n",
        "`.shape` outputs the shape of the array.\n",
        "\n",
        "Notice we need at least **2** sets of bracket to create a 2-Dimensional Array. The first set of brackets coorelates to the first row of your array. The second set of brackets coorelates to the second row of your array."
      ],
      "metadata": {
        "id": "al4XwatLpr7Z"
      }
    },
    {
      "cell_type": "markdown",
      "source": [
        "Now, let's create a 3-Dimensional Array."
      ],
      "metadata": {
        "id": "8TSr3pflqdwm"
      }
    },
    {
      "cell_type": "code",
      "source": [
        "my_3d_array = np.array([[[1, 2], [3, 4]], [[5, 6], [7, 8]], [[9, 10], [11, 12]]])\n",
        "print(my_3d_array)\n",
        "print(my_3d_array.ndim)\n",
        "print(my_3d_array.shape)"
      ],
      "metadata": {
        "id": "x0u_XUGdn_N0",
        "colab": {
          "base_uri": "https://localhost:8080/"
        },
        "outputId": "1aae85ae-aeca-4834-c715-9e421ff6f996"
      },
      "execution_count": null,
      "outputs": [
        {
          "output_type": "stream",
          "name": "stdout",
          "text": [
            "[[[ 1  2]\n",
            "  [ 3  4]]\n",
            "\n",
            " [[ 5  6]\n",
            "  [ 7  8]]\n",
            "\n",
            " [[ 9 10]\n",
            "  [11 12]]]\n",
            "3\n",
            "(3, 2, 2)\n"
          ]
        }
      ]
    },
    {
      "cell_type": "markdown",
      "source": [
        "By adding another set of brackets, we were able to create a 3d array. In the above example, it is a 3d array containing two 2x2 matrices."
      ],
      "metadata": {
        "id": "CE1hDozxrSw9"
      }
    },
    {
      "cell_type": "markdown",
      "source": [
        "**Your Turn:** Now that you know how to create arrays, demonstrate your understanding with the following examples (**without using random.randint**). Type in random numbers into your matrices.\n",
        "1. Create a random 1d array using numpy of size 5.\n",
        "1. Create a random 2d array using numpy of size 3 x 3.\n",
        "1. Create a random 3d array using numpy of size 3 x 5 x 5 (3 full matrices of 5 x 5 matrices).\n",
        "*Remember to check your dimensions using `.ndim`."
      ],
      "metadata": {
        "id": "CuabDaBnqqRJ"
      }
    },
    {
      "cell_type": "markdown",
      "source": [
        "#Auto Generate a NumPy Array"
      ],
      "metadata": {
        "id": "py0JPN4otTNw"
      }
    },
    {
      "cell_type": "markdown",
      "source": [
        "Now that we know the foundation behind arrays, we can look into more functions. Let's start with generating a sequential array, similar to how the `range()` function works.\n",
        "\n",
        "We can utilize `np.arange(start, stop, step)`.\n",
        "\n",
        "If we provide 1 argument, the function will create an array **up to** the number provided.\n",
        "\n",
        "If we provide 2 arguments, the function will create an array starting at your first input **up to** your second input. Let's take a look at a few examples:"
      ],
      "metadata": {
        "id": "Dfms6JoEt0bh"
      }
    },
    {
      "cell_type": "code",
      "source": [
        "my_1st_array = np.arange(5)\n",
        "my_2nd_array = np.arange(0, 10)\n",
        "my_3rd_array = np.arange(0, 10, 0.5)\n",
        "print(f\"1st array: {my_1st_array}\")\n",
        "print(f\"2nd array: {my_2nd_array}\")\n",
        "print(f\"3rd array: {my_3rd_array}\")\n",
        "\n",
        "my_2d_array = np.array([np.arange(4), np.arange(4)])\n",
        "print(f\"2D matrix:\\n {my_2d_array}\")\n",
        "print(f\"Dimension: {my_2d_array.ndim}\")"
      ],
      "metadata": {
        "id": "ppm0wtMtKG6i",
        "colab": {
          "base_uri": "https://localhost:8080/"
        },
        "outputId": "941300f8-af8f-4627-990c-0098bc13dd37"
      },
      "execution_count": null,
      "outputs": [
        {
          "output_type": "stream",
          "name": "stdout",
          "text": [
            "1st array: [0 1 2 3 4]\n",
            "2nd array: [0 1 2 3 4 5 6 7 8 9]\n",
            "3rd array: [0.  0.5 1.  1.5 2.  2.5 3.  3.5 4.  4.5 5.  5.5 6.  6.5 7.  7.5 8.  8.5\n",
            " 9.  9.5]\n",
            "2D matrix:\n",
            " [[0 1 2 3]\n",
            " [0 1 2 3]]\n",
            "Dimension: 2\n"
          ]
        }
      ]
    },
    {
      "cell_type": "code",
      "source": [
        "column= [1, 2, 3, 4]\n",
        "for x in range(5):\n",
        "  column.append(x)\n",
        "  print (column)"
      ],
      "metadata": {
        "colab": {
          "base_uri": "https://localhost:8080/"
        },
        "id": "SA6CPy-VylrZ",
        "outputId": "2ba9ec21-1868-473f-e1cb-8524e99fd8eb"
      },
      "execution_count": null,
      "outputs": [
        {
          "output_type": "stream",
          "name": "stdout",
          "text": [
            "[1, 2, 3, 4, 0]\n",
            "[1, 2, 3, 4, 0, 1]\n",
            "[1, 2, 3, 4, 0, 1, 2]\n",
            "[1, 2, 3, 4, 0, 1, 2, 3]\n",
            "[1, 2, 3, 4, 0, 1, 2, 3, 4]\n"
          ]
        }
      ]
    },
    {
      "cell_type": "markdown",
      "source": [
        "We can utilize another function to create random matrices using `np.random.randint(up_to_number, size = (size of matrix))`.\n",
        "\n",
        "The below example is creating a random 3 x 3 x 3 matrix."
      ],
      "metadata": {
        "id": "dAceMNpxvs6P"
      }
    },
    {
      "cell_type": "code",
      "source": [
        "random = np.random.randint(7,size = (3, 3, 3))\n",
        "print(random)\n",
        "print(random.ndim)"
      ],
      "metadata": {
        "id": "-n-e6uiAdwT4",
        "colab": {
          "base_uri": "https://localhost:8080/"
        },
        "outputId": "a6c2d716-c285-411c-e005-8bb21f9eafb8"
      },
      "execution_count": null,
      "outputs": [
        {
          "output_type": "stream",
          "name": "stdout",
          "text": [
            "[[[4 2 0]\n",
            "  [5 2 6]\n",
            "  [0 4 4]]\n",
            "\n",
            " [[0 1 4]\n",
            "  [0 3 1]\n",
            "  [3 4 2]]\n",
            "\n",
            " [[6 0 4]\n",
            "  [2 4 5]\n",
            "  [2 4 0]]]\n",
            "3\n"
          ]
        }
      ]
    },
    {
      "cell_type": "markdown",
      "source": [
        "**Your Turn:** With this new knowledge, create a function to perform the following:\n",
        "1. Input: 2 arguments. 1 argument for the range of the random integers. 1 argument for the size of the matrix you want to generate.\n",
        "1. Output: returns a random matrix with the given inputs.\n",
        "1. Call your function and save the result of the function to a variable called `result`, then print(`result`)"
      ],
      "metadata": {
        "id": "iZgxUh78wfKp"
      }
    },
    {
      "cell_type": "markdown",
      "source": [
        "A very common function used with numpy arrays is function to create an array of zeros or ones.\n",
        "\n",
        "To create an array of zeros, use `np.zeros(num_of_elements)`.\n",
        "\n",
        "To create an array of ones, use, `np.ones(num_of_elements)`."
      ],
      "metadata": {
        "id": "Gg3yNmcCyPz3"
      }
    },
    {
      "cell_type": "code",
      "source": [
        "zeros = np.zeros(5)\n",
        "ones = np.ones(5)\n",
        "\n",
        "print(f\"Zeros matrix: {zeros}\")\n",
        "print(f\"Ones matrix: {ones}\")"
      ],
      "metadata": {
        "id": "mcB6moHTy3Kw",
        "colab": {
          "base_uri": "https://localhost:8080/"
        },
        "outputId": "ee928041-ddbb-4ac0-f9bb-12ae3a48f84c"
      },
      "execution_count": null,
      "outputs": [
        {
          "output_type": "stream",
          "name": "stdout",
          "text": [
            "Zeros matrix: [0. 0. 0. 0. 0.]\n",
            "Ones matrix: [1. 1. 1. 1. 1.]\n"
          ]
        }
      ]
    },
    {
      "cell_type": "markdown",
      "source": [
        "**Your Turn:** In linear algebra or computer vision, it is occassionally useful to initiate a matrix of zeros or a matrix of ones. Practice doing this by:\n",
        "1. Creating a numpy array of a 3 x 3 x 3 matrix of zeroes\n",
        "1. Creating a numpy array of a 3 x 3 x 3 matrix of ones."
      ],
      "metadata": {
        "id": "JpT5ASvcoaCJ"
      }
    },
    {
      "cell_type": "markdown",
      "source": [
        "Another common function used in NumPy arrays is `np.reshape`. This function allows you to reshape your matrix into another matrix given the dimensions can accomodate the reshape.\n",
        "\n",
        "For example, if I have a 1 x 10 array, I cannot reshape this into a 9 x 1 array. The number of elements must be unpacked evenly. Reshaping is useful in scenarios such as rotating a matrix 90 degrees, or unpacking a 1d array into a 2d array like the example below:"
      ],
      "metadata": {
        "id": "jY2Dl3q-rgqD"
      }
    },
    {
      "cell_type": "code",
      "source": [
        "random_matrix = np.random.randint(10, size=(1, 10))\n",
        "print(f\"Original: {random_matrix}\")\n",
        "new_random = random_matrix.reshape(5, 2)\n",
        "print(f\"Reshape: {new_random}\")\n",
        "print(f\"Shape: {new_random.shape}\")"
      ],
      "metadata": {
        "id": "aJPjsUJ6iEhM",
        "colab": {
          "base_uri": "https://localhost:8080/"
        },
        "outputId": "b4f80f09-5392-41d7-f93c-df7c5d83329d"
      },
      "execution_count": null,
      "outputs": [
        {
          "output_type": "stream",
          "name": "stdout",
          "text": [
            "Original: [[5 5 6 1 8 9 5 8 7 4]]\n",
            "Reshape: [[5 5]\n",
            " [6 1]\n",
            " [8 9]\n",
            " [5 8]\n",
            " [7 4]]\n",
            "Shape: (5, 2)\n"
          ]
        }
      ]
    },
    {
      "cell_type": "markdown",
      "source": [
        "#Linear Algebra"
      ],
      "metadata": {
        "id": "ROZZWUm_sYc_"
      }
    },
    {
      "cell_type": "markdown",
      "source": [
        "One of the biggest advantage arrays have over lists is the ability to perform matrix operations, which are relevant in linear algebra and image processing. Let's go over some basic matrix operations.\n",
        "\n",
        "We learned in class that matrix operations such as \"+\", \"-\", \"*\", \"/\" can be used on a section of a matrix or the entire matrix to get a desired output. This can be done easily with NumPy arrays by using the operation directly to the matrix."
      ],
      "metadata": {
        "id": "MOJQs8AssbIG"
      }
    },
    {
      "cell_type": "code",
      "source": [
        "random_matrix = np.random.randint(9, size=(3, 3))\n",
        "print(f\"Original: {random_matrix}\")\n",
        "\n",
        "# Multiply entire matrix by 2\n",
        "result = random_matrix * 2\n",
        "print(f\"Result: {result}\")"
      ],
      "metadata": {
        "id": "GVfP6J2yuiDP",
        "colab": {
          "base_uri": "https://localhost:8080/"
        },
        "outputId": "d1ba1fbe-3b2d-406a-b0c1-c11a7fb1dff0"
      },
      "execution_count": null,
      "outputs": [
        {
          "output_type": "stream",
          "name": "stdout",
          "text": [
            "Original: [[7 1 8]\n",
            " [4 8 8]\n",
            " [2 1 4]]\n",
            "Result: [[14  2 16]\n",
            " [ 8 16 16]\n",
            " [ 4  2  8]]\n"
          ]
        }
      ]
    },
    {
      "cell_type": "code",
      "source": [
        "ones = np.ones(10)\n",
        "fives = ones + 5\n",
        "\n",
        "print(f\"Ones: {ones}\")\n",
        "print(f\"Fives: {fives}\")"
      ],
      "metadata": {
        "id": "Bx8Rh78mwh54",
        "colab": {
          "base_uri": "https://localhost:8080/"
        },
        "outputId": "45342550-2f27-44a5-eb1e-5010c5e76e93"
      },
      "execution_count": null,
      "outputs": [
        {
          "output_type": "stream",
          "name": "stdout",
          "text": [
            "Ones: [1. 1. 1. 1. 1. 1. 1. 1. 1. 1.]\n",
            "Fives: [6. 6. 6. 6. 6. 6. 6. 6. 6. 6.]\n"
          ]
        }
      ]
    },
    {
      "cell_type": "markdown",
      "source": [
        "Now that we have all the basics learned, we can move into some more advanced scenarios using arrays. One common scenario would be creating graphs from an array of numbers. The example below shows us how to create a sin graph with `np.sin()`.\n",
        "\n",
        "For `np.sin` we need to introduce `np.pi` which calls the attribute `pi` in the ndarray object. This value is the value of pi."
      ],
      "metadata": {
        "id": "OcDkSq5mqsVn"
      }
    },
    {
      "cell_type": "code",
      "source": [
        "import matplotlib.pyplot as plt\n",
        "\n",
        "array = np.arange(0, 5, 0.05)\n",
        "print(array)\n",
        "sine_graph = np.sin(array*np.pi)\n",
        "print(sine_graph)\n",
        "\n",
        "fig, ax = plt.subplots()\n",
        "ax.plot(array, sine_graph)\n",
        "ax.set_xlabel('seconds')\n",
        "ax.set_ylabel('sine wave')\n",
        "plt.show()"
      ],
      "metadata": {
        "id": "WsLQ7xlHq3iu",
        "colab": {
          "base_uri": "https://localhost:8080/",
          "height": 991
        },
        "outputId": "e989b2dd-5f85-4343-84fa-b25c4c7da2c3"
      },
      "execution_count": null,
      "outputs": [
        {
          "output_type": "stream",
          "name": "stdout",
          "text": [
            "[0.   0.05 0.1  0.15 0.2  0.25 0.3  0.35 0.4  0.45 0.5  0.55 0.6  0.65\n",
            " 0.7  0.75 0.8  0.85 0.9  0.95 1.   1.05 1.1  1.15 1.2  1.25 1.3  1.35\n",
            " 1.4  1.45 1.5  1.55 1.6  1.65 1.7  1.75 1.8  1.85 1.9  1.95 2.   2.05\n",
            " 2.1  2.15 2.2  2.25 2.3  2.35 2.4  2.45 2.5  2.55 2.6  2.65 2.7  2.75\n",
            " 2.8  2.85 2.9  2.95 3.   3.05 3.1  3.15 3.2  3.25 3.3  3.35 3.4  3.45\n",
            " 3.5  3.55 3.6  3.65 3.7  3.75 3.8  3.85 3.9  3.95 4.   4.05 4.1  4.15\n",
            " 4.2  4.25 4.3  4.35 4.4  4.45 4.5  4.55 4.6  4.65 4.7  4.75 4.8  4.85\n",
            " 4.9  4.95]\n",
            "[ 0.00000000e+00  1.56434465e-01  3.09016994e-01  4.53990500e-01\n",
            "  5.87785252e-01  7.07106781e-01  8.09016994e-01  8.91006524e-01\n",
            "  9.51056516e-01  9.87688341e-01  1.00000000e+00  9.87688341e-01\n",
            "  9.51056516e-01  8.91006524e-01  8.09016994e-01  7.07106781e-01\n",
            "  5.87785252e-01  4.53990500e-01  3.09016994e-01  1.56434465e-01\n",
            "  1.22464680e-16 -1.56434465e-01 -3.09016994e-01 -4.53990500e-01\n",
            " -5.87785252e-01 -7.07106781e-01 -8.09016994e-01 -8.91006524e-01\n",
            " -9.51056516e-01 -9.87688341e-01 -1.00000000e+00 -9.87688341e-01\n",
            " -9.51056516e-01 -8.91006524e-01 -8.09016994e-01 -7.07106781e-01\n",
            " -5.87785252e-01 -4.53990500e-01 -3.09016994e-01 -1.56434465e-01\n",
            " -2.44929360e-16  1.56434465e-01  3.09016994e-01  4.53990500e-01\n",
            "  5.87785252e-01  7.07106781e-01  8.09016994e-01  8.91006524e-01\n",
            "  9.51056516e-01  9.87688341e-01  1.00000000e+00  9.87688341e-01\n",
            "  9.51056516e-01  8.91006524e-01  8.09016994e-01  7.07106781e-01\n",
            "  5.87785252e-01  4.53990500e-01  3.09016994e-01  1.56434465e-01\n",
            "  3.67394040e-16 -1.56434465e-01 -3.09016994e-01 -4.53990500e-01\n",
            " -5.87785252e-01 -7.07106781e-01 -8.09016994e-01 -8.91006524e-01\n",
            " -9.51056516e-01 -9.87688341e-01 -1.00000000e+00 -9.87688341e-01\n",
            " -9.51056516e-01 -8.91006524e-01 -8.09016994e-01 -7.07106781e-01\n",
            " -5.87785252e-01 -4.53990500e-01 -3.09016994e-01 -1.56434465e-01\n",
            " -4.89858720e-16  1.56434465e-01  3.09016994e-01  4.53990500e-01\n",
            "  5.87785252e-01  7.07106781e-01  8.09016994e-01  8.91006524e-01\n",
            "  9.51056516e-01  9.87688341e-01  1.00000000e+00  9.87688341e-01\n",
            "  9.51056516e-01  8.91006524e-01  8.09016994e-01  7.07106781e-01\n",
            "  5.87785252e-01  4.53990500e-01  3.09016994e-01  1.56434465e-01]\n"
          ]
        },
        {
          "output_type": "display_data",
          "data": {
            "text/plain": [
              "<Figure size 640x480 with 1 Axes>"
            ],
            "image/png": "[encoded data removed]"
          },
          "metadata": {}
        }
      ]
    },
    {
      "cell_type": "markdown",
      "source": [
        "**Your Turn:** Now create a function that takes in 2 inputs: an amplitude and a vector of times. Use your function to plot ```cos(x), 2*cos(x),...10*cos(x)``` over the interval $x \\in [0,2 \\pi]$. Remember to call your function, save the result as a variable, and print the variable for grading."
      ],
      "metadata": {
        "id": "nZClZjLM0J4X"
      }
    },
    {
      "cell_type": "code",
      "source": [
        "def myFunc(amplitude, time):\n",
        "  return 0 #alter this to generate a function which returns a cosine function with arbitrary wavenumber\n",
        "\n",
        "# Make a bunch of plots\n",
        "for i in range(somenumber):\n",
        "  # do something\n",
        "  print(0)"
      ],
      "metadata": {
        "id": "V5z1h8EBMyqG"
      },
      "execution_count": null,
      "outputs": []
    },
    {
      "cell_type": "markdown",
      "source": [
        "NumPy arrays can also perform matrix multiplication or the dot product for linear algebra. Review the example below."
      ],
      "metadata": {
        "id": "FdBqTEKm1R27"
      }
    },
    {
      "cell_type": "code",
      "source": [
        "ones = np.array([[2, 2], [2, 2]])\n",
        "twos = np.array([[3, 3], [3, 3]])\n",
        "\n",
        "print(np.dot(ones , twos))"
      ],
      "metadata": {
        "id": "IuEdVBqStc-f",
        "colab": {
          "base_uri": "https://localhost:8080/"
        },
        "outputId": "3b17015a-c3da-46b8-d84d-36732239db5a"
      },
      "execution_count": null,
      "outputs": [
        {
          "output_type": "stream",
          "name": "stdout",
          "text": [
            "[[12 12]\n",
            " [12 12]]\n",
            "[[12 12]\n",
            " [12 12]]\n"
          ]
        }
      ]
    },
    {
      "cell_type": "markdown",
      "source": [
        "#Indexing NumPy Arrays"
      ],
      "metadata": {
        "id": "mAJylbn41EKe"
      }
    },
    {
      "cell_type": "markdown",
      "source": [
        "The last important topic to review regarding NumPy Arrays is indexing and slicing. Similar to lists, you can index or slice an array by using square brackets `[]`.\n",
        "\n",
        "The important thing to note is the dimension of the array.\n",
        "1. Index the dimension n (if any).\n",
        "1. Index the dimesnion n - 1\n",
        "1. ...\n",
        "1. Index the row.\n",
        "1. Index the column.\n",
        "\n",
        "Let's go through a 1d, 2d, and 3d array example of indexing."
      ],
      "metadata": {
        "id": "DYaFRD4G1EQQ"
      }
    },
    {
      "cell_type": "code",
      "source": [
        "rand_1d_array = np.random.randint(7, size=(1, 10))\n",
        "\n",
        "# Get the 2nd element in the 1d array\n",
        "element_2 = rand_1d_array[0,1]\n",
        "element_3= rand_1d_array[0][1]\n",
        "\n",
        "print(rand_1d_array)\n",
        "print(element_2)\n",
        "print(element_3)"
      ],
      "metadata": {
        "id": "PuYp-1_s2bhf",
        "colab": {
          "base_uri": "https://localhost:8080/"
        },
        "outputId": "b9fa8dda-215b-4f34-d387-13e125d3fbbc"
      },
      "execution_count": null,
      "outputs": [
        {
          "output_type": "stream",
          "name": "stdout",
          "text": [
            "[[1 6 1 2 5 5 6 6 5 5]]\n",
            "6\n",
            "6\n"
          ]
        }
      ]
    },
    {
      "cell_type": "code",
      "source": [
        "rand_2d_array = np.random.randint(7, size=(2, 10))\n",
        "\n",
        "# Get the 2nd element in the first row.\n",
        "element_2 = rand_2d_array[0, 1]\n",
        "\n",
        "print(rand_2d_array)\n",
        "print(element_2)"
      ],
      "metadata": {
        "id": "smcBZpTe4ZDX",
        "colab": {
          "base_uri": "https://localhost:8080/"
        },
        "outputId": "a25ceeee-b928-49c0-bad2-782d3bffbff4"
      },
      "execution_count": null,
      "outputs": [
        {
          "output_type": "stream",
          "name": "stdout",
          "text": [
            "[[3 6 6 1 5 2 2 1 6 5]\n",
            " [2 3 3 4 4 5 3 0 3 6]]\n",
            "6\n"
          ]
        }
      ]
    },
    {
      "cell_type": "code",
      "source": [
        "rand_3d_array = np.random.randint(7, size=(3, 2, 10))\n",
        "\n",
        "# Get the 2nd element in the 2nd row in the 1st matrix\n",
        "element_2 = rand_3d_array[0, 1, 1]\n",
        "\n",
        "print(rand_3d_array)\n",
        "print(element_2)"
      ],
      "metadata": {
        "id": "6sVtoYMH40cg",
        "colab": {
          "base_uri": "https://localhost:8080/"
        },
        "outputId": "51ada7e2-23c5-465f-e3b9-d1a48a70343b"
      },
      "execution_count": null,
      "outputs": [
        {
          "output_type": "stream",
          "name": "stdout",
          "text": [
            "[[[1 4 1 2 2 4 4 2 4 4]\n",
            "  [2 1 0 1 3 6 4 3 0 6]]\n",
            "\n",
            " [[5 5 2 2 5 0 6 3 1 5]\n",
            "  [1 6 4 2 2 4 2 4 0 5]]\n",
            "\n",
            " [[3 4 2 1 1 5 3 2 6 3]\n",
            "  [4 1 1 5 5 5 5 6 3 4]]]\n",
            "1\n"
          ]
        }
      ]
    },
    {
      "cell_type": "markdown",
      "source": [
        "Now let's see how we can get a section of an array with the examples below:"
      ],
      "metadata": {
        "id": "sh3hgcHz5ieI"
      }
    },
    {
      "cell_type": "code",
      "source": [
        "rand_2d_array = np.random.randint(7, size=(2, 10))\n",
        "\n",
        "# Get the 5th, 6th, and 7th element of the first row\n",
        "section = rand_2d_array[0, 4:7]\n",
        "\n",
        "print(rand_2d_array)\n",
        "print(section)"
      ],
      "metadata": {
        "id": "KIc4W1s67qKw",
        "colab": {
          "base_uri": "https://localhost:8080/"
        },
        "outputId": "539421c5-1500-49af-90ea-dfcb583dccbd"
      },
      "execution_count": null,
      "outputs": [
        {
          "output_type": "stream",
          "name": "stdout",
          "text": [
            "[[5 6 1 3 5 3 3 4 5 1]\n",
            " [5 0 3 5 0 5 6 6 1 3]]\n",
            "[5 3 3]\n"
          ]
        }
      ]
    },
    {
      "cell_type": "code",
      "source": [
        "rand_3d_array = np.random.randint(7, size=(3, 2, 10))\n",
        "\n",
        "# Get the 3rd, 4th, and 5th element of the first and second row of the first matrix.\n",
        "section = rand_3d_array[0, 0:2, 2:5]\n",
        "\n",
        "print(rand_3d_array)\n",
        "print(section)"
      ],
      "metadata": {
        "id": "Fm9tJ3Ep8IVw",
        "colab": {
          "base_uri": "https://localhost:8080/"
        },
        "outputId": "4336c3cc-48d3-4e3a-bbb4-416628f6582f"
      },
      "execution_count": null,
      "outputs": [
        {
          "output_type": "stream",
          "name": "stdout",
          "text": [
            "[[[3 0 6 2 0 6 0 5 2 3]\n",
            "  [4 3 3 3 5 5 6 6 1 1]]\n",
            "\n",
            " [[2 1 6 6 0 5 6 0 3 3]\n",
            "  [3 4 5 6 3 1 6 3 6 4]]\n",
            "\n",
            " [[2 2 0 4 2 5 6 1 4 6]\n",
            "  [4 1 1 4 5 4 6 3 1 3]]]\n",
            "[[6 2 0]\n",
            " [3 3 5]]\n"
          ]
        }
      ]
    },
    {
      "cell_type": "markdown",
      "source": [
        "You can retrieve the entire row or column of a matrix using `:`."
      ],
      "metadata": {
        "id": "GnQOkRin8o1A"
      }
    },
    {
      "cell_type": "code",
      "source": [
        "rand_2d_array = np.random.randint(7, size=(2, 10))\n",
        "\n",
        "# Get entire 1st row\n",
        "all_row = rand_2d_array[0, :]\n",
        "\n",
        "# Get entire 5th colomn\n",
        "all_column = rand_2d_array[:, 4]\n",
        "\n",
        "print(rand_2d_array)\n",
        "print(f\"1st Row: {all_row}\")\n",
        "print(f\"5th Column: {all_column}\")"
      ],
      "metadata": {
        "id": "a1boGZdS81DH",
        "colab": {
          "base_uri": "https://localhost:8080/"
        },
        "outputId": "9785aa84-d26a-4329-98f2-11d4946d1bc0"
      },
      "execution_count": null,
      "outputs": [
        {
          "output_type": "stream",
          "name": "stdout",
          "text": [
            "[[0 0 1 1 2 5 0 4 0 0]\n",
            " [4 2 0 2 4 3 0 6 3 2]]\n",
            "1st Row: [0 0 1 1 2 5 0 4 0 0]\n",
            "5th Column: [2 4]\n"
          ]
        }
      ]
    },
    {
      "cell_type": "markdown",
      "source": [
        "Lastly, you can replace values in a matrix with indexing."
      ],
      "metadata": {
        "id": "UVr0uLEG_M5p"
      }
    },
    {
      "cell_type": "code",
      "source": [
        "ones = np.array([np.ones(5), np.ones(5)])\n",
        "print(f\"Original ones:\\n {ones}\\n\")\n",
        "\n",
        "ones[:, 1:4] *= 3\n",
        "print(f\"New ones:\\n {ones}\")"
      ],
      "metadata": {
        "id": "E1akGOKD_PpN",
        "colab": {
          "base_uri": "https://localhost:8080/"
        },
        "outputId": "57623bc6-7701-40bc-c4ba-1d85490fb915"
      },
      "execution_count": null,
      "outputs": [
        {
          "output_type": "stream",
          "name": "stdout",
          "text": [
            "Original ones:\n",
            " [[1. 1. 1. 1. 1.]\n",
            " [1. 1. 1. 1. 1.]]\n",
            "\n",
            "New ones:\n",
            " [[1. 3. 3. 3. 1.]\n",
            " [1. 3. 3. 3. 1.]]\n"
          ]
        }
      ]
    },
    {
      "cell_type": "markdown",
      "source": [
        "**Your Turn** Create a function called swirl that does the following:\n",
        "\n",
        "1. Create a 5 x 5 matrix of a specific number given to the function (e.g. swirl(5, ...) will create a 5 x 5 matrix of 5s).\n",
        "1. Create a 3 x 3 matrix of a specific number given to the same function (e.g. swirl(5, 2) will create a 5 x 5 matrix of 3s and a 3 x 3 matrix of 2s).\n",
        "1. Replace the center value of the 3 x 3 matrix with a 0.\n",
        "1. Using indexing, replace the middle of the 5 x 5 matrix with the new 3 x 3 matrix.\n",
        "1. return the final swirled matrix.\n",
        "\n",
        "The final result should look something like this:\n",
        "\n",
        "[5, 5, 5, 5, 5]\n",
        "\n",
        "[5, 2, 2, 2, 5]\n",
        "\n",
        "[5, 2, 0, 2, 5]\n",
        "\n",
        "[5, 2, 2, 2, 5]\n",
        "\n",
        "[5, 5, 5, 5, 5]\n",
        "\n",
        "Remember to call your function to print your result for grading. Do this using np.ones and matrix indexing and without setting individual entries - no for loops allowed!"
      ],
      "metadata": {
        "id": "aZgfAW659dCB"
      }
    },
    {
      "cell_type": "markdown",
      "source": [
        "#Image Processing"
      ],
      "metadata": {
        "id": "olgye0R7pQcm"
      }
    },
    {
      "cell_type": "markdown",
      "source": [
        "Last part of this lecture that highlights one of the key benefits behind arrays is the ability to edit images because an image is a matrix of numbers, typically ranging from 0-255 for 3 primary colors: red, green, blue. Images are typically represented as 3d matrices. Let's get an image and start editing it.\n",
        "\n",
        "To import an image, we will use `from skimage import io`\n",
        "\n",
        "Notice this is a `numpy.ndarray` object, which means we can alter this image with the knowledge we learned from this module.\n",
        "\n",
        "Also notice the dimension and shape of this array."
      ],
      "metadata": {
        "id": "PPO-bg5wpVP-"
      }
    },
    {
      "cell_type": "code",
      "source": [
        "from skimage import io\n",
        "import matplotlib.pyplot as plt\n",
        "\n",
        "photo = io.imread('https://media.istockphoto.com/id/885449184/photo/philadelphia-pennsylvania-usa.jpg?s=612x612&w=0&k=20&c=qSQqQDvI5Vhdlg20i8XeDL0qTF21_HbPfGCiZH3F-dQ=')\n",
        "plt.imshow(photo)\n",
        "print(type(photo))"
      ],
      "metadata": {
        "id": "HBpnkM4LA0f5"
      },
      "execution_count": null,
      "outputs": []
    },
    {
      "cell_type": "code",
      "source": [
        "print(photo)"
      ],
      "metadata": {
        "id": "TcKNZO-JlKtL"
      },
      "execution_count": null,
      "outputs": []
    },
    {
      "cell_type": "markdown",
      "source": [
        "You can also flip your image by altering your rows and columns. Use either `np.flipud` for a vertical flip or `np.fliplr` for a horizontal flip."
      ],
      "metadata": {
        "id": "LoRzLx4KI0Mb"
      }
    },
    {
      "cell_type": "code",
      "source": [
        "flip_vertical = np.flipud(photo)\n",
        "plt.imshow(flip_vertical)"
      ],
      "metadata": {
        "id": "VyMwbnq2Htuo"
      },
      "execution_count": null,
      "outputs": []
    },
    {
      "cell_type": "code",
      "source": [
        "flip_horizontal = np.fliplr(photo)\n",
        "plt.imshow(flip_horizontal)"
      ],
      "metadata": {
        "id": "s-ZvzgRQKZ8S"
      },
      "execution_count": null,
      "outputs": []
    },
    {
      "cell_type": "markdown",
      "source": [
        "**Your Turn**\n",
        "\n",
        "Create a function that does the following and call it image_processing(photo). This function will return the final image.\n",
        "1. Find the dimension and shape of this image.\n",
        "1. Crop the image to a [0:300] x [0:400] image.\n",
        "1. Plot your new image.\n",
        "1. Flip your image horizontally.\n",
        "1. Flip your image vertically.\n",
        "1. Make the red matrix all zeros.\n",
        "1. Plot new image."
      ],
      "metadata": {
        "id": "BTxLPAKUGZos"
      }
    },
    {
      "cell_type": "markdown",
      "source": [
        "#**Turning in assignments on Canvas**#\n",
        "\n",
        "In order to submit your assignment as a pair, you need to create a group on Canvas. This will enable you to both receive the same grade for one submission.\n",
        "1. On Canvas, navigate to `People > Groups > In-Class 07`.\n",
        "1. Find an empty group and add the names of both members of the pair.\n",
        "\n",
        "\n",
        "Submit your work as both an ipynb and a pdf to Canvas.\n",
        "1. Click on `File > Download .ipynb` to download the ipynb file. Do NOT clear your outputs before doing this step.\n",
        "1. Click on `File > Print` to print the notebook to a pdf. This is a backup for the graders in case we are not able to access or run your ipynb during grading.\n",
        "1. On Canvas, navigate to the relevant assignment and attach both the ipynb and pdf files to your submission.\n",
        "1. The student who did not submit should make sure that the group was created successfully by checking that they can also access the files on their Canvas page."
      ],
      "metadata": {
        "id": "k6vhGezQdNgh"
      }
    },
    {
      "cell_type": "code",
      "source": [],
      "metadata": {
        "id": "X9dpSUukO7L6"
      },
      "execution_count": null,
      "outputs": []
    }
  ]
}